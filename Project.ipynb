{
 "cells": [
  {
   "cell_type": "code",
   "execution_count": 207,
   "metadata": {},
   "outputs": [],
   "source": [
    "## importing libraries \n",
    "import pandas as pd\n",
    "import numpy as np\n",
    "import matplotlib.pyplot as plt\n",
    "import seaborn as sns\n",
    "from collections import Counter\n",
    "import os"
   ]
  },
  {
   "cell_type": "code",
   "execution_count": 208,
   "metadata": {},
   "outputs": [],
   "source": [
    "## Loading data\n",
    "\n",
    "path=(r'C:\\Users\\kkbal\\Downloads\\aclImdb')\n",
    "\n",
    "def load_imdb(path):\n",
    "    imdb_path= os.path.join(path,'aclImdb')\n",
    "    train_text=[]\n",
    "    train_label=[]\n",
    "    test_label=[]\n",
    "    test_text=[]\n",
    "    \n",
    "    for dset in ['train', 'test']:\n",
    "        for cat in ['pos', 'neg']:\n",
    "            dset_path = os.path.join(imdb_path, dset, cat)\n",
    "            for fname in sorted(os.listdir(dset_path)):\n",
    "                if fname.endswith('.txt'):\n",
    "                    with open(os.path.join(dset_path, fname),encoding=\"utf8\") as f:\n",
    "                        if dset == 'train': train_text.append(f.read())\n",
    "                        else: test_text.append(f.read())\n",
    "                    label = 0 if cat == 'neg' else 1\n",
    "                    if dset == 'train': train_label.append(label)\n",
    "                    else: test_label.append(label)                      \n",
    "                    \n",
    "    return train_text, train_label,test_label,test_text"
   ]
  },
  {
   "cell_type": "code",
   "execution_count": 209,
   "metadata": {},
   "outputs": [],
   "source": [
    "## Splitting the data\n",
    "\n",
    "tr_x,tr_y,ts_x,ts_y=load_imdb(path)"
   ]
  },
  {
   "cell_type": "code",
   "execution_count": 211,
   "metadata": {},
   "outputs": [],
   "source": [
    "## converting to array for shuffling\n",
    "tr_x=np.array(tr_x)\n",
    "tr_y=np.array(tr_y)\n",
    "ts_x=np.array(ts_x)\n",
    "ts_y=np.array(ts_y)\n",
    "\n",
    "\n",
    "## shuffling the data\n",
    "def shuffle(x,y):\n",
    "    prem=np.random.permutation(len(x))\n",
    "    x=x[prem]\n",
    "    y=y[prem]\n",
    "    \n",
    "    return pd.DataFrame(x,y)"
   ]
  },
  {
   "cell_type": "code",
   "execution_count": 212,
   "metadata": {},
   "outputs": [],
   "source": [
    "train_df=shuffle(tr_x,tr_y)\n",
    "\n",
    "train_df=train_df.reset_index()\n",
    "\n",
    "train_df=train_df.rename(columns={'index':'Label',0:'Review'})"
   ]
  },
  {
   "cell_type": "code",
   "execution_count": 213,
   "metadata": {},
   "outputs": [],
   "source": [
    "test_df=shuffle(tr_x,tr_y)\n",
    "\n",
    "test_df=test_df.reset_index()\n",
    "\n",
    "test_df=test_df.rename(columns={'index':'Label',0:'Review'})"
   ]
  },
  {
   "cell_type": "code",
   "execution_count": 214,
   "metadata": {},
   "outputs": [
    {
     "data": {
      "text/plain": [
       "(12500, 12500)"
      ]
     },
     "execution_count": 214,
     "metadata": {},
     "output_type": "execute_result"
    }
   ],
   "source": [
    "## Number of postive and negative reviews\n",
    "postive_reviews=len(train_df[train_df['Label']==1])\n",
    "negative_reviews=len(train_df[train_df['Label']==0])\n",
    "postive_reviews,negative_reviews"
   ]
  },
  {
   "cell_type": "code",
   "execution_count": 215,
   "metadata": {},
   "outputs": [
    {
     "name": "stdout",
     "output_type": "stream",
     "text": [
      "<class 'pandas.core.frame.DataFrame'>\n",
      "RangeIndex: 25000 entries, 0 to 24999\n",
      "Data columns (total 2 columns):\n",
      "Label     25000 non-null int64\n",
      "Review    25000 non-null object\n",
      "dtypes: int64(1), object(1)\n",
      "memory usage: 390.8+ KB\n"
     ]
    }
   ],
   "source": [
    "train_df.info()"
   ]
  },
  {
   "cell_type": "code",
   "execution_count": 9,
   "metadata": {},
   "outputs": [
    {
     "data": {
      "text/plain": [
       "Label  Label\n",
       "0      0        12500\n",
       "1      1        12500\n",
       "Name: Label, dtype: int64"
      ]
     },
     "execution_count": 9,
     "metadata": {},
     "output_type": "execute_result"
    }
   ],
   "source": [
    "train_df.groupby('Label').Label.value_counts()"
   ]
  },
  {
   "cell_type": "code",
   "execution_count": 216,
   "metadata": {},
   "outputs": [
    {
     "data": {
      "text/html": [
       "<div>\n",
       "<style scoped>\n",
       "    .dataframe tbody tr th:only-of-type {\n",
       "        vertical-align: middle;\n",
       "    }\n",
       "\n",
       "    .dataframe tbody tr th {\n",
       "        vertical-align: top;\n",
       "    }\n",
       "\n",
       "    .dataframe thead th {\n",
       "        text-align: right;\n",
       "    }\n",
       "</style>\n",
       "<table border=\"1\" class=\"dataframe\">\n",
       "  <thead>\n",
       "    <tr style=\"text-align: right;\">\n",
       "      <th></th>\n",
       "      <th>Label</th>\n",
       "      <th>Review</th>\n",
       "      <th>Review_pre_process</th>\n",
       "    </tr>\n",
       "  </thead>\n",
       "  <tbody>\n",
       "    <tr>\n",
       "      <td>0</td>\n",
       "      <td>0</td>\n",
       "      <td>I've seen the first of the dwarf-Movies and sometimes I had little fun watching it. There are ma...</td>\n",
       "      <td>Ive seen the first of the dwarfMovies and sometimes I had little fun watching it There are many ...</td>\n",
       "    </tr>\n",
       "    <tr>\n",
       "      <td>1</td>\n",
       "      <td>0</td>\n",
       "      <td>This movie could have been so much better with a script rewrite. Not that I expect a great deal ...</td>\n",
       "      <td>This movie could have been so much better with a script rewrite Not that I expect a great deal o...</td>\n",
       "    </tr>\n",
       "    <tr>\n",
       "      <td>2</td>\n",
       "      <td>1</td>\n",
       "      <td>I really liked this version of 'Vanishing Point' as opposed to the 1971 version. I found the 197...</td>\n",
       "      <td>I really liked this version of Vanishing Point as opposed to the 1971 version I found the 1971 v...</td>\n",
       "    </tr>\n",
       "    <tr>\n",
       "      <td>3</td>\n",
       "      <td>0</td>\n",
       "      <td>Two years ago at Sundance I loved Josh Kornbluth's directing debut-Haiku Tunnel. So I was lookin...</td>\n",
       "      <td>Two years ago at Sundance I loved Josh Kornbluths directing debutHaiku Tunnel So I was looking f...</td>\n",
       "    </tr>\n",
       "    <tr>\n",
       "      <td>4</td>\n",
       "      <td>0</td>\n",
       "      <td>i got a copy from the writer of this movie on soulseek. I have to say it is pathetic and just pl...</td>\n",
       "      <td>i got a copy from the writer of this movie on soulseek I have to say it is pathetic and just pla...</td>\n",
       "    </tr>\n",
       "    <tr>\n",
       "      <td>...</td>\n",
       "      <td>...</td>\n",
       "      <td>...</td>\n",
       "      <td>...</td>\n",
       "    </tr>\n",
       "    <tr>\n",
       "      <td>24995</td>\n",
       "      <td>0</td>\n",
       "      <td>I can see the guys doing the budget preparation for this flick. \"Well lets see now, we spend 50%...</td>\n",
       "      <td>I can see the guys doing the budget preparation for this flick Well lets see now we spend 50 get...</td>\n",
       "    </tr>\n",
       "    <tr>\n",
       "      <td>24996</td>\n",
       "      <td>1</td>\n",
       "      <td>A flying saucer manned (literally) by a crew of about 20 male space explorers travels hundreds o...</td>\n",
       "      <td>A flying saucer manned literally by a crew of about 20 male space explorers travels hundreds of ...</td>\n",
       "    </tr>\n",
       "    <tr>\n",
       "      <td>24997</td>\n",
       "      <td>1</td>\n",
       "      <td>I've seen a slew of \"80s rocker horrors\" over the years, from rubbish like \"Terror on Tour\" to r...</td>\n",
       "      <td>Ive seen a slew of 80s rocker horrors over the years from rubbish like Terror on Tour to ridicul...</td>\n",
       "    </tr>\n",
       "    <tr>\n",
       "      <td>24998</td>\n",
       "      <td>1</td>\n",
       "      <td>One thing i can say about this movie is well long, VERY LONG! I actually recently purchased this...</td>\n",
       "      <td>One thing i can say about this movie is well long VERY LONG I actually recently purchased this m...</td>\n",
       "    </tr>\n",
       "    <tr>\n",
       "      <td>24999</td>\n",
       "      <td>0</td>\n",
       "      <td>'Ninteen Eighty-Four' is a film about a futuristic society in which the government controls ever...</td>\n",
       "      <td>Ninteen EightyFour is a film about a futuristic society in which the government controls everyth...</td>\n",
       "    </tr>\n",
       "  </tbody>\n",
       "</table>\n",
       "<p>25000 rows × 3 columns</p>\n",
       "</div>"
      ],
      "text/plain": [
       "       Label  \\\n",
       "0          0   \n",
       "1          0   \n",
       "2          1   \n",
       "3          0   \n",
       "4          0   \n",
       "...      ...   \n",
       "24995      0   \n",
       "24996      1   \n",
       "24997      1   \n",
       "24998      1   \n",
       "24999      0   \n",
       "\n",
       "                                                                                                    Review  \\\n",
       "0      I've seen the first of the dwarf-Movies and sometimes I had little fun watching it. There are ma...   \n",
       "1      This movie could have been so much better with a script rewrite. Not that I expect a great deal ...   \n",
       "2      I really liked this version of 'Vanishing Point' as opposed to the 1971 version. I found the 197...   \n",
       "3      Two years ago at Sundance I loved Josh Kornbluth's directing debut-Haiku Tunnel. So I was lookin...   \n",
       "4      i got a copy from the writer of this movie on soulseek. I have to say it is pathetic and just pl...   \n",
       "...                                                                                                    ...   \n",
       "24995  I can see the guys doing the budget preparation for this flick. \"Well lets see now, we spend 50%...   \n",
       "24996  A flying saucer manned (literally) by a crew of about 20 male space explorers travels hundreds o...   \n",
       "24997  I've seen a slew of \"80s rocker horrors\" over the years, from rubbish like \"Terror on Tour\" to r...   \n",
       "24998  One thing i can say about this movie is well long, VERY LONG! I actually recently purchased this...   \n",
       "24999  'Ninteen Eighty-Four' is a film about a futuristic society in which the government controls ever...   \n",
       "\n",
       "                                                                                        Review_pre_process  \n",
       "0      Ive seen the first of the dwarfMovies and sometimes I had little fun watching it There are many ...  \n",
       "1      This movie could have been so much better with a script rewrite Not that I expect a great deal o...  \n",
       "2      I really liked this version of Vanishing Point as opposed to the 1971 version I found the 1971 v...  \n",
       "3      Two years ago at Sundance I loved Josh Kornbluths directing debutHaiku Tunnel So I was looking f...  \n",
       "4      i got a copy from the writer of this movie on soulseek I have to say it is pathetic and just pla...  \n",
       "...                                                                                                    ...  \n",
       "24995  I can see the guys doing the budget preparation for this flick Well lets see now we spend 50 get...  \n",
       "24996  A flying saucer manned literally by a crew of about 20 male space explorers travels hundreds of ...  \n",
       "24997  Ive seen a slew of 80s rocker horrors over the years from rubbish like Terror on Tour to ridicul...  \n",
       "24998  One thing i can say about this movie is well long VERY LONG I actually recently purchased this m...  \n",
       "24999  Ninteen EightyFour is a film about a futuristic society in which the government controls everyth...  \n",
       "\n",
       "[25000 rows x 3 columns]"
      ]
     },
     "execution_count": 216,
     "metadata": {},
     "output_type": "execute_result"
    }
   ],
   "source": [
    "## Removing punctuation \n",
    "import string\n",
    "string.punctuation\n",
    "\n",
    "def remove_punct(words):\n",
    "    text=''.join([word for word in words if word not in string.punctuation])\n",
    "    return text\n",
    "\n",
    "train_df['Review_pre_process']=train_df['Review'].apply(lambda x:remove_punct(x))\n",
    "train_df"
   ]
  },
  {
   "cell_type": "code",
   "execution_count": 217,
   "metadata": {},
   "outputs": [
    {
     "data": {
      "text/html": [
       "<div>\n",
       "<style scoped>\n",
       "    .dataframe tbody tr th:only-of-type {\n",
       "        vertical-align: middle;\n",
       "    }\n",
       "\n",
       "    .dataframe tbody tr th {\n",
       "        vertical-align: top;\n",
       "    }\n",
       "\n",
       "    .dataframe thead th {\n",
       "        text-align: right;\n",
       "    }\n",
       "</style>\n",
       "<table border=\"1\" class=\"dataframe\">\n",
       "  <thead>\n",
       "    <tr style=\"text-align: right;\">\n",
       "      <th></th>\n",
       "      <th>Label</th>\n",
       "      <th>Review</th>\n",
       "      <th>Review_pre_process</th>\n",
       "    </tr>\n",
       "  </thead>\n",
       "  <tbody>\n",
       "    <tr>\n",
       "      <td>0</td>\n",
       "      <td>0</td>\n",
       "      <td>What a joke. I am watching it on Channel 1 and I think watching paint dry is much more entertain...</td>\n",
       "      <td>What a joke I am watching it on Channel 1 and I think watching paint dry is much more entertaini...</td>\n",
       "    </tr>\n",
       "    <tr>\n",
       "      <td>1</td>\n",
       "      <td>0</td>\n",
       "      <td>I was duped into seeing this movie after reading a positive review from another website and man ...</td>\n",
       "      <td>I was duped into seeing this movie after reading a positive review from another website and man ...</td>\n",
       "    </tr>\n",
       "    <tr>\n",
       "      <td>2</td>\n",
       "      <td>0</td>\n",
       "      <td>Joe Don Baker is an alright to good actor in small roles here and there...he was alright in Gold...</td>\n",
       "      <td>Joe Don Baker is an alright to good actor in small roles here and therehe was alright in Goldene...</td>\n",
       "    </tr>\n",
       "    <tr>\n",
       "      <td>3</td>\n",
       "      <td>0</td>\n",
       "      <td>After reading the previous comments, I'm just glad that I wasn't the only person left confused, ...</td>\n",
       "      <td>After reading the previous comments Im just glad that I wasnt the only person left confused espe...</td>\n",
       "    </tr>\n",
       "    <tr>\n",
       "      <td>4</td>\n",
       "      <td>0</td>\n",
       "      <td>Twist endings can be really cool in a movie. It's especially interesting when the twist is right...</td>\n",
       "      <td>Twist endings can be really cool in a movie Its especially interesting when the twist is right i...</td>\n",
       "    </tr>\n",
       "    <tr>\n",
       "      <td>...</td>\n",
       "      <td>...</td>\n",
       "      <td>...</td>\n",
       "      <td>...</td>\n",
       "    </tr>\n",
       "    <tr>\n",
       "      <td>24995</td>\n",
       "      <td>1</td>\n",
       "      <td>We toss around the term \"superstar\" way too lightly these days, but here's one guy that truly de...</td>\n",
       "      <td>We toss around the term superstar way too lightly these days but heres one guy that truly deserv...</td>\n",
       "    </tr>\n",
       "    <tr>\n",
       "      <td>24996</td>\n",
       "      <td>0</td>\n",
       "      <td>DR. SEUSS' HOW THE GRINCH STOLE CHRISTMAS / (2000) ** (out of four)&lt;br /&gt;&lt;br /&gt;If you desire to ...</td>\n",
       "      <td>DR SEUSS HOW THE GRINCH STOLE CHRISTMAS  2000  out of fourbr br If you desire to see a holiday m...</td>\n",
       "    </tr>\n",
       "    <tr>\n",
       "      <td>24997</td>\n",
       "      <td>0</td>\n",
       "      <td>The only redeeming quality of this movie is that it was bad enough to be comedic. Everyone in th...</td>\n",
       "      <td>The only redeeming quality of this movie is that it was bad enough to be comedic Everyone in thi...</td>\n",
       "    </tr>\n",
       "    <tr>\n",
       "      <td>24998</td>\n",
       "      <td>0</td>\n",
       "      <td>There is no story! The plot is hopeless! A filmed based on a car with a stuck accelerator, no br...</td>\n",
       "      <td>There is no story The plot is hopeless A filmed based on a car with a stuck accelerator no brake...</td>\n",
       "    </tr>\n",
       "    <tr>\n",
       "      <td>24999</td>\n",
       "      <td>0</td>\n",
       "      <td>### Spoilers! ### &lt;br /&gt;&lt;br /&gt;What is this movie offering? Out of control editing and cinematogr...</td>\n",
       "      <td>Spoilers  br br What is this movie offering Out of control editing and cinematography that matc...</td>\n",
       "    </tr>\n",
       "  </tbody>\n",
       "</table>\n",
       "<p>25000 rows × 3 columns</p>\n",
       "</div>"
      ],
      "text/plain": [
       "       Label  \\\n",
       "0          0   \n",
       "1          0   \n",
       "2          0   \n",
       "3          0   \n",
       "4          0   \n",
       "...      ...   \n",
       "24995      1   \n",
       "24996      0   \n",
       "24997      0   \n",
       "24998      0   \n",
       "24999      0   \n",
       "\n",
       "                                                                                                    Review  \\\n",
       "0      What a joke. I am watching it on Channel 1 and I think watching paint dry is much more entertain...   \n",
       "1      I was duped into seeing this movie after reading a positive review from another website and man ...   \n",
       "2      Joe Don Baker is an alright to good actor in small roles here and there...he was alright in Gold...   \n",
       "3      After reading the previous comments, I'm just glad that I wasn't the only person left confused, ...   \n",
       "4      Twist endings can be really cool in a movie. It's especially interesting when the twist is right...   \n",
       "...                                                                                                    ...   \n",
       "24995  We toss around the term \"superstar\" way too lightly these days, but here's one guy that truly de...   \n",
       "24996  DR. SEUSS' HOW THE GRINCH STOLE CHRISTMAS / (2000) ** (out of four)<br /><br />If you desire to ...   \n",
       "24997  The only redeeming quality of this movie is that it was bad enough to be comedic. Everyone in th...   \n",
       "24998  There is no story! The plot is hopeless! A filmed based on a car with a stuck accelerator, no br...   \n",
       "24999  ### Spoilers! ### <br /><br />What is this movie offering? Out of control editing and cinematogr...   \n",
       "\n",
       "                                                                                        Review_pre_process  \n",
       "0      What a joke I am watching it on Channel 1 and I think watching paint dry is much more entertaini...  \n",
       "1      I was duped into seeing this movie after reading a positive review from another website and man ...  \n",
       "2      Joe Don Baker is an alright to good actor in small roles here and therehe was alright in Goldene...  \n",
       "3      After reading the previous comments Im just glad that I wasnt the only person left confused espe...  \n",
       "4      Twist endings can be really cool in a movie Its especially interesting when the twist is right i...  \n",
       "...                                                                                                    ...  \n",
       "24995  We toss around the term superstar way too lightly these days but heres one guy that truly deserv...  \n",
       "24996  DR SEUSS HOW THE GRINCH STOLE CHRISTMAS  2000  out of fourbr br If you desire to see a holiday m...  \n",
       "24997  The only redeeming quality of this movie is that it was bad enough to be comedic Everyone in thi...  \n",
       "24998  There is no story The plot is hopeless A filmed based on a car with a stuck accelerator no brake...  \n",
       "24999   Spoilers  br br What is this movie offering Out of control editing and cinematography that matc...  \n",
       "\n",
       "[25000 rows x 3 columns]"
      ]
     },
     "execution_count": 217,
     "metadata": {},
     "output_type": "execute_result"
    }
   ],
   "source": [
    "test_df['Review_pre_process']=test_df['Review'].apply(lambda x:remove_punct(x))\n",
    "test_df"
   ]
  },
  {
   "cell_type": "code",
   "execution_count": 218,
   "metadata": {},
   "outputs": [
    {
     "data": {
      "text/html": [
       "<div>\n",
       "<style scoped>\n",
       "    .dataframe tbody tr th:only-of-type {\n",
       "        vertical-align: middle;\n",
       "    }\n",
       "\n",
       "    .dataframe tbody tr th {\n",
       "        vertical-align: top;\n",
       "    }\n",
       "\n",
       "    .dataframe thead th {\n",
       "        text-align: right;\n",
       "    }\n",
       "</style>\n",
       "<table border=\"1\" class=\"dataframe\">\n",
       "  <thead>\n",
       "    <tr style=\"text-align: right;\">\n",
       "      <th></th>\n",
       "      <th>Label</th>\n",
       "      <th>Review</th>\n",
       "      <th>Review_pre_process</th>\n",
       "      <th>Review_stop</th>\n",
       "    </tr>\n",
       "  </thead>\n",
       "  <tbody>\n",
       "    <tr>\n",
       "      <td>0</td>\n",
       "      <td>0</td>\n",
       "      <td>I've seen the first of the dwarf-Movies and sometimes I had little fun watching it. There are ma...</td>\n",
       "      <td>Ive seen the first of the dwarfMovies and sometimes I had little fun watching it There are many ...</td>\n",
       "      <td>Ive een he fr f he wrfMve n ee I h lle fun wchng  There re n fu TVCecr pperng n he fr pr n preen...</td>\n",
       "    </tr>\n",
       "    <tr>\n",
       "      <td>1</td>\n",
       "      <td>0</td>\n",
       "      <td>This movie could have been so much better with a script rewrite. Not that I expect a great deal ...</td>\n",
       "      <td>This movie could have been so much better with a script rewrite Not that I expect a great deal o...</td>\n",
       "      <td>Th ve cul hve been  uch beer wh  crp rewre N h I expec  gre el f plubl n ve bu u hnk h even he h...</td>\n",
       "    </tr>\n",
       "    <tr>\n",
       "      <td>2</td>\n",
       "      <td>1</td>\n",
       "      <td>I really liked this version of 'Vanishing Point' as opposed to the 1971 version. I found the 197...</td>\n",
       "      <td>I really liked this version of Vanishing Point as opposed to the 1971 version I found the 1971 v...</td>\n",
       "      <td>I rell lke h vern f Vnhng Pn  ppe  he 1971 vern I fun he 1971 vern que brng If I cn ge up n he l...</td>\n",
       "    </tr>\n",
       "    <tr>\n",
       "      <td>3</td>\n",
       "      <td>0</td>\n",
       "      <td>Two years ago at Sundance I loved Josh Kornbluth's directing debut-Haiku Tunnel. So I was lookin...</td>\n",
       "      <td>Two years ago at Sundance I loved Josh Kornbluths directing debutHaiku Tunnel So I was looking f...</td>\n",
       "      <td>Tw er g  Sunnce I lve Jh Krnbluh recng ebuHku Tunnel S I w lkng frwr  h brher n frequen cllbrr J...</td>\n",
       "    </tr>\n",
       "    <tr>\n",
       "      <td>4</td>\n",
       "      <td>0</td>\n",
       "      <td>i got a copy from the writer of this movie on soulseek. I have to say it is pathetic and just pl...</td>\n",
       "      <td>i got a copy from the writer of this movie on soulseek I have to say it is pathetic and just pla...</td>\n",
       "      <td>g  cp fr he wrer f h ve n uleek I hve     phec n ju pln pnful  wch he w cp c bu  wche he ve   j...</td>\n",
       "    </tr>\n",
       "    <tr>\n",
       "      <td>...</td>\n",
       "      <td>...</td>\n",
       "      <td>...</td>\n",
       "      <td>...</td>\n",
       "      <td>...</td>\n",
       "    </tr>\n",
       "    <tr>\n",
       "      <td>24995</td>\n",
       "      <td>0</td>\n",
       "      <td>I can see the guys doing the budget preparation for this flick. \"Well lets see now, we spend 50%...</td>\n",
       "      <td>I can see the guys doing the budget preparation for this flick Well lets see now we spend 50 get...</td>\n",
       "      <td>I cn ee he gu ng he buge preprn fr h flck Well le ee nw we pen 50 geng Drk Benc cue Ble Sr Glcc ...</td>\n",
       "    </tr>\n",
       "    <tr>\n",
       "      <td>24996</td>\n",
       "      <td>1</td>\n",
       "      <td>A flying saucer manned (literally) by a crew of about 20 male space explorers travels hundreds o...</td>\n",
       "      <td>A flying saucer manned literally by a crew of about 20 male space explorers travels hundreds of ...</td>\n",
       "      <td>A flng ucer nne lerll b  crew f bu 20 le pce explrer rvel hunre f lln f lgh er fr erh  check n n...</td>\n",
       "    </tr>\n",
       "    <tr>\n",
       "      <td>24997</td>\n",
       "      <td>1</td>\n",
       "      <td>I've seen a slew of \"80s rocker horrors\" over the years, from rubbish like \"Terror on Tour\" to r...</td>\n",
       "      <td>Ive seen a slew of 80s rocker horrors over the years from rubbish like Terror on Tour to ridicul...</td>\n",
       "      <td>Ive een  lew f 80 rcker hrrr ver he er fr rubbh lke Terrr n Tur  rculul fun ge lke Sluber Pr Mcr...</td>\n",
       "    </tr>\n",
       "    <tr>\n",
       "      <td>24998</td>\n",
       "      <td>1</td>\n",
       "      <td>One thing i can say about this movie is well long, VERY LONG! I actually recently purchased this...</td>\n",
       "      <td>One thing i can say about this movie is well long VERY LONG I actually recently purchased this m...</td>\n",
       "      <td>One hng  cn  bu h ve  well lng VERY LONG I cull recenl purche h ve  cuple f nh g eeng h here w  ...</td>\n",
       "    </tr>\n",
       "    <tr>\n",
       "      <td>24999</td>\n",
       "      <td>0</td>\n",
       "      <td>'Ninteen Eighty-Four' is a film about a futuristic society in which the government controls ever...</td>\n",
       "      <td>Ninteen EightyFour is a film about a futuristic society in which the government controls everyth...</td>\n",
       "      <td>Nneen EghFur   fl bu  fuurc ce n whch he gvernen cnrl everhng n n ne cn be rue I   ver rk fl n  ...</td>\n",
       "    </tr>\n",
       "  </tbody>\n",
       "</table>\n",
       "<p>25000 rows × 4 columns</p>\n",
       "</div>"
      ],
      "text/plain": [
       "       Label  \\\n",
       "0          0   \n",
       "1          0   \n",
       "2          1   \n",
       "3          0   \n",
       "4          0   \n",
       "...      ...   \n",
       "24995      0   \n",
       "24996      1   \n",
       "24997      1   \n",
       "24998      1   \n",
       "24999      0   \n",
       "\n",
       "                                                                                                    Review  \\\n",
       "0      I've seen the first of the dwarf-Movies and sometimes I had little fun watching it. There are ma...   \n",
       "1      This movie could have been so much better with a script rewrite. Not that I expect a great deal ...   \n",
       "2      I really liked this version of 'Vanishing Point' as opposed to the 1971 version. I found the 197...   \n",
       "3      Two years ago at Sundance I loved Josh Kornbluth's directing debut-Haiku Tunnel. So I was lookin...   \n",
       "4      i got a copy from the writer of this movie on soulseek. I have to say it is pathetic and just pl...   \n",
       "...                                                                                                    ...   \n",
       "24995  I can see the guys doing the budget preparation for this flick. \"Well lets see now, we spend 50%...   \n",
       "24996  A flying saucer manned (literally) by a crew of about 20 male space explorers travels hundreds o...   \n",
       "24997  I've seen a slew of \"80s rocker horrors\" over the years, from rubbish like \"Terror on Tour\" to r...   \n",
       "24998  One thing i can say about this movie is well long, VERY LONG! I actually recently purchased this...   \n",
       "24999  'Ninteen Eighty-Four' is a film about a futuristic society in which the government controls ever...   \n",
       "\n",
       "                                                                                        Review_pre_process  \\\n",
       "0      Ive seen the first of the dwarfMovies and sometimes I had little fun watching it There are many ...   \n",
       "1      This movie could have been so much better with a script rewrite Not that I expect a great deal o...   \n",
       "2      I really liked this version of Vanishing Point as opposed to the 1971 version I found the 1971 v...   \n",
       "3      Two years ago at Sundance I loved Josh Kornbluths directing debutHaiku Tunnel So I was looking f...   \n",
       "4      i got a copy from the writer of this movie on soulseek I have to say it is pathetic and just pla...   \n",
       "...                                                                                                    ...   \n",
       "24995  I can see the guys doing the budget preparation for this flick Well lets see now we spend 50 get...   \n",
       "24996  A flying saucer manned literally by a crew of about 20 male space explorers travels hundreds of ...   \n",
       "24997  Ive seen a slew of 80s rocker horrors over the years from rubbish like Terror on Tour to ridicul...   \n",
       "24998  One thing i can say about this movie is well long VERY LONG I actually recently purchased this m...   \n",
       "24999  Ninteen EightyFour is a film about a futuristic society in which the government controls everyth...   \n",
       "\n",
       "                                                                                               Review_stop  \n",
       "0      Ive een he fr f he wrfMve n ee I h lle fun wchng  There re n fu TVCecr pperng n he fr pr n preen...  \n",
       "1      Th ve cul hve been  uch beer wh  crp rewre N h I expec  gre el f plubl n ve bu u hnk h even he h...  \n",
       "2      I rell lke h vern f Vnhng Pn  ppe  he 1971 vern I fun he 1971 vern que brng If I cn ge up n he l...  \n",
       "3      Tw er g  Sunnce I lve Jh Krnbluh recng ebuHku Tunnel S I w lkng frwr  h brher n frequen cllbrr J...  \n",
       "4       g  cp fr he wrer f h ve n uleek I hve     phec n ju pln pnful  wch he w cp c bu  wche he ve   j...  \n",
       "...                                                                                                    ...  \n",
       "24995  I cn ee he gu ng he buge preprn fr h flck Well le ee nw we pen 50 geng Drk Benc cue Ble Sr Glcc ...  \n",
       "24996  A flng ucer nne lerll b  crew f bu 20 le pce explrer rvel hunre f lln f lgh er fr erh  check n n...  \n",
       "24997  Ive een  lew f 80 rcker hrrr ver he er fr rubbh lke Terrr n Tur  rculul fun ge lke Sluber Pr Mcr...  \n",
       "24998  One hng  cn  bu h ve  well lng VERY LONG I cull recenl purche h ve  cuple f nh g eeng h here w  ...  \n",
       "24999  Nneen EghFur   fl bu  fuurc ce n whch he gvernen cnrl everhng n n ne cn be rue I   ver rk fl n  ...  \n",
       "\n",
       "[25000 rows x 4 columns]"
      ]
     },
     "execution_count": 218,
     "metadata": {},
     "output_type": "execute_result"
    }
   ],
   "source": [
    "### data preprocessing:\n",
    "\n",
    "import nltk\n",
    "import re\n",
    "\n",
    "\n",
    "## Removing stop words:\n",
    "\n",
    "stopwords=nltk.corpus.stopwords.words('english')\n",
    "\n",
    "def stopword(tokenized_list):\n",
    "    text=\"\".join([word for word in tokenized_list if word not in stopwords])\n",
    "    return text\n",
    "\n",
    "train_df['Review_stop']=train_df['Review_pre_process'].apply(lambda x:stopword(x))\n",
    "train_df"
   ]
  },
  {
   "cell_type": "code",
   "execution_count": 219,
   "metadata": {},
   "outputs": [
    {
     "data": {
      "text/html": [
       "<div>\n",
       "<style scoped>\n",
       "    .dataframe tbody tr th:only-of-type {\n",
       "        vertical-align: middle;\n",
       "    }\n",
       "\n",
       "    .dataframe tbody tr th {\n",
       "        vertical-align: top;\n",
       "    }\n",
       "\n",
       "    .dataframe thead th {\n",
       "        text-align: right;\n",
       "    }\n",
       "</style>\n",
       "<table border=\"1\" class=\"dataframe\">\n",
       "  <thead>\n",
       "    <tr style=\"text-align: right;\">\n",
       "      <th></th>\n",
       "      <th>Label</th>\n",
       "      <th>Review</th>\n",
       "      <th>Review_pre_process</th>\n",
       "      <th>Review_stop</th>\n",
       "    </tr>\n",
       "  </thead>\n",
       "  <tbody>\n",
       "    <tr>\n",
       "      <td>0</td>\n",
       "      <td>0</td>\n",
       "      <td>What a joke. I am watching it on Channel 1 and I think watching paint dry is much more entertain...</td>\n",
       "      <td>What a joke I am watching it on Channel 1 and I think watching paint dry is much more entertaini...</td>\n",
       "      <td>Wh  jke I  wchng  n Chnnel 1 n I hnk wchng pn r  uch re enernng Wh hppene  Cpr Vn Den h g h rpe ...</td>\n",
       "    </tr>\n",
       "    <tr>\n",
       "      <td>1</td>\n",
       "      <td>0</td>\n",
       "      <td>I was duped into seeing this movie after reading a positive review from another website and man ...</td>\n",
       "      <td>I was duped into seeing this movie after reading a positive review from another website and man ...</td>\n",
       "      <td>I w upe n eeng h ve fer reng  pve revew fr nher webe n n w I p  k e  le 15 nue  pck  up ff he he...</td>\n",
       "    </tr>\n",
       "    <tr>\n",
       "      <td>2</td>\n",
       "      <td>0</td>\n",
       "      <td>Joe Don Baker is an alright to good actor in small roles here and there...he was alright in Gold...</td>\n",
       "      <td>Joe Don Baker is an alright to good actor in small roles here and therehe was alright in Goldene...</td>\n",
       "      <td>Je Dn Bker  n lrgh  g cr n ll rle here n herehe w lrgh n Glenee n e  pre g Bn vlln n The Lvng Dl...</td>\n",
       "    </tr>\n",
       "    <tr>\n",
       "      <td>3</td>\n",
       "      <td>0</td>\n",
       "      <td>After reading the previous comments, I'm just glad that I wasn't the only person left confused, ...</td>\n",
       "      <td>After reading the previous comments Im just glad that I wasnt the only person left confused espe...</td>\n",
       "      <td>Afer reng he prevu cen I ju gl h I wn he nl pern lef cnfue epecll b he l 20 nue Jhn Crrne  hwn w...</td>\n",
       "    </tr>\n",
       "    <tr>\n",
       "      <td>4</td>\n",
       "      <td>0</td>\n",
       "      <td>Twist endings can be really cool in a movie. It's especially interesting when the twist is right...</td>\n",
       "      <td>Twist endings can be really cool in a movie Its especially interesting when the twist is right i...</td>\n",
       "      <td>Tw enng cn be rell cl n  ve I epecll nereng when he w  rgh n frn f ur ee bu we ju n p enn The pe...</td>\n",
       "    </tr>\n",
       "    <tr>\n",
       "      <td>...</td>\n",
       "      <td>...</td>\n",
       "      <td>...</td>\n",
       "      <td>...</td>\n",
       "      <td>...</td>\n",
       "    </tr>\n",
       "    <tr>\n",
       "      <td>24995</td>\n",
       "      <td>1</td>\n",
       "      <td>We toss around the term \"superstar\" way too lightly these days, but here's one guy that truly de...</td>\n",
       "      <td>We toss around the term superstar way too lightly these days but heres one guy that truly deserv...</td>\n",
       "      <td>We  run he er uperr w  lghl hee  bu here ne gu h rul eerve br br I w glue  he e h enre hw The ng...</td>\n",
       "    </tr>\n",
       "    <tr>\n",
       "      <td>24996</td>\n",
       "      <td>0</td>\n",
       "      <td>DR. SEUSS' HOW THE GRINCH STOLE CHRISTMAS / (2000) ** (out of four)&lt;br /&gt;&lt;br /&gt;If you desire to ...</td>\n",
       "      <td>DR SEUSS HOW THE GRINCH STOLE CHRISTMAS  2000  out of fourbr br If you desire to see a holiday m...</td>\n",
       "      <td>DR SEUSS HOW THE GRINCH STOLE CHRISTMAS  2000  u f furbr br If u ere  ee  hl ve h wll npre ur en...</td>\n",
       "    </tr>\n",
       "    <tr>\n",
       "      <td>24997</td>\n",
       "      <td>0</td>\n",
       "      <td>The only redeeming quality of this movie is that it was bad enough to be comedic. Everyone in th...</td>\n",
       "      <td>The only redeeming quality of this movie is that it was bad enough to be comedic Everyone in thi...</td>\n",
       "      <td>The nl reeeng qul f h ve  h  w b enugh  be cec Everne n h ve lk lke  prn nur rp u I hve cull een...</td>\n",
       "    </tr>\n",
       "    <tr>\n",
       "      <td>24998</td>\n",
       "      <td>0</td>\n",
       "      <td>There is no story! The plot is hopeless! A filmed based on a car with a stuck accelerator, no br...</td>\n",
       "      <td>There is no story The plot is hopeless A filmed based on a car with a stuck accelerator no brake...</td>\n",
       "      <td>There  n r The pl  hpele A fle be n  cr wh  uck ccelerr n brke n  uck uc rnn ger lever cnn be g ...</td>\n",
       "    </tr>\n",
       "    <tr>\n",
       "      <td>24999</td>\n",
       "      <td>0</td>\n",
       "      <td>### Spoilers! ### &lt;br /&gt;&lt;br /&gt;What is this movie offering? Out of control editing and cinematogr...</td>\n",
       "      <td>Spoilers  br br What is this movie offering Out of control editing and cinematography that matc...</td>\n",
       "      <td>Spler  br br Wh  h ve fferng Ou f cnrl eng n cnegrph h che up wh  errble pl I    ee Denzel Whng...</td>\n",
       "    </tr>\n",
       "  </tbody>\n",
       "</table>\n",
       "<p>25000 rows × 4 columns</p>\n",
       "</div>"
      ],
      "text/plain": [
       "       Label  \\\n",
       "0          0   \n",
       "1          0   \n",
       "2          0   \n",
       "3          0   \n",
       "4          0   \n",
       "...      ...   \n",
       "24995      1   \n",
       "24996      0   \n",
       "24997      0   \n",
       "24998      0   \n",
       "24999      0   \n",
       "\n",
       "                                                                                                    Review  \\\n",
       "0      What a joke. I am watching it on Channel 1 and I think watching paint dry is much more entertain...   \n",
       "1      I was duped into seeing this movie after reading a positive review from another website and man ...   \n",
       "2      Joe Don Baker is an alright to good actor in small roles here and there...he was alright in Gold...   \n",
       "3      After reading the previous comments, I'm just glad that I wasn't the only person left confused, ...   \n",
       "4      Twist endings can be really cool in a movie. It's especially interesting when the twist is right...   \n",
       "...                                                                                                    ...   \n",
       "24995  We toss around the term \"superstar\" way too lightly these days, but here's one guy that truly de...   \n",
       "24996  DR. SEUSS' HOW THE GRINCH STOLE CHRISTMAS / (2000) ** (out of four)<br /><br />If you desire to ...   \n",
       "24997  The only redeeming quality of this movie is that it was bad enough to be comedic. Everyone in th...   \n",
       "24998  There is no story! The plot is hopeless! A filmed based on a car with a stuck accelerator, no br...   \n",
       "24999  ### Spoilers! ### <br /><br />What is this movie offering? Out of control editing and cinematogr...   \n",
       "\n",
       "                                                                                        Review_pre_process  \\\n",
       "0      What a joke I am watching it on Channel 1 and I think watching paint dry is much more entertaini...   \n",
       "1      I was duped into seeing this movie after reading a positive review from another website and man ...   \n",
       "2      Joe Don Baker is an alright to good actor in small roles here and therehe was alright in Goldene...   \n",
       "3      After reading the previous comments Im just glad that I wasnt the only person left confused espe...   \n",
       "4      Twist endings can be really cool in a movie Its especially interesting when the twist is right i...   \n",
       "...                                                                                                    ...   \n",
       "24995  We toss around the term superstar way too lightly these days but heres one guy that truly deserv...   \n",
       "24996  DR SEUSS HOW THE GRINCH STOLE CHRISTMAS  2000  out of fourbr br If you desire to see a holiday m...   \n",
       "24997  The only redeeming quality of this movie is that it was bad enough to be comedic Everyone in thi...   \n",
       "24998  There is no story The plot is hopeless A filmed based on a car with a stuck accelerator no brake...   \n",
       "24999   Spoilers  br br What is this movie offering Out of control editing and cinematography that matc...   \n",
       "\n",
       "                                                                                               Review_stop  \n",
       "0      Wh  jke I  wchng  n Chnnel 1 n I hnk wchng pn r  uch re enernng Wh hppene  Cpr Vn Den h g h rpe ...  \n",
       "1      I w upe n eeng h ve fer reng  pve revew fr nher webe n n w I p  k e  le 15 nue  pck  up ff he he...  \n",
       "2      Je Dn Bker  n lrgh  g cr n ll rle here n herehe w lrgh n Glenee n e  pre g Bn vlln n The Lvng Dl...  \n",
       "3      Afer reng he prevu cen I ju gl h I wn he nl pern lef cnfue epecll b he l 20 nue Jhn Crrne  hwn w...  \n",
       "4      Tw enng cn be rell cl n  ve I epecll nereng when he w  rgh n frn f ur ee bu we ju n p enn The pe...  \n",
       "...                                                                                                    ...  \n",
       "24995  We  run he er uperr w  lghl hee  bu here ne gu h rul eerve br br I w glue  he e h enre hw The ng...  \n",
       "24996  DR SEUSS HOW THE GRINCH STOLE CHRISTMAS  2000  u f furbr br If u ere  ee  hl ve h wll npre ur en...  \n",
       "24997  The nl reeeng qul f h ve  h  w b enugh  be cec Everne n h ve lk lke  prn nur rp u I hve cull een...  \n",
       "24998  There  n r The pl  hpele A fle be n  cr wh  uck ccelerr n brke n  uck uc rnn ger lever cnn be g ...  \n",
       "24999   Spler  br br Wh  h ve fferng Ou f cnrl eng n cnegrph h che up wh  errble pl I    ee Denzel Whng...  \n",
       "\n",
       "[25000 rows x 4 columns]"
      ]
     },
     "execution_count": 219,
     "metadata": {},
     "output_type": "execute_result"
    }
   ],
   "source": [
    "test_df['Review_stop']=test_df['Review_pre_process'].apply(lambda x:stopword(x))\n",
    "test_df"
   ]
  },
  {
   "cell_type": "code",
   "execution_count": 14,
   "metadata": {},
   "outputs": [
    {
     "data": {
      "image/png": "[encoded data removed]",
      "text/plain": [
       "<Figure size 432x288 with 1 Axes>"
      ]
     },
     "metadata": {
      "needs_background": "light"
     },
     "output_type": "display_data"
    }
   ],
   "source": [
    "## checking the majority length of words\n",
    "word_len=[len(w) for w in train_df['Review_pre_process']]\n",
    "plt.hist(word_len)\n",
    "plt.show()"
   ]
  },
  {
   "cell_type": "code",
   "execution_count": 220,
   "metadata": {},
   "outputs": [
    {
     "data": {
      "text/html": [
       "<div>\n",
       "<style scoped>\n",
       "    .dataframe tbody tr th:only-of-type {\n",
       "        vertical-align: middle;\n",
       "    }\n",
       "\n",
       "    .dataframe tbody tr th {\n",
       "        vertical-align: top;\n",
       "    }\n",
       "\n",
       "    .dataframe thead th {\n",
       "        text-align: right;\n",
       "    }\n",
       "</style>\n",
       "<table border=\"1\" class=\"dataframe\">\n",
       "  <thead>\n",
       "    <tr style=\"text-align: right;\">\n",
       "      <th></th>\n",
       "      <th>Label</th>\n",
       "      <th>Review</th>\n",
       "      <th>Review_pre_process</th>\n",
       "      <th>Review_stop</th>\n",
       "      <th>Review_token</th>\n",
       "    </tr>\n",
       "  </thead>\n",
       "  <tbody>\n",
       "    <tr>\n",
       "      <td>0</td>\n",
       "      <td>0</td>\n",
       "      <td>I've seen the first of the dwarf-Movies and sometimes I had little fun watching it. There are ma...</td>\n",
       "      <td>Ive seen the first of the dwarfMovies and sometimes I had little fun watching it There are many ...</td>\n",
       "      <td>Ive een he fr f he wrfMve n ee I h lle fun wchng  There re n fu TVCecr pperng n he fr pr n preen...</td>\n",
       "      <td>[Ive, een, he, fr, f, he, wrfMve, n, ee, I, h, lle, fun, wchng, There, re, n, fu, TVCecr, pperng...</td>\n",
       "    </tr>\n",
       "    <tr>\n",
       "      <td>1</td>\n",
       "      <td>0</td>\n",
       "      <td>This movie could have been so much better with a script rewrite. Not that I expect a great deal ...</td>\n",
       "      <td>This movie could have been so much better with a script rewrite Not that I expect a great deal o...</td>\n",
       "      <td>Th ve cul hve been  uch beer wh  crp rewre N h I expec  gre el f plubl n ve bu u hnk h even he h...</td>\n",
       "      <td>[Th, ve, cul, hve, been, uch, beer, wh, crp, rewre, N, h, I, expec, gre, el, f, plubl, n, ve, bu...</td>\n",
       "    </tr>\n",
       "    <tr>\n",
       "      <td>2</td>\n",
       "      <td>1</td>\n",
       "      <td>I really liked this version of 'Vanishing Point' as opposed to the 1971 version. I found the 197...</td>\n",
       "      <td>I really liked this version of Vanishing Point as opposed to the 1971 version I found the 1971 v...</td>\n",
       "      <td>I rell lke h vern f Vnhng Pn  ppe  he 1971 vern I fun he 1971 vern que brng If I cn ge up n he l...</td>\n",
       "      <td>[I, rell, lke, h, vern, f, Vnhng, Pn, ppe, he, 1971, vern, I, fun, he, 1971, vern, que, brng, If...</td>\n",
       "    </tr>\n",
       "    <tr>\n",
       "      <td>3</td>\n",
       "      <td>0</td>\n",
       "      <td>Two years ago at Sundance I loved Josh Kornbluth's directing debut-Haiku Tunnel. So I was lookin...</td>\n",
       "      <td>Two years ago at Sundance I loved Josh Kornbluths directing debutHaiku Tunnel So I was looking f...</td>\n",
       "      <td>Tw er g  Sunnce I lve Jh Krnbluh recng ebuHku Tunnel S I w lkng frwr  h brher n frequen cllbrr J...</td>\n",
       "      <td>[Tw, er, g, Sunnce, I, lve, Jh, Krnbluh, recng, ebuHku, Tunnel, S, I, w, lkng, frwr, h, brher, n...</td>\n",
       "    </tr>\n",
       "    <tr>\n",
       "      <td>4</td>\n",
       "      <td>0</td>\n",
       "      <td>i got a copy from the writer of this movie on soulseek. I have to say it is pathetic and just pl...</td>\n",
       "      <td>i got a copy from the writer of this movie on soulseek I have to say it is pathetic and just pla...</td>\n",
       "      <td>g  cp fr he wrer f h ve n uleek I hve     phec n ju pln pnful  wch he w cp c bu  wche he ve   j...</td>\n",
       "      <td>[, g, cp, fr, he, wrer, f, h, ve, n, uleek, I, hve, phec, n, ju, pln, pnful, wch, he, w, cp, c, ...</td>\n",
       "    </tr>\n",
       "    <tr>\n",
       "      <td>...</td>\n",
       "      <td>...</td>\n",
       "      <td>...</td>\n",
       "      <td>...</td>\n",
       "      <td>...</td>\n",
       "      <td>...</td>\n",
       "    </tr>\n",
       "    <tr>\n",
       "      <td>24995</td>\n",
       "      <td>0</td>\n",
       "      <td>I can see the guys doing the budget preparation for this flick. \"Well lets see now, we spend 50%...</td>\n",
       "      <td>I can see the guys doing the budget preparation for this flick Well lets see now we spend 50 get...</td>\n",
       "      <td>I cn ee he gu ng he buge preprn fr h flck Well le ee nw we pen 50 geng Drk Benc cue Ble Sr Glcc ...</td>\n",
       "      <td>[I, cn, ee, he, gu, ng, he, buge, preprn, fr, h, flck, Well, le, ee, nw, we, pen, 50, geng, Drk,...</td>\n",
       "    </tr>\n",
       "    <tr>\n",
       "      <td>24996</td>\n",
       "      <td>1</td>\n",
       "      <td>A flying saucer manned (literally) by a crew of about 20 male space explorers travels hundreds o...</td>\n",
       "      <td>A flying saucer manned literally by a crew of about 20 male space explorers travels hundreds of ...</td>\n",
       "      <td>A flng ucer nne lerll b  crew f bu 20 le pce explrer rvel hunre f lln f lgh er fr erh  check n n...</td>\n",
       "      <td>[A, flng, ucer, nne, lerll, b, crew, f, bu, 20, le, pce, explrer, rvel, hunre, f, lln, f, lgh, e...</td>\n",
       "    </tr>\n",
       "    <tr>\n",
       "      <td>24997</td>\n",
       "      <td>1</td>\n",
       "      <td>I've seen a slew of \"80s rocker horrors\" over the years, from rubbish like \"Terror on Tour\" to r...</td>\n",
       "      <td>Ive seen a slew of 80s rocker horrors over the years from rubbish like Terror on Tour to ridicul...</td>\n",
       "      <td>Ive een  lew f 80 rcker hrrr ver he er fr rubbh lke Terrr n Tur  rculul fun ge lke Sluber Pr Mcr...</td>\n",
       "      <td>[Ive, een, lew, f, 80, rcker, hrrr, ver, he, er, fr, rubbh, lke, Terrr, n, Tur, rculul, fun, ge,...</td>\n",
       "    </tr>\n",
       "    <tr>\n",
       "      <td>24998</td>\n",
       "      <td>1</td>\n",
       "      <td>One thing i can say about this movie is well long, VERY LONG! I actually recently purchased this...</td>\n",
       "      <td>One thing i can say about this movie is well long VERY LONG I actually recently purchased this m...</td>\n",
       "      <td>One hng  cn  bu h ve  well lng VERY LONG I cull recenl purche h ve  cuple f nh g eeng h here w  ...</td>\n",
       "      <td>[One, hng, cn, bu, h, ve, well, lng, VERY, LONG, I, cull, recenl, purche, h, ve, cuple, f, nh, g...</td>\n",
       "    </tr>\n",
       "    <tr>\n",
       "      <td>24999</td>\n",
       "      <td>0</td>\n",
       "      <td>'Ninteen Eighty-Four' is a film about a futuristic society in which the government controls ever...</td>\n",
       "      <td>Ninteen EightyFour is a film about a futuristic society in which the government controls everyth...</td>\n",
       "      <td>Nneen EghFur   fl bu  fuurc ce n whch he gvernen cnrl everhng n n ne cn be rue I   ver rk fl n  ...</td>\n",
       "      <td>[Nneen, EghFur, fl, bu, fuurc, ce, n, whch, he, gvernen, cnrl, everhng, n, n, ne, cn, be, rue, I...</td>\n",
       "    </tr>\n",
       "  </tbody>\n",
       "</table>\n",
       "<p>25000 rows × 5 columns</p>\n",
       "</div>"
      ],
      "text/plain": [
       "       Label  \\\n",
       "0          0   \n",
       "1          0   \n",
       "2          1   \n",
       "3          0   \n",
       "4          0   \n",
       "...      ...   \n",
       "24995      0   \n",
       "24996      1   \n",
       "24997      1   \n",
       "24998      1   \n",
       "24999      0   \n",
       "\n",
       "                                                                                                    Review  \\\n",
       "0      I've seen the first of the dwarf-Movies and sometimes I had little fun watching it. There are ma...   \n",
       "1      This movie could have been so much better with a script rewrite. Not that I expect a great deal ...   \n",
       "2      I really liked this version of 'Vanishing Point' as opposed to the 1971 version. I found the 197...   \n",
       "3      Two years ago at Sundance I loved Josh Kornbluth's directing debut-Haiku Tunnel. So I was lookin...   \n",
       "4      i got a copy from the writer of this movie on soulseek. I have to say it is pathetic and just pl...   \n",
       "...                                                                                                    ...   \n",
       "24995  I can see the guys doing the budget preparation for this flick. \"Well lets see now, we spend 50%...   \n",
       "24996  A flying saucer manned (literally) by a crew of about 20 male space explorers travels hundreds o...   \n",
       "24997  I've seen a slew of \"80s rocker horrors\" over the years, from rubbish like \"Terror on Tour\" to r...   \n",
       "24998  One thing i can say about this movie is well long, VERY LONG! I actually recently purchased this...   \n",
       "24999  'Ninteen Eighty-Four' is a film about a futuristic society in which the government controls ever...   \n",
       "\n",
       "                                                                                        Review_pre_process  \\\n",
       "0      Ive seen the first of the dwarfMovies and sometimes I had little fun watching it There are many ...   \n",
       "1      This movie could have been so much better with a script rewrite Not that I expect a great deal o...   \n",
       "2      I really liked this version of Vanishing Point as opposed to the 1971 version I found the 1971 v...   \n",
       "3      Two years ago at Sundance I loved Josh Kornbluths directing debutHaiku Tunnel So I was looking f...   \n",
       "4      i got a copy from the writer of this movie on soulseek I have to say it is pathetic and just pla...   \n",
       "...                                                                                                    ...   \n",
       "24995  I can see the guys doing the budget preparation for this flick Well lets see now we spend 50 get...   \n",
       "24996  A flying saucer manned literally by a crew of about 20 male space explorers travels hundreds of ...   \n",
       "24997  Ive seen a slew of 80s rocker horrors over the years from rubbish like Terror on Tour to ridicul...   \n",
       "24998  One thing i can say about this movie is well long VERY LONG I actually recently purchased this m...   \n",
       "24999  Ninteen EightyFour is a film about a futuristic society in which the government controls everyth...   \n",
       "\n",
       "                                                                                               Review_stop  \\\n",
       "0      Ive een he fr f he wrfMve n ee I h lle fun wchng  There re n fu TVCecr pperng n he fr pr n preen...   \n",
       "1      Th ve cul hve been  uch beer wh  crp rewre N h I expec  gre el f plubl n ve bu u hnk h even he h...   \n",
       "2      I rell lke h vern f Vnhng Pn  ppe  he 1971 vern I fun he 1971 vern que brng If I cn ge up n he l...   \n",
       "3      Tw er g  Sunnce I lve Jh Krnbluh recng ebuHku Tunnel S I w lkng frwr  h brher n frequen cllbrr J...   \n",
       "4       g  cp fr he wrer f h ve n uleek I hve     phec n ju pln pnful  wch he w cp c bu  wche he ve   j...   \n",
       "...                                                                                                    ...   \n",
       "24995  I cn ee he gu ng he buge preprn fr h flck Well le ee nw we pen 50 geng Drk Benc cue Ble Sr Glcc ...   \n",
       "24996  A flng ucer nne lerll b  crew f bu 20 le pce explrer rvel hunre f lln f lgh er fr erh  check n n...   \n",
       "24997  Ive een  lew f 80 rcker hrrr ver he er fr rubbh lke Terrr n Tur  rculul fun ge lke Sluber Pr Mcr...   \n",
       "24998  One hng  cn  bu h ve  well lng VERY LONG I cull recenl purche h ve  cuple f nh g eeng h here w  ...   \n",
       "24999  Nneen EghFur   fl bu  fuurc ce n whch he gvernen cnrl everhng n n ne cn be rue I   ver rk fl n  ...   \n",
       "\n",
       "                                                                                              Review_token  \n",
       "0      [Ive, een, he, fr, f, he, wrfMve, n, ee, I, h, lle, fun, wchng, There, re, n, fu, TVCecr, pperng...  \n",
       "1      [Th, ve, cul, hve, been, uch, beer, wh, crp, rewre, N, h, I, expec, gre, el, f, plubl, n, ve, bu...  \n",
       "2      [I, rell, lke, h, vern, f, Vnhng, Pn, ppe, he, 1971, vern, I, fun, he, 1971, vern, que, brng, If...  \n",
       "3      [Tw, er, g, Sunnce, I, lve, Jh, Krnbluh, recng, ebuHku, Tunnel, S, I, w, lkng, frwr, h, brher, n...  \n",
       "4      [, g, cp, fr, he, wrer, f, h, ve, n, uleek, I, hve, phec, n, ju, pln, pnful, wch, he, w, cp, c, ...  \n",
       "...                                                                                                    ...  \n",
       "24995  [I, cn, ee, he, gu, ng, he, buge, preprn, fr, h, flck, Well, le, ee, nw, we, pen, 50, geng, Drk,...  \n",
       "24996  [A, flng, ucer, nne, lerll, b, crew, f, bu, 20, le, pce, explrer, rvel, hunre, f, lln, f, lgh, e...  \n",
       "24997  [Ive, een, lew, f, 80, rcker, hrrr, ver, he, er, fr, rubbh, lke, Terrr, n, Tur, rculul, fun, ge,...  \n",
       "24998  [One, hng, cn, bu, h, ve, well, lng, VERY, LONG, I, cull, recenl, purche, h, ve, cuple, f, nh, g...  \n",
       "24999  [Nneen, EghFur, fl, bu, fuurc, ce, n, whch, he, gvernen, cnrl, everhng, n, n, ne, cn, be, rue, I...  \n",
       "\n",
       "[25000 rows x 5 columns]"
      ]
     },
     "execution_count": 220,
     "metadata": {},
     "output_type": "execute_result"
    }
   ],
   "source": [
    "## Tokenizing\n",
    "def tokenize(text):\n",
    "    tokens=re.split('\\W+',text)\n",
    "    return tokens\n",
    "\n",
    "train_df['Review_token']=train_df['Review_stop'].apply(lambda x: tokenize(x))\n",
    "train_df"
   ]
  },
  {
   "cell_type": "code",
   "execution_count": 221,
   "metadata": {},
   "outputs": [
    {
     "data": {
      "text/html": [
       "<div>\n",
       "<style scoped>\n",
       "    .dataframe tbody tr th:only-of-type {\n",
       "        vertical-align: middle;\n",
       "    }\n",
       "\n",
       "    .dataframe tbody tr th {\n",
       "        vertical-align: top;\n",
       "    }\n",
       "\n",
       "    .dataframe thead th {\n",
       "        text-align: right;\n",
       "    }\n",
       "</style>\n",
       "<table border=\"1\" class=\"dataframe\">\n",
       "  <thead>\n",
       "    <tr style=\"text-align: right;\">\n",
       "      <th></th>\n",
       "      <th>Label</th>\n",
       "      <th>Review</th>\n",
       "      <th>Review_pre_process</th>\n",
       "      <th>Review_stop</th>\n",
       "      <th>Review_token</th>\n",
       "    </tr>\n",
       "  </thead>\n",
       "  <tbody>\n",
       "    <tr>\n",
       "      <td>0</td>\n",
       "      <td>0</td>\n",
       "      <td>What a joke. I am watching it on Channel 1 and I think watching paint dry is much more entertain...</td>\n",
       "      <td>What a joke I am watching it on Channel 1 and I think watching paint dry is much more entertaini...</td>\n",
       "      <td>Wh  jke I  wchng  n Chnnel 1 n I hnk wchng pn r  uch re enernng Wh hppene  Cpr Vn Den h g h rpe ...</td>\n",
       "      <td>[Wh, jke, I, wchng, n, Chnnel, 1, n, I, hnk, wchng, pn, r, uch, re, enernng, Wh, hppene, Cpr, Vn...</td>\n",
       "    </tr>\n",
       "    <tr>\n",
       "      <td>1</td>\n",
       "      <td>0</td>\n",
       "      <td>I was duped into seeing this movie after reading a positive review from another website and man ...</td>\n",
       "      <td>I was duped into seeing this movie after reading a positive review from another website and man ...</td>\n",
       "      <td>I w upe n eeng h ve fer reng  pve revew fr nher webe n n w I p  k e  le 15 nue  pck  up ff he he...</td>\n",
       "      <td>[I, w, upe, n, eeng, h, ve, fer, reng, pve, revew, fr, nher, webe, n, n, w, I, p, k, e, le, 15, ...</td>\n",
       "    </tr>\n",
       "    <tr>\n",
       "      <td>2</td>\n",
       "      <td>0</td>\n",
       "      <td>Joe Don Baker is an alright to good actor in small roles here and there...he was alright in Gold...</td>\n",
       "      <td>Joe Don Baker is an alright to good actor in small roles here and therehe was alright in Goldene...</td>\n",
       "      <td>Je Dn Bker  n lrgh  g cr n ll rle here n herehe w lrgh n Glenee n e  pre g Bn vlln n The Lvng Dl...</td>\n",
       "      <td>[Je, Dn, Bker, n, lrgh, g, cr, n, ll, rle, here, n, herehe, w, lrgh, n, Glenee, n, e, pre, g, Bn...</td>\n",
       "    </tr>\n",
       "    <tr>\n",
       "      <td>3</td>\n",
       "      <td>0</td>\n",
       "      <td>After reading the previous comments, I'm just glad that I wasn't the only person left confused, ...</td>\n",
       "      <td>After reading the previous comments Im just glad that I wasnt the only person left confused espe...</td>\n",
       "      <td>Afer reng he prevu cen I ju gl h I wn he nl pern lef cnfue epecll b he l 20 nue Jhn Crrne  hwn w...</td>\n",
       "      <td>[Afer, reng, he, prevu, cen, I, ju, gl, h, I, wn, he, nl, pern, lef, cnfue, epecll, b, he, l, 20...</td>\n",
       "    </tr>\n",
       "    <tr>\n",
       "      <td>4</td>\n",
       "      <td>0</td>\n",
       "      <td>Twist endings can be really cool in a movie. It's especially interesting when the twist is right...</td>\n",
       "      <td>Twist endings can be really cool in a movie Its especially interesting when the twist is right i...</td>\n",
       "      <td>Tw enng cn be rell cl n  ve I epecll nereng when he w  rgh n frn f ur ee bu we ju n p enn The pe...</td>\n",
       "      <td>[Tw, enng, cn, be, rell, cl, n, ve, I, epecll, nereng, when, he, w, rgh, n, frn, f, ur, ee, bu, ...</td>\n",
       "    </tr>\n",
       "    <tr>\n",
       "      <td>...</td>\n",
       "      <td>...</td>\n",
       "      <td>...</td>\n",
       "      <td>...</td>\n",
       "      <td>...</td>\n",
       "      <td>...</td>\n",
       "    </tr>\n",
       "    <tr>\n",
       "      <td>24995</td>\n",
       "      <td>1</td>\n",
       "      <td>We toss around the term \"superstar\" way too lightly these days, but here's one guy that truly de...</td>\n",
       "      <td>We toss around the term superstar way too lightly these days but heres one guy that truly deserv...</td>\n",
       "      <td>We  run he er uperr w  lghl hee  bu here ne gu h rul eerve br br I w glue  he e h enre hw The ng...</td>\n",
       "      <td>[We, run, he, er, uperr, w, lghl, hee, bu, here, ne, gu, h, rul, eerve, br, br, I, w, glue, he, ...</td>\n",
       "    </tr>\n",
       "    <tr>\n",
       "      <td>24996</td>\n",
       "      <td>0</td>\n",
       "      <td>DR. SEUSS' HOW THE GRINCH STOLE CHRISTMAS / (2000) ** (out of four)&lt;br /&gt;&lt;br /&gt;If you desire to ...</td>\n",
       "      <td>DR SEUSS HOW THE GRINCH STOLE CHRISTMAS  2000  out of fourbr br If you desire to see a holiday m...</td>\n",
       "      <td>DR SEUSS HOW THE GRINCH STOLE CHRISTMAS  2000  u f furbr br If u ere  ee  hl ve h wll npre ur en...</td>\n",
       "      <td>[DR, SEUSS, HOW, THE, GRINCH, STOLE, CHRISTMAS, 2000, u, f, furbr, br, If, u, ere, ee, hl, ve, h...</td>\n",
       "    </tr>\n",
       "    <tr>\n",
       "      <td>24997</td>\n",
       "      <td>0</td>\n",
       "      <td>The only redeeming quality of this movie is that it was bad enough to be comedic. Everyone in th...</td>\n",
       "      <td>The only redeeming quality of this movie is that it was bad enough to be comedic Everyone in thi...</td>\n",
       "      <td>The nl reeeng qul f h ve  h  w b enugh  be cec Everne n h ve lk lke  prn nur rp u I hve cull een...</td>\n",
       "      <td>[The, nl, reeeng, qul, f, h, ve, h, w, b, enugh, be, cec, Everne, n, h, ve, lk, lke, prn, nur, r...</td>\n",
       "    </tr>\n",
       "    <tr>\n",
       "      <td>24998</td>\n",
       "      <td>0</td>\n",
       "      <td>There is no story! The plot is hopeless! A filmed based on a car with a stuck accelerator, no br...</td>\n",
       "      <td>There is no story The plot is hopeless A filmed based on a car with a stuck accelerator no brake...</td>\n",
       "      <td>There  n r The pl  hpele A fle be n  cr wh  uck ccelerr n brke n  uck uc rnn ger lever cnn be g ...</td>\n",
       "      <td>[There, n, r, The, pl, hpele, A, fle, be, n, cr, wh, uck, ccelerr, n, brke, n, uck, uc, rnn, ger...</td>\n",
       "    </tr>\n",
       "    <tr>\n",
       "      <td>24999</td>\n",
       "      <td>0</td>\n",
       "      <td>### Spoilers! ### &lt;br /&gt;&lt;br /&gt;What is this movie offering? Out of control editing and cinematogr...</td>\n",
       "      <td>Spoilers  br br What is this movie offering Out of control editing and cinematography that matc...</td>\n",
       "      <td>Spler  br br Wh  h ve fferng Ou f cnrl eng n cnegrph h che up wh  errble pl I    ee Denzel Whng...</td>\n",
       "      <td>[, Spler, br, br, Wh, h, ve, fferng, Ou, f, cnrl, eng, n, cnegrph, h, che, up, wh, errble, pl, I...</td>\n",
       "    </tr>\n",
       "  </tbody>\n",
       "</table>\n",
       "<p>25000 rows × 5 columns</p>\n",
       "</div>"
      ],
      "text/plain": [
       "       Label  \\\n",
       "0          0   \n",
       "1          0   \n",
       "2          0   \n",
       "3          0   \n",
       "4          0   \n",
       "...      ...   \n",
       "24995      1   \n",
       "24996      0   \n",
       "24997      0   \n",
       "24998      0   \n",
       "24999      0   \n",
       "\n",
       "                                                                                                    Review  \\\n",
       "0      What a joke. I am watching it on Channel 1 and I think watching paint dry is much more entertain...   \n",
       "1      I was duped into seeing this movie after reading a positive review from another website and man ...   \n",
       "2      Joe Don Baker is an alright to good actor in small roles here and there...he was alright in Gold...   \n",
       "3      After reading the previous comments, I'm just glad that I wasn't the only person left confused, ...   \n",
       "4      Twist endings can be really cool in a movie. It's especially interesting when the twist is right...   \n",
       "...                                                                                                    ...   \n",
       "24995  We toss around the term \"superstar\" way too lightly these days, but here's one guy that truly de...   \n",
       "24996  DR. SEUSS' HOW THE GRINCH STOLE CHRISTMAS / (2000) ** (out of four)<br /><br />If you desire to ...   \n",
       "24997  The only redeeming quality of this movie is that it was bad enough to be comedic. Everyone in th...   \n",
       "24998  There is no story! The plot is hopeless! A filmed based on a car with a stuck accelerator, no br...   \n",
       "24999  ### Spoilers! ### <br /><br />What is this movie offering? Out of control editing and cinematogr...   \n",
       "\n",
       "                                                                                        Review_pre_process  \\\n",
       "0      What a joke I am watching it on Channel 1 and I think watching paint dry is much more entertaini...   \n",
       "1      I was duped into seeing this movie after reading a positive review from another website and man ...   \n",
       "2      Joe Don Baker is an alright to good actor in small roles here and therehe was alright in Goldene...   \n",
       "3      After reading the previous comments Im just glad that I wasnt the only person left confused espe...   \n",
       "4      Twist endings can be really cool in a movie Its especially interesting when the twist is right i...   \n",
       "...                                                                                                    ...   \n",
       "24995  We toss around the term superstar way too lightly these days but heres one guy that truly deserv...   \n",
       "24996  DR SEUSS HOW THE GRINCH STOLE CHRISTMAS  2000  out of fourbr br If you desire to see a holiday m...   \n",
       "24997  The only redeeming quality of this movie is that it was bad enough to be comedic Everyone in thi...   \n",
       "24998  There is no story The plot is hopeless A filmed based on a car with a stuck accelerator no brake...   \n",
       "24999   Spoilers  br br What is this movie offering Out of control editing and cinematography that matc...   \n",
       "\n",
       "                                                                                               Review_stop  \\\n",
       "0      Wh  jke I  wchng  n Chnnel 1 n I hnk wchng pn r  uch re enernng Wh hppene  Cpr Vn Den h g h rpe ...   \n",
       "1      I w upe n eeng h ve fer reng  pve revew fr nher webe n n w I p  k e  le 15 nue  pck  up ff he he...   \n",
       "2      Je Dn Bker  n lrgh  g cr n ll rle here n herehe w lrgh n Glenee n e  pre g Bn vlln n The Lvng Dl...   \n",
       "3      Afer reng he prevu cen I ju gl h I wn he nl pern lef cnfue epecll b he l 20 nue Jhn Crrne  hwn w...   \n",
       "4      Tw enng cn be rell cl n  ve I epecll nereng when he w  rgh n frn f ur ee bu we ju n p enn The pe...   \n",
       "...                                                                                                    ...   \n",
       "24995  We  run he er uperr w  lghl hee  bu here ne gu h rul eerve br br I w glue  he e h enre hw The ng...   \n",
       "24996  DR SEUSS HOW THE GRINCH STOLE CHRISTMAS  2000  u f furbr br If u ere  ee  hl ve h wll npre ur en...   \n",
       "24997  The nl reeeng qul f h ve  h  w b enugh  be cec Everne n h ve lk lke  prn nur rp u I hve cull een...   \n",
       "24998  There  n r The pl  hpele A fle be n  cr wh  uck ccelerr n brke n  uck uc rnn ger lever cnn be g ...   \n",
       "24999   Spler  br br Wh  h ve fferng Ou f cnrl eng n cnegrph h che up wh  errble pl I    ee Denzel Whng...   \n",
       "\n",
       "                                                                                              Review_token  \n",
       "0      [Wh, jke, I, wchng, n, Chnnel, 1, n, I, hnk, wchng, pn, r, uch, re, enernng, Wh, hppene, Cpr, Vn...  \n",
       "1      [I, w, upe, n, eeng, h, ve, fer, reng, pve, revew, fr, nher, webe, n, n, w, I, p, k, e, le, 15, ...  \n",
       "2      [Je, Dn, Bker, n, lrgh, g, cr, n, ll, rle, here, n, herehe, w, lrgh, n, Glenee, n, e, pre, g, Bn...  \n",
       "3      [Afer, reng, he, prevu, cen, I, ju, gl, h, I, wn, he, nl, pern, lef, cnfue, epecll, b, he, l, 20...  \n",
       "4      [Tw, enng, cn, be, rell, cl, n, ve, I, epecll, nereng, when, he, w, rgh, n, frn, f, ur, ee, bu, ...  \n",
       "...                                                                                                    ...  \n",
       "24995  [We, run, he, er, uperr, w, lghl, hee, bu, here, ne, gu, h, rul, eerve, br, br, I, w, glue, he, ...  \n",
       "24996  [DR, SEUSS, HOW, THE, GRINCH, STOLE, CHRISTMAS, 2000, u, f, furbr, br, If, u, ere, ee, hl, ve, h...  \n",
       "24997  [The, nl, reeeng, qul, f, h, ve, h, w, b, enugh, be, cec, Everne, n, h, ve, lk, lke, prn, nur, r...  \n",
       "24998  [There, n, r, The, pl, hpele, A, fle, be, n, cr, wh, uck, ccelerr, n, brke, n, uck, uc, rnn, ger...  \n",
       "24999  [, Spler, br, br, Wh, h, ve, fferng, Ou, f, cnrl, eng, n, cnegrph, h, che, up, wh, errble, pl, I...  \n",
       "\n",
       "[25000 rows x 5 columns]"
      ]
     },
     "execution_count": 221,
     "metadata": {},
     "output_type": "execute_result"
    }
   ],
   "source": [
    "test_df['Review_token']=test_df['Review_stop'].apply(lambda x:tokenize(x))\n",
    "test_df"
   ]
  },
  {
   "cell_type": "code",
   "execution_count": 222,
   "metadata": {},
   "outputs": [
    {
     "data": {
      "text/html": [
       "<div>\n",
       "<style scoped>\n",
       "    .dataframe tbody tr th:only-of-type {\n",
       "        vertical-align: middle;\n",
       "    }\n",
       "\n",
       "    .dataframe tbody tr th {\n",
       "        vertical-align: top;\n",
       "    }\n",
       "\n",
       "    .dataframe thead th {\n",
       "        text-align: right;\n",
       "    }\n",
       "</style>\n",
       "<table border=\"1\" class=\"dataframe\">\n",
       "  <thead>\n",
       "    <tr style=\"text-align: right;\">\n",
       "      <th></th>\n",
       "      <th>Label</th>\n",
       "      <th>Review</th>\n",
       "      <th>Review_pre_process</th>\n",
       "      <th>Review_stop</th>\n",
       "      <th>Review_token</th>\n",
       "      <th>Review_stem</th>\n",
       "    </tr>\n",
       "  </thead>\n",
       "  <tbody>\n",
       "    <tr>\n",
       "      <td>0</td>\n",
       "      <td>0</td>\n",
       "      <td>I've seen the first of the dwarf-Movies and sometimes I had little fun watching it. There are ma...</td>\n",
       "      <td>Ive seen the first of the dwarfMovies and sometimes I had little fun watching it There are many ...</td>\n",
       "      <td>Ive een he fr f he wrfMve n ee I h lle fun wchng  There re n fu TVCecr pperng n he fr pr n preen...</td>\n",
       "      <td>[Ive, een, he, fr, f, he, wrfMve, n, ee, I, h, lle, fun, wchng, There, re, n, fu, TVCecr, pperng...</td>\n",
       "      <td>[ive, een, he, fr, f, he, wrfmve, n, ee, I, h, lle, fun, wchng, there, re, n, fu, tvcecr, pperng...</td>\n",
       "    </tr>\n",
       "    <tr>\n",
       "      <td>1</td>\n",
       "      <td>0</td>\n",
       "      <td>This movie could have been so much better with a script rewrite. Not that I expect a great deal ...</td>\n",
       "      <td>This movie could have been so much better with a script rewrite Not that I expect a great deal o...</td>\n",
       "      <td>Th ve cul hve been  uch beer wh  crp rewre N h I expec  gre el f plubl n ve bu u hnk h even he h...</td>\n",
       "      <td>[Th, ve, cul, hve, been, uch, beer, wh, crp, rewre, N, h, I, expec, gre, el, f, plubl, n, ve, bu...</td>\n",
       "      <td>[Th, ve, cul, hve, been, uch, beer, wh, crp, rewr, N, h, I, expec, gre, el, f, plubl, n, ve, bu,...</td>\n",
       "    </tr>\n",
       "    <tr>\n",
       "      <td>2</td>\n",
       "      <td>1</td>\n",
       "      <td>I really liked this version of 'Vanishing Point' as opposed to the 1971 version. I found the 197...</td>\n",
       "      <td>I really liked this version of Vanishing Point as opposed to the 1971 version I found the 1971 v...</td>\n",
       "      <td>I rell lke h vern f Vnhng Pn  ppe  he 1971 vern I fun he 1971 vern que brng If I cn ge up n he l...</td>\n",
       "      <td>[I, rell, lke, h, vern, f, Vnhng, Pn, ppe, he, 1971, vern, I, fun, he, 1971, vern, que, brng, If...</td>\n",
       "      <td>[I, rell, lke, h, vern, f, vnhng, Pn, ppe, he, 1971, vern, I, fun, he, 1971, vern, que, brng, If...</td>\n",
       "    </tr>\n",
       "    <tr>\n",
       "      <td>3</td>\n",
       "      <td>0</td>\n",
       "      <td>Two years ago at Sundance I loved Josh Kornbluth's directing debut-Haiku Tunnel. So I was lookin...</td>\n",
       "      <td>Two years ago at Sundance I loved Josh Kornbluths directing debutHaiku Tunnel So I was looking f...</td>\n",
       "      <td>Tw er g  Sunnce I lve Jh Krnbluh recng ebuHku Tunnel S I w lkng frwr  h brher n frequen cllbrr J...</td>\n",
       "      <td>[Tw, er, g, Sunnce, I, lve, Jh, Krnbluh, recng, ebuHku, Tunnel, S, I, w, lkng, frwr, h, brher, n...</td>\n",
       "      <td>[Tw, er, g, sunnc, I, lve, Jh, krnbluh, recng, ebuhku, tunnel, S, I, w, lkng, frwr, h, brher, n,...</td>\n",
       "    </tr>\n",
       "    <tr>\n",
       "      <td>4</td>\n",
       "      <td>0</td>\n",
       "      <td>i got a copy from the writer of this movie on soulseek. I have to say it is pathetic and just pl...</td>\n",
       "      <td>i got a copy from the writer of this movie on soulseek I have to say it is pathetic and just pla...</td>\n",
       "      <td>g  cp fr he wrer f h ve n uleek I hve     phec n ju pln pnful  wch he w cp c bu  wche he ve   j...</td>\n",
       "      <td>[, g, cp, fr, he, wrer, f, h, ve, n, uleek, I, hve, phec, n, ju, pln, pnful, wch, he, w, cp, c, ...</td>\n",
       "      <td>[, g, cp, fr, he, wrer, f, h, ve, n, uleek, I, hve, phec, n, ju, pln, pnful, wch, he, w, cp, c, ...</td>\n",
       "    </tr>\n",
       "    <tr>\n",
       "      <td>...</td>\n",
       "      <td>...</td>\n",
       "      <td>...</td>\n",
       "      <td>...</td>\n",
       "      <td>...</td>\n",
       "      <td>...</td>\n",
       "      <td>...</td>\n",
       "    </tr>\n",
       "    <tr>\n",
       "      <td>24995</td>\n",
       "      <td>0</td>\n",
       "      <td>I can see the guys doing the budget preparation for this flick. \"Well lets see now, we spend 50%...</td>\n",
       "      <td>I can see the guys doing the budget preparation for this flick Well lets see now we spend 50 get...</td>\n",
       "      <td>I cn ee he gu ng he buge preprn fr h flck Well le ee nw we pen 50 geng Drk Benc cue Ble Sr Glcc ...</td>\n",
       "      <td>[I, cn, ee, he, gu, ng, he, buge, preprn, fr, h, flck, Well, le, ee, nw, we, pen, 50, geng, Drk,...</td>\n",
       "      <td>[I, cn, ee, he, gu, ng, he, buge, preprn, fr, h, flck, well, le, ee, nw, we, pen, 50, geng, drk,...</td>\n",
       "    </tr>\n",
       "    <tr>\n",
       "      <td>24996</td>\n",
       "      <td>1</td>\n",
       "      <td>A flying saucer manned (literally) by a crew of about 20 male space explorers travels hundreds o...</td>\n",
       "      <td>A flying saucer manned literally by a crew of about 20 male space explorers travels hundreds of ...</td>\n",
       "      <td>A flng ucer nne lerll b  crew f bu 20 le pce explrer rvel hunre f lln f lgh er fr erh  check n n...</td>\n",
       "      <td>[A, flng, ucer, nne, lerll, b, crew, f, bu, 20, le, pce, explrer, rvel, hunre, f, lln, f, lgh, e...</td>\n",
       "      <td>[A, flng, ucer, nne, lerll, b, crew, f, bu, 20, le, pce, explrer, rvel, hunr, f, lln, f, lgh, er...</td>\n",
       "    </tr>\n",
       "    <tr>\n",
       "      <td>24997</td>\n",
       "      <td>1</td>\n",
       "      <td>I've seen a slew of \"80s rocker horrors\" over the years, from rubbish like \"Terror on Tour\" to r...</td>\n",
       "      <td>Ive seen a slew of 80s rocker horrors over the years from rubbish like Terror on Tour to ridicul...</td>\n",
       "      <td>Ive een  lew f 80 rcker hrrr ver he er fr rubbh lke Terrr n Tur  rculul fun ge lke Sluber Pr Mcr...</td>\n",
       "      <td>[Ive, een, lew, f, 80, rcker, hrrr, ver, he, er, fr, rubbh, lke, Terrr, n, Tur, rculul, fun, ge,...</td>\n",
       "      <td>[ive, een, lew, f, 80, rcker, hrrr, ver, he, er, fr, rubbh, lke, terrr, n, tur, rculul, fun, ge,...</td>\n",
       "    </tr>\n",
       "    <tr>\n",
       "      <td>24998</td>\n",
       "      <td>1</td>\n",
       "      <td>One thing i can say about this movie is well long, VERY LONG! I actually recently purchased this...</td>\n",
       "      <td>One thing i can say about this movie is well long VERY LONG I actually recently purchased this m...</td>\n",
       "      <td>One hng  cn  bu h ve  well lng VERY LONG I cull recenl purche h ve  cuple f nh g eeng h here w  ...</td>\n",
       "      <td>[One, hng, cn, bu, h, ve, well, lng, VERY, LONG, I, cull, recenl, purche, h, ve, cuple, f, nh, g...</td>\n",
       "      <td>[one, hng, cn, bu, h, ve, well, lng, veri, long, I, cull, recenl, purch, h, ve, cupl, f, nh, g, ...</td>\n",
       "    </tr>\n",
       "    <tr>\n",
       "      <td>24999</td>\n",
       "      <td>0</td>\n",
       "      <td>'Ninteen Eighty-Four' is a film about a futuristic society in which the government controls ever...</td>\n",
       "      <td>Ninteen EightyFour is a film about a futuristic society in which the government controls everyth...</td>\n",
       "      <td>Nneen EghFur   fl bu  fuurc ce n whch he gvernen cnrl everhng n n ne cn be rue I   ver rk fl n  ...</td>\n",
       "      <td>[Nneen, EghFur, fl, bu, fuurc, ce, n, whch, he, gvernen, cnrl, everhng, n, n, ne, cn, be, rue, I...</td>\n",
       "      <td>[nneen, eghfur, fl, bu, fuurc, ce, n, whch, he, gvernen, cnrl, everhng, n, n, ne, cn, be, rue, I...</td>\n",
       "    </tr>\n",
       "  </tbody>\n",
       "</table>\n",
       "<p>25000 rows × 6 columns</p>\n",
       "</div>"
      ],
      "text/plain": [
       "       Label  \\\n",
       "0          0   \n",
       "1          0   \n",
       "2          1   \n",
       "3          0   \n",
       "4          0   \n",
       "...      ...   \n",
       "24995      0   \n",
       "24996      1   \n",
       "24997      1   \n",
       "24998      1   \n",
       "24999      0   \n",
       "\n",
       "                                                                                                    Review  \\\n",
       "0      I've seen the first of the dwarf-Movies and sometimes I had little fun watching it. There are ma...   \n",
       "1      This movie could have been so much better with a script rewrite. Not that I expect a great deal ...   \n",
       "2      I really liked this version of 'Vanishing Point' as opposed to the 1971 version. I found the 197...   \n",
       "3      Two years ago at Sundance I loved Josh Kornbluth's directing debut-Haiku Tunnel. So I was lookin...   \n",
       "4      i got a copy from the writer of this movie on soulseek. I have to say it is pathetic and just pl...   \n",
       "...                                                                                                    ...   \n",
       "24995  I can see the guys doing the budget preparation for this flick. \"Well lets see now, we spend 50%...   \n",
       "24996  A flying saucer manned (literally) by a crew of about 20 male space explorers travels hundreds o...   \n",
       "24997  I've seen a slew of \"80s rocker horrors\" over the years, from rubbish like \"Terror on Tour\" to r...   \n",
       "24998  One thing i can say about this movie is well long, VERY LONG! I actually recently purchased this...   \n",
       "24999  'Ninteen Eighty-Four' is a film about a futuristic society in which the government controls ever...   \n",
       "\n",
       "                                                                                        Review_pre_process  \\\n",
       "0      Ive seen the first of the dwarfMovies and sometimes I had little fun watching it There are many ...   \n",
       "1      This movie could have been so much better with a script rewrite Not that I expect a great deal o...   \n",
       "2      I really liked this version of Vanishing Point as opposed to the 1971 version I found the 1971 v...   \n",
       "3      Two years ago at Sundance I loved Josh Kornbluths directing debutHaiku Tunnel So I was looking f...   \n",
       "4      i got a copy from the writer of this movie on soulseek I have to say it is pathetic and just pla...   \n",
       "...                                                                                                    ...   \n",
       "24995  I can see the guys doing the budget preparation for this flick Well lets see now we spend 50 get...   \n",
       "24996  A flying saucer manned literally by a crew of about 20 male space explorers travels hundreds of ...   \n",
       "24997  Ive seen a slew of 80s rocker horrors over the years from rubbish like Terror on Tour to ridicul...   \n",
       "24998  One thing i can say about this movie is well long VERY LONG I actually recently purchased this m...   \n",
       "24999  Ninteen EightyFour is a film about a futuristic society in which the government controls everyth...   \n",
       "\n",
       "                                                                                               Review_stop  \\\n",
       "0      Ive een he fr f he wrfMve n ee I h lle fun wchng  There re n fu TVCecr pperng n he fr pr n preen...   \n",
       "1      Th ve cul hve been  uch beer wh  crp rewre N h I expec  gre el f plubl n ve bu u hnk h even he h...   \n",
       "2      I rell lke h vern f Vnhng Pn  ppe  he 1971 vern I fun he 1971 vern que brng If I cn ge up n he l...   \n",
       "3      Tw er g  Sunnce I lve Jh Krnbluh recng ebuHku Tunnel S I w lkng frwr  h brher n frequen cllbrr J...   \n",
       "4       g  cp fr he wrer f h ve n uleek I hve     phec n ju pln pnful  wch he w cp c bu  wche he ve   j...   \n",
       "...                                                                                                    ...   \n",
       "24995  I cn ee he gu ng he buge preprn fr h flck Well le ee nw we pen 50 geng Drk Benc cue Ble Sr Glcc ...   \n",
       "24996  A flng ucer nne lerll b  crew f bu 20 le pce explrer rvel hunre f lln f lgh er fr erh  check n n...   \n",
       "24997  Ive een  lew f 80 rcker hrrr ver he er fr rubbh lke Terrr n Tur  rculul fun ge lke Sluber Pr Mcr...   \n",
       "24998  One hng  cn  bu h ve  well lng VERY LONG I cull recenl purche h ve  cuple f nh g eeng h here w  ...   \n",
       "24999  Nneen EghFur   fl bu  fuurc ce n whch he gvernen cnrl everhng n n ne cn be rue I   ver rk fl n  ...   \n",
       "\n",
       "                                                                                              Review_token  \\\n",
       "0      [Ive, een, he, fr, f, he, wrfMve, n, ee, I, h, lle, fun, wchng, There, re, n, fu, TVCecr, pperng...   \n",
       "1      [Th, ve, cul, hve, been, uch, beer, wh, crp, rewre, N, h, I, expec, gre, el, f, plubl, n, ve, bu...   \n",
       "2      [I, rell, lke, h, vern, f, Vnhng, Pn, ppe, he, 1971, vern, I, fun, he, 1971, vern, que, brng, If...   \n",
       "3      [Tw, er, g, Sunnce, I, lve, Jh, Krnbluh, recng, ebuHku, Tunnel, S, I, w, lkng, frwr, h, brher, n...   \n",
       "4      [, g, cp, fr, he, wrer, f, h, ve, n, uleek, I, hve, phec, n, ju, pln, pnful, wch, he, w, cp, c, ...   \n",
       "...                                                                                                    ...   \n",
       "24995  [I, cn, ee, he, gu, ng, he, buge, preprn, fr, h, flck, Well, le, ee, nw, we, pen, 50, geng, Drk,...   \n",
       "24996  [A, flng, ucer, nne, lerll, b, crew, f, bu, 20, le, pce, explrer, rvel, hunre, f, lln, f, lgh, e...   \n",
       "24997  [Ive, een, lew, f, 80, rcker, hrrr, ver, he, er, fr, rubbh, lke, Terrr, n, Tur, rculul, fun, ge,...   \n",
       "24998  [One, hng, cn, bu, h, ve, well, lng, VERY, LONG, I, cull, recenl, purche, h, ve, cuple, f, nh, g...   \n",
       "24999  [Nneen, EghFur, fl, bu, fuurc, ce, n, whch, he, gvernen, cnrl, everhng, n, n, ne, cn, be, rue, I...   \n",
       "\n",
       "                                                                                               Review_stem  \n",
       "0      [ive, een, he, fr, f, he, wrfmve, n, ee, I, h, lle, fun, wchng, there, re, n, fu, tvcecr, pperng...  \n",
       "1      [Th, ve, cul, hve, been, uch, beer, wh, crp, rewr, N, h, I, expec, gre, el, f, plubl, n, ve, bu,...  \n",
       "2      [I, rell, lke, h, vern, f, vnhng, Pn, ppe, he, 1971, vern, I, fun, he, 1971, vern, que, brng, If...  \n",
       "3      [Tw, er, g, sunnc, I, lve, Jh, krnbluh, recng, ebuhku, tunnel, S, I, w, lkng, frwr, h, brher, n,...  \n",
       "4      [, g, cp, fr, he, wrer, f, h, ve, n, uleek, I, hve, phec, n, ju, pln, pnful, wch, he, w, cp, c, ...  \n",
       "...                                                                                                    ...  \n",
       "24995  [I, cn, ee, he, gu, ng, he, buge, preprn, fr, h, flck, well, le, ee, nw, we, pen, 50, geng, drk,...  \n",
       "24996  [A, flng, ucer, nne, lerll, b, crew, f, bu, 20, le, pce, explrer, rvel, hunr, f, lln, f, lgh, er...  \n",
       "24997  [ive, een, lew, f, 80, rcker, hrrr, ver, he, er, fr, rubbh, lke, terrr, n, tur, rculul, fun, ge,...  \n",
       "24998  [one, hng, cn, bu, h, ve, well, lng, veri, long, I, cull, recenl, purch, h, ve, cupl, f, nh, g, ...  \n",
       "24999  [nneen, eghfur, fl, bu, fuurc, ce, n, whch, he, gvernen, cnrl, everhng, n, n, ne, cn, be, rue, I...  \n",
       "\n",
       "[25000 rows x 6 columns]"
      ]
     },
     "execution_count": 222,
     "metadata": {},
     "output_type": "execute_result"
    }
   ],
   "source": [
    "## Stemming\n",
    "ps=nltk.PorterStemmer()\n",
    "\n",
    "def remove_stem(tokenized_text):\n",
    "    text= ([ps.stem(word) for word in tokenized_text])\n",
    "    return text\n",
    "\n",
    "train_df['Review_stem']=train_df['Review_token'].apply(lambda x: remove_stem(x))\n",
    "train_df"
   ]
  },
  {
   "cell_type": "code",
   "execution_count": 223,
   "metadata": {},
   "outputs": [
    {
     "data": {
      "text/html": [
       "<div>\n",
       "<style scoped>\n",
       "    .dataframe tbody tr th:only-of-type {\n",
       "        vertical-align: middle;\n",
       "    }\n",
       "\n",
       "    .dataframe tbody tr th {\n",
       "        vertical-align: top;\n",
       "    }\n",
       "\n",
       "    .dataframe thead th {\n",
       "        text-align: right;\n",
       "    }\n",
       "</style>\n",
       "<table border=\"1\" class=\"dataframe\">\n",
       "  <thead>\n",
       "    <tr style=\"text-align: right;\">\n",
       "      <th></th>\n",
       "      <th>Label</th>\n",
       "      <th>Review</th>\n",
       "      <th>Review_pre_process</th>\n",
       "      <th>Review_stop</th>\n",
       "      <th>Review_token</th>\n",
       "      <th>Review_stem</th>\n",
       "    </tr>\n",
       "  </thead>\n",
       "  <tbody>\n",
       "    <tr>\n",
       "      <td>0</td>\n",
       "      <td>0</td>\n",
       "      <td>What a joke. I am watching it on Channel 1 and I think watching paint dry is much more entertain...</td>\n",
       "      <td>What a joke I am watching it on Channel 1 and I think watching paint dry is much more entertaini...</td>\n",
       "      <td>Wh  jke I  wchng  n Chnnel 1 n I hnk wchng pn r  uch re enernng Wh hppene  Cpr Vn Den h g h rpe ...</td>\n",
       "      <td>[Wh, jke, I, wchng, n, Chnnel, 1, n, I, hnk, wchng, pn, r, uch, re, enernng, Wh, hppene, Cpr, Vn...</td>\n",
       "      <td>[Wh, jke, I, wchng, n, chnnel, 1, n, I, hnk, wchng, pn, r, uch, re, enernng, Wh, hppene, cpr, Vn...</td>\n",
       "    </tr>\n",
       "    <tr>\n",
       "      <td>1</td>\n",
       "      <td>0</td>\n",
       "      <td>I was duped into seeing this movie after reading a positive review from another website and man ...</td>\n",
       "      <td>I was duped into seeing this movie after reading a positive review from another website and man ...</td>\n",
       "      <td>I w upe n eeng h ve fer reng  pve revew fr nher webe n n w I p  k e  le 15 nue  pck  up ff he he...</td>\n",
       "      <td>[I, w, upe, n, eeng, h, ve, fer, reng, pve, revew, fr, nher, webe, n, n, w, I, p, k, e, le, 15, ...</td>\n",
       "      <td>[I, w, upe, n, eeng, h, ve, fer, reng, pve, revew, fr, nher, webe, n, n, w, I, p, k, e, le, 15, ...</td>\n",
       "    </tr>\n",
       "    <tr>\n",
       "      <td>2</td>\n",
       "      <td>0</td>\n",
       "      <td>Joe Don Baker is an alright to good actor in small roles here and there...he was alright in Gold...</td>\n",
       "      <td>Joe Don Baker is an alright to good actor in small roles here and therehe was alright in Goldene...</td>\n",
       "      <td>Je Dn Bker  n lrgh  g cr n ll rle here n herehe w lrgh n Glenee n e  pre g Bn vlln n The Lvng Dl...</td>\n",
       "      <td>[Je, Dn, Bker, n, lrgh, g, cr, n, ll, rle, here, n, herehe, w, lrgh, n, Glenee, n, e, pre, g, Bn...</td>\n",
       "      <td>[Je, Dn, bker, n, lrgh, g, cr, n, ll, rle, here, n, hereh, w, lrgh, n, glene, n, e, pre, g, Bn, ...</td>\n",
       "    </tr>\n",
       "    <tr>\n",
       "      <td>3</td>\n",
       "      <td>0</td>\n",
       "      <td>After reading the previous comments, I'm just glad that I wasn't the only person left confused, ...</td>\n",
       "      <td>After reading the previous comments Im just glad that I wasnt the only person left confused espe...</td>\n",
       "      <td>Afer reng he prevu cen I ju gl h I wn he nl pern lef cnfue epecll b he l 20 nue Jhn Crrne  hwn w...</td>\n",
       "      <td>[Afer, reng, he, prevu, cen, I, ju, gl, h, I, wn, he, nl, pern, lef, cnfue, epecll, b, he, l, 20...</td>\n",
       "      <td>[afer, reng, he, prevu, cen, I, ju, gl, h, I, wn, he, nl, pern, lef, cnfue, epecl, b, he, l, 20,...</td>\n",
       "    </tr>\n",
       "    <tr>\n",
       "      <td>4</td>\n",
       "      <td>0</td>\n",
       "      <td>Twist endings can be really cool in a movie. It's especially interesting when the twist is right...</td>\n",
       "      <td>Twist endings can be really cool in a movie Its especially interesting when the twist is right i...</td>\n",
       "      <td>Tw enng cn be rell cl n  ve I epecll nereng when he w  rgh n frn f ur ee bu we ju n p enn The pe...</td>\n",
       "      <td>[Tw, enng, cn, be, rell, cl, n, ve, I, epecll, nereng, when, he, w, rgh, n, frn, f, ur, ee, bu, ...</td>\n",
       "      <td>[Tw, enng, cn, be, rell, cl, n, ve, I, epecl, nereng, when, he, w, rgh, n, frn, f, ur, ee, bu, w...</td>\n",
       "    </tr>\n",
       "    <tr>\n",
       "      <td>...</td>\n",
       "      <td>...</td>\n",
       "      <td>...</td>\n",
       "      <td>...</td>\n",
       "      <td>...</td>\n",
       "      <td>...</td>\n",
       "      <td>...</td>\n",
       "    </tr>\n",
       "    <tr>\n",
       "      <td>24995</td>\n",
       "      <td>1</td>\n",
       "      <td>We toss around the term \"superstar\" way too lightly these days, but here's one guy that truly de...</td>\n",
       "      <td>We toss around the term superstar way too lightly these days but heres one guy that truly deserv...</td>\n",
       "      <td>We  run he er uperr w  lghl hee  bu here ne gu h rul eerve br br I w glue  he e h enre hw The ng...</td>\n",
       "      <td>[We, run, he, er, uperr, w, lghl, hee, bu, here, ne, gu, h, rul, eerve, br, br, I, w, glue, he, ...</td>\n",
       "      <td>[We, run, he, er, uperr, w, lghl, hee, bu, here, ne, gu, h, rul, eerv, br, br, I, w, glue, he, e...</td>\n",
       "    </tr>\n",
       "    <tr>\n",
       "      <td>24996</td>\n",
       "      <td>0</td>\n",
       "      <td>DR. SEUSS' HOW THE GRINCH STOLE CHRISTMAS / (2000) ** (out of four)&lt;br /&gt;&lt;br /&gt;If you desire to ...</td>\n",
       "      <td>DR SEUSS HOW THE GRINCH STOLE CHRISTMAS  2000  out of fourbr br If you desire to see a holiday m...</td>\n",
       "      <td>DR SEUSS HOW THE GRINCH STOLE CHRISTMAS  2000  u f furbr br If u ere  ee  hl ve h wll npre ur en...</td>\n",
       "      <td>[DR, SEUSS, HOW, THE, GRINCH, STOLE, CHRISTMAS, 2000, u, f, furbr, br, If, u, ere, ee, hl, ve, h...</td>\n",
       "      <td>[DR, seuss, how, the, grinch, stole, christma, 2000, u, f, furbr, br, If, u, ere, ee, hl, ve, h,...</td>\n",
       "    </tr>\n",
       "    <tr>\n",
       "      <td>24997</td>\n",
       "      <td>0</td>\n",
       "      <td>The only redeeming quality of this movie is that it was bad enough to be comedic. Everyone in th...</td>\n",
       "      <td>The only redeeming quality of this movie is that it was bad enough to be comedic Everyone in thi...</td>\n",
       "      <td>The nl reeeng qul f h ve  h  w b enugh  be cec Everne n h ve lk lke  prn nur rp u I hve cull een...</td>\n",
       "      <td>[The, nl, reeeng, qul, f, h, ve, h, w, b, enugh, be, cec, Everne, n, h, ve, lk, lke, prn, nur, r...</td>\n",
       "      <td>[the, nl, reeeng, qul, f, h, ve, h, w, b, enugh, be, cec, evern, n, h, ve, lk, lke, prn, nur, rp...</td>\n",
       "    </tr>\n",
       "    <tr>\n",
       "      <td>24998</td>\n",
       "      <td>0</td>\n",
       "      <td>There is no story! The plot is hopeless! A filmed based on a car with a stuck accelerator, no br...</td>\n",
       "      <td>There is no story The plot is hopeless A filmed based on a car with a stuck accelerator no brake...</td>\n",
       "      <td>There  n r The pl  hpele A fle be n  cr wh  uck ccelerr n brke n  uck uc rnn ger lever cnn be g ...</td>\n",
       "      <td>[There, n, r, The, pl, hpele, A, fle, be, n, cr, wh, uck, ccelerr, n, brke, n, uck, uc, rnn, ger...</td>\n",
       "      <td>[there, n, r, the, pl, hpele, A, fle, be, n, cr, wh, uck, ccelerr, n, brke, n, uck, uc, rnn, ger...</td>\n",
       "    </tr>\n",
       "    <tr>\n",
       "      <td>24999</td>\n",
       "      <td>0</td>\n",
       "      <td>### Spoilers! ### &lt;br /&gt;&lt;br /&gt;What is this movie offering? Out of control editing and cinematogr...</td>\n",
       "      <td>Spoilers  br br What is this movie offering Out of control editing and cinematography that matc...</td>\n",
       "      <td>Spler  br br Wh  h ve fferng Ou f cnrl eng n cnegrph h che up wh  errble pl I    ee Denzel Whng...</td>\n",
       "      <td>[, Spler, br, br, Wh, h, ve, fferng, Ou, f, cnrl, eng, n, cnegrph, h, che, up, wh, errble, pl, I...</td>\n",
       "      <td>[, spler, br, br, Wh, h, ve, fferng, Ou, f, cnrl, eng, n, cnegrph, h, che, up, wh, errbl, pl, I,...</td>\n",
       "    </tr>\n",
       "  </tbody>\n",
       "</table>\n",
       "<p>25000 rows × 6 columns</p>\n",
       "</div>"
      ],
      "text/plain": [
       "       Label  \\\n",
       "0          0   \n",
       "1          0   \n",
       "2          0   \n",
       "3          0   \n",
       "4          0   \n",
       "...      ...   \n",
       "24995      1   \n",
       "24996      0   \n",
       "24997      0   \n",
       "24998      0   \n",
       "24999      0   \n",
       "\n",
       "                                                                                                    Review  \\\n",
       "0      What a joke. I am watching it on Channel 1 and I think watching paint dry is much more entertain...   \n",
       "1      I was duped into seeing this movie after reading a positive review from another website and man ...   \n",
       "2      Joe Don Baker is an alright to good actor in small roles here and there...he was alright in Gold...   \n",
       "3      After reading the previous comments, I'm just glad that I wasn't the only person left confused, ...   \n",
       "4      Twist endings can be really cool in a movie. It's especially interesting when the twist is right...   \n",
       "...                                                                                                    ...   \n",
       "24995  We toss around the term \"superstar\" way too lightly these days, but here's one guy that truly de...   \n",
       "24996  DR. SEUSS' HOW THE GRINCH STOLE CHRISTMAS / (2000) ** (out of four)<br /><br />If you desire to ...   \n",
       "24997  The only redeeming quality of this movie is that it was bad enough to be comedic. Everyone in th...   \n",
       "24998  There is no story! The plot is hopeless! A filmed based on a car with a stuck accelerator, no br...   \n",
       "24999  ### Spoilers! ### <br /><br />What is this movie offering? Out of control editing and cinematogr...   \n",
       "\n",
       "                                                                                        Review_pre_process  \\\n",
       "0      What a joke I am watching it on Channel 1 and I think watching paint dry is much more entertaini...   \n",
       "1      I was duped into seeing this movie after reading a positive review from another website and man ...   \n",
       "2      Joe Don Baker is an alright to good actor in small roles here and therehe was alright in Goldene...   \n",
       "3      After reading the previous comments Im just glad that I wasnt the only person left confused espe...   \n",
       "4      Twist endings can be really cool in a movie Its especially interesting when the twist is right i...   \n",
       "...                                                                                                    ...   \n",
       "24995  We toss around the term superstar way too lightly these days but heres one guy that truly deserv...   \n",
       "24996  DR SEUSS HOW THE GRINCH STOLE CHRISTMAS  2000  out of fourbr br If you desire to see a holiday m...   \n",
       "24997  The only redeeming quality of this movie is that it was bad enough to be comedic Everyone in thi...   \n",
       "24998  There is no story The plot is hopeless A filmed based on a car with a stuck accelerator no brake...   \n",
       "24999   Spoilers  br br What is this movie offering Out of control editing and cinematography that matc...   \n",
       "\n",
       "                                                                                               Review_stop  \\\n",
       "0      Wh  jke I  wchng  n Chnnel 1 n I hnk wchng pn r  uch re enernng Wh hppene  Cpr Vn Den h g h rpe ...   \n",
       "1      I w upe n eeng h ve fer reng  pve revew fr nher webe n n w I p  k e  le 15 nue  pck  up ff he he...   \n",
       "2      Je Dn Bker  n lrgh  g cr n ll rle here n herehe w lrgh n Glenee n e  pre g Bn vlln n The Lvng Dl...   \n",
       "3      Afer reng he prevu cen I ju gl h I wn he nl pern lef cnfue epecll b he l 20 nue Jhn Crrne  hwn w...   \n",
       "4      Tw enng cn be rell cl n  ve I epecll nereng when he w  rgh n frn f ur ee bu we ju n p enn The pe...   \n",
       "...                                                                                                    ...   \n",
       "24995  We  run he er uperr w  lghl hee  bu here ne gu h rul eerve br br I w glue  he e h enre hw The ng...   \n",
       "24996  DR SEUSS HOW THE GRINCH STOLE CHRISTMAS  2000  u f furbr br If u ere  ee  hl ve h wll npre ur en...   \n",
       "24997  The nl reeeng qul f h ve  h  w b enugh  be cec Everne n h ve lk lke  prn nur rp u I hve cull een...   \n",
       "24998  There  n r The pl  hpele A fle be n  cr wh  uck ccelerr n brke n  uck uc rnn ger lever cnn be g ...   \n",
       "24999   Spler  br br Wh  h ve fferng Ou f cnrl eng n cnegrph h che up wh  errble pl I    ee Denzel Whng...   \n",
       "\n",
       "                                                                                              Review_token  \\\n",
       "0      [Wh, jke, I, wchng, n, Chnnel, 1, n, I, hnk, wchng, pn, r, uch, re, enernng, Wh, hppene, Cpr, Vn...   \n",
       "1      [I, w, upe, n, eeng, h, ve, fer, reng, pve, revew, fr, nher, webe, n, n, w, I, p, k, e, le, 15, ...   \n",
       "2      [Je, Dn, Bker, n, lrgh, g, cr, n, ll, rle, here, n, herehe, w, lrgh, n, Glenee, n, e, pre, g, Bn...   \n",
       "3      [Afer, reng, he, prevu, cen, I, ju, gl, h, I, wn, he, nl, pern, lef, cnfue, epecll, b, he, l, 20...   \n",
       "4      [Tw, enng, cn, be, rell, cl, n, ve, I, epecll, nereng, when, he, w, rgh, n, frn, f, ur, ee, bu, ...   \n",
       "...                                                                                                    ...   \n",
       "24995  [We, run, he, er, uperr, w, lghl, hee, bu, here, ne, gu, h, rul, eerve, br, br, I, w, glue, he, ...   \n",
       "24996  [DR, SEUSS, HOW, THE, GRINCH, STOLE, CHRISTMAS, 2000, u, f, furbr, br, If, u, ere, ee, hl, ve, h...   \n",
       "24997  [The, nl, reeeng, qul, f, h, ve, h, w, b, enugh, be, cec, Everne, n, h, ve, lk, lke, prn, nur, r...   \n",
       "24998  [There, n, r, The, pl, hpele, A, fle, be, n, cr, wh, uck, ccelerr, n, brke, n, uck, uc, rnn, ger...   \n",
       "24999  [, Spler, br, br, Wh, h, ve, fferng, Ou, f, cnrl, eng, n, cnegrph, h, che, up, wh, errble, pl, I...   \n",
       "\n",
       "                                                                                               Review_stem  \n",
       "0      [Wh, jke, I, wchng, n, chnnel, 1, n, I, hnk, wchng, pn, r, uch, re, enernng, Wh, hppene, cpr, Vn...  \n",
       "1      [I, w, upe, n, eeng, h, ve, fer, reng, pve, revew, fr, nher, webe, n, n, w, I, p, k, e, le, 15, ...  \n",
       "2      [Je, Dn, bker, n, lrgh, g, cr, n, ll, rle, here, n, hereh, w, lrgh, n, glene, n, e, pre, g, Bn, ...  \n",
       "3      [afer, reng, he, prevu, cen, I, ju, gl, h, I, wn, he, nl, pern, lef, cnfue, epecl, b, he, l, 20,...  \n",
       "4      [Tw, enng, cn, be, rell, cl, n, ve, I, epecl, nereng, when, he, w, rgh, n, frn, f, ur, ee, bu, w...  \n",
       "...                                                                                                    ...  \n",
       "24995  [We, run, he, er, uperr, w, lghl, hee, bu, here, ne, gu, h, rul, eerv, br, br, I, w, glue, he, e...  \n",
       "24996  [DR, seuss, how, the, grinch, stole, christma, 2000, u, f, furbr, br, If, u, ere, ee, hl, ve, h,...  \n",
       "24997  [the, nl, reeeng, qul, f, h, ve, h, w, b, enugh, be, cec, evern, n, h, ve, lk, lke, prn, nur, rp...  \n",
       "24998  [there, n, r, the, pl, hpele, A, fle, be, n, cr, wh, uck, ccelerr, n, brke, n, uck, uc, rnn, ger...  \n",
       "24999  [, spler, br, br, Wh, h, ve, fferng, Ou, f, cnrl, eng, n, cnegrph, h, che, up, wh, errbl, pl, I,...  \n",
       "\n",
       "[25000 rows x 6 columns]"
      ]
     },
     "execution_count": 223,
     "metadata": {},
     "output_type": "execute_result"
    }
   ],
   "source": [
    "test_df['Review_stem']=test_df['Review_token'].apply(lambda x:remove_stem(x))\n",
    "test_df"
   ]
  },
  {
   "cell_type": "code",
   "execution_count": 224,
   "metadata": {},
   "outputs": [
    {
     "data": {
      "text/html": [
       "<div>\n",
       "<style scoped>\n",
       "    .dataframe tbody tr th:only-of-type {\n",
       "        vertical-align: middle;\n",
       "    }\n",
       "\n",
       "    .dataframe tbody tr th {\n",
       "        vertical-align: top;\n",
       "    }\n",
       "\n",
       "    .dataframe thead th {\n",
       "        text-align: right;\n",
       "    }\n",
       "</style>\n",
       "<table border=\"1\" class=\"dataframe\">\n",
       "  <thead>\n",
       "    <tr style=\"text-align: right;\">\n",
       "      <th></th>\n",
       "      <th>Label</th>\n",
       "      <th>Review</th>\n",
       "      <th>Review_pre_process</th>\n",
       "      <th>Review_stop</th>\n",
       "      <th>Review_token</th>\n",
       "      <th>Review_stem</th>\n",
       "      <th>Review_lem</th>\n",
       "    </tr>\n",
       "  </thead>\n",
       "  <tbody>\n",
       "    <tr>\n",
       "      <td>0</td>\n",
       "      <td>0</td>\n",
       "      <td>I've seen the first of the dwarf-Movies and sometimes I had little fun watching it. There are ma...</td>\n",
       "      <td>Ive seen the first of the dwarfMovies and sometimes I had little fun watching it There are many ...</td>\n",
       "      <td>Ive een he fr f he wrfMve n ee I h lle fun wchng  There re n fu TVCecr pperng n he fr pr n preen...</td>\n",
       "      <td>[Ive, een, he, fr, f, he, wrfMve, n, ee, I, h, lle, fun, wchng, There, re, n, fu, TVCecr, pperng...</td>\n",
       "      <td>[ive, een, he, fr, f, he, wrfmve, n, ee, I, h, lle, fun, wchng, there, re, n, fu, tvcecr, pperng...</td>\n",
       "      <td>[ive, een, he, fr, f, he, wrfmve, n, ee, I, h, lle, fun, wchng, there, re, n, fu, tvcecr, pperng...</td>\n",
       "    </tr>\n",
       "    <tr>\n",
       "      <td>1</td>\n",
       "      <td>0</td>\n",
       "      <td>This movie could have been so much better with a script rewrite. Not that I expect a great deal ...</td>\n",
       "      <td>This movie could have been so much better with a script rewrite Not that I expect a great deal o...</td>\n",
       "      <td>Th ve cul hve been  uch beer wh  crp rewre N h I expec  gre el f plubl n ve bu u hnk h even he h...</td>\n",
       "      <td>[Th, ve, cul, hve, been, uch, beer, wh, crp, rewre, N, h, I, expec, gre, el, f, plubl, n, ve, bu...</td>\n",
       "      <td>[Th, ve, cul, hve, been, uch, beer, wh, crp, rewr, N, h, I, expec, gre, el, f, plubl, n, ve, bu,...</td>\n",
       "      <td>[Th, ve, cul, hve, been, uch, beer, wh, crp, rewr, N, h, I, expec, gre, el, f, plubl, n, ve, bu,...</td>\n",
       "    </tr>\n",
       "    <tr>\n",
       "      <td>2</td>\n",
       "      <td>1</td>\n",
       "      <td>I really liked this version of 'Vanishing Point' as opposed to the 1971 version. I found the 197...</td>\n",
       "      <td>I really liked this version of Vanishing Point as opposed to the 1971 version I found the 1971 v...</td>\n",
       "      <td>I rell lke h vern f Vnhng Pn  ppe  he 1971 vern I fun he 1971 vern que brng If I cn ge up n he l...</td>\n",
       "      <td>[I, rell, lke, h, vern, f, Vnhng, Pn, ppe, he, 1971, vern, I, fun, he, 1971, vern, que, brng, If...</td>\n",
       "      <td>[I, rell, lke, h, vern, f, vnhng, Pn, ppe, he, 1971, vern, I, fun, he, 1971, vern, que, brng, If...</td>\n",
       "      <td>[I, rell, lke, h, vern, f, vnhng, Pn, ppe, he, 1971, vern, I, fun, he, 1971, vern, que, brng, If...</td>\n",
       "    </tr>\n",
       "    <tr>\n",
       "      <td>3</td>\n",
       "      <td>0</td>\n",
       "      <td>Two years ago at Sundance I loved Josh Kornbluth's directing debut-Haiku Tunnel. So I was lookin...</td>\n",
       "      <td>Two years ago at Sundance I loved Josh Kornbluths directing debutHaiku Tunnel So I was looking f...</td>\n",
       "      <td>Tw er g  Sunnce I lve Jh Krnbluh recng ebuHku Tunnel S I w lkng frwr  h brher n frequen cllbrr J...</td>\n",
       "      <td>[Tw, er, g, Sunnce, I, lve, Jh, Krnbluh, recng, ebuHku, Tunnel, S, I, w, lkng, frwr, h, brher, n...</td>\n",
       "      <td>[Tw, er, g, sunnc, I, lve, Jh, krnbluh, recng, ebuhku, tunnel, S, I, w, lkng, frwr, h, brher, n,...</td>\n",
       "      <td>[Tw, er, g, sunnc, I, lve, Jh, krnbluh, recng, ebuhku, tunnel, S, I, w, lkng, frwr, h, brher, n,...</td>\n",
       "    </tr>\n",
       "    <tr>\n",
       "      <td>4</td>\n",
       "      <td>0</td>\n",
       "      <td>i got a copy from the writer of this movie on soulseek. I have to say it is pathetic and just pl...</td>\n",
       "      <td>i got a copy from the writer of this movie on soulseek I have to say it is pathetic and just pla...</td>\n",
       "      <td>g  cp fr he wrer f h ve n uleek I hve     phec n ju pln pnful  wch he w cp c bu  wche he ve   j...</td>\n",
       "      <td>[, g, cp, fr, he, wrer, f, h, ve, n, uleek, I, hve, phec, n, ju, pln, pnful, wch, he, w, cp, c, ...</td>\n",
       "      <td>[, g, cp, fr, he, wrer, f, h, ve, n, uleek, I, hve, phec, n, ju, pln, pnful, wch, he, w, cp, c, ...</td>\n",
       "      <td>[, g, cp, fr, he, wrer, f, h, ve, n, uleek, I, hve, phec, n, ju, pln, pnful, wch, he, w, cp, c, ...</td>\n",
       "    </tr>\n",
       "    <tr>\n",
       "      <td>...</td>\n",
       "      <td>...</td>\n",
       "      <td>...</td>\n",
       "      <td>...</td>\n",
       "      <td>...</td>\n",
       "      <td>...</td>\n",
       "      <td>...</td>\n",
       "      <td>...</td>\n",
       "    </tr>\n",
       "    <tr>\n",
       "      <td>24995</td>\n",
       "      <td>0</td>\n",
       "      <td>I can see the guys doing the budget preparation for this flick. \"Well lets see now, we spend 50%...</td>\n",
       "      <td>I can see the guys doing the budget preparation for this flick Well lets see now we spend 50 get...</td>\n",
       "      <td>I cn ee he gu ng he buge preprn fr h flck Well le ee nw we pen 50 geng Drk Benc cue Ble Sr Glcc ...</td>\n",
       "      <td>[I, cn, ee, he, gu, ng, he, buge, preprn, fr, h, flck, Well, le, ee, nw, we, pen, 50, geng, Drk,...</td>\n",
       "      <td>[I, cn, ee, he, gu, ng, he, buge, preprn, fr, h, flck, well, le, ee, nw, we, pen, 50, geng, drk,...</td>\n",
       "      <td>[I, cn, ee, he, gu, ng, he, buge, preprn, fr, h, flck, well, le, ee, nw, we, pen, 50, geng, drk,...</td>\n",
       "    </tr>\n",
       "    <tr>\n",
       "      <td>24996</td>\n",
       "      <td>1</td>\n",
       "      <td>A flying saucer manned (literally) by a crew of about 20 male space explorers travels hundreds o...</td>\n",
       "      <td>A flying saucer manned literally by a crew of about 20 male space explorers travels hundreds of ...</td>\n",
       "      <td>A flng ucer nne lerll b  crew f bu 20 le pce explrer rvel hunre f lln f lgh er fr erh  check n n...</td>\n",
       "      <td>[A, flng, ucer, nne, lerll, b, crew, f, bu, 20, le, pce, explrer, rvel, hunre, f, lln, f, lgh, e...</td>\n",
       "      <td>[A, flng, ucer, nne, lerll, b, crew, f, bu, 20, le, pce, explrer, rvel, hunr, f, lln, f, lgh, er...</td>\n",
       "      <td>[A, flng, ucer, nne, lerll, b, crew, f, bu, 20, le, pce, explrer, rvel, hunr, f, lln, f, lgh, er...</td>\n",
       "    </tr>\n",
       "    <tr>\n",
       "      <td>24997</td>\n",
       "      <td>1</td>\n",
       "      <td>I've seen a slew of \"80s rocker horrors\" over the years, from rubbish like \"Terror on Tour\" to r...</td>\n",
       "      <td>Ive seen a slew of 80s rocker horrors over the years from rubbish like Terror on Tour to ridicul...</td>\n",
       "      <td>Ive een  lew f 80 rcker hrrr ver he er fr rubbh lke Terrr n Tur  rculul fun ge lke Sluber Pr Mcr...</td>\n",
       "      <td>[Ive, een, lew, f, 80, rcker, hrrr, ver, he, er, fr, rubbh, lke, Terrr, n, Tur, rculul, fun, ge,...</td>\n",
       "      <td>[ive, een, lew, f, 80, rcker, hrrr, ver, he, er, fr, rubbh, lke, terrr, n, tur, rculul, fun, ge,...</td>\n",
       "      <td>[ive, een, lew, f, 80, rcker, hrrr, ver, he, er, fr, rubbh, lke, terrr, n, tur, rculul, fun, ge,...</td>\n",
       "    </tr>\n",
       "    <tr>\n",
       "      <td>24998</td>\n",
       "      <td>1</td>\n",
       "      <td>One thing i can say about this movie is well long, VERY LONG! I actually recently purchased this...</td>\n",
       "      <td>One thing i can say about this movie is well long VERY LONG I actually recently purchased this m...</td>\n",
       "      <td>One hng  cn  bu h ve  well lng VERY LONG I cull recenl purche h ve  cuple f nh g eeng h here w  ...</td>\n",
       "      <td>[One, hng, cn, bu, h, ve, well, lng, VERY, LONG, I, cull, recenl, purche, h, ve, cuple, f, nh, g...</td>\n",
       "      <td>[one, hng, cn, bu, h, ve, well, lng, veri, long, I, cull, recenl, purch, h, ve, cupl, f, nh, g, ...</td>\n",
       "      <td>[one, hng, cn, bu, h, ve, well, lng, veri, long, I, cull, recenl, purch, h, ve, cupl, f, nh, g, ...</td>\n",
       "    </tr>\n",
       "    <tr>\n",
       "      <td>24999</td>\n",
       "      <td>0</td>\n",
       "      <td>'Ninteen Eighty-Four' is a film about a futuristic society in which the government controls ever...</td>\n",
       "      <td>Ninteen EightyFour is a film about a futuristic society in which the government controls everyth...</td>\n",
       "      <td>Nneen EghFur   fl bu  fuurc ce n whch he gvernen cnrl everhng n n ne cn be rue I   ver rk fl n  ...</td>\n",
       "      <td>[Nneen, EghFur, fl, bu, fuurc, ce, n, whch, he, gvernen, cnrl, everhng, n, n, ne, cn, be, rue, I...</td>\n",
       "      <td>[nneen, eghfur, fl, bu, fuurc, ce, n, whch, he, gvernen, cnrl, everhng, n, n, ne, cn, be, rue, I...</td>\n",
       "      <td>[nneen, eghfur, fl, bu, fuurc, ce, n, whch, he, gvernen, cnrl, everhng, n, n, ne, cn, be, rue, I...</td>\n",
       "    </tr>\n",
       "  </tbody>\n",
       "</table>\n",
       "<p>25000 rows × 7 columns</p>\n",
       "</div>"
      ],
      "text/plain": [
       "       Label  \\\n",
       "0          0   \n",
       "1          0   \n",
       "2          1   \n",
       "3          0   \n",
       "4          0   \n",
       "...      ...   \n",
       "24995      0   \n",
       "24996      1   \n",
       "24997      1   \n",
       "24998      1   \n",
       "24999      0   \n",
       "\n",
       "                                                                                                    Review  \\\n",
       "0      I've seen the first of the dwarf-Movies and sometimes I had little fun watching it. There are ma...   \n",
       "1      This movie could have been so much better with a script rewrite. Not that I expect a great deal ...   \n",
       "2      I really liked this version of 'Vanishing Point' as opposed to the 1971 version. I found the 197...   \n",
       "3      Two years ago at Sundance I loved Josh Kornbluth's directing debut-Haiku Tunnel. So I was lookin...   \n",
       "4      i got a copy from the writer of this movie on soulseek. I have to say it is pathetic and just pl...   \n",
       "...                                                                                                    ...   \n",
       "24995  I can see the guys doing the budget preparation for this flick. \"Well lets see now, we spend 50%...   \n",
       "24996  A flying saucer manned (literally) by a crew of about 20 male space explorers travels hundreds o...   \n",
       "24997  I've seen a slew of \"80s rocker horrors\" over the years, from rubbish like \"Terror on Tour\" to r...   \n",
       "24998  One thing i can say about this movie is well long, VERY LONG! I actually recently purchased this...   \n",
       "24999  'Ninteen Eighty-Four' is a film about a futuristic society in which the government controls ever...   \n",
       "\n",
       "                                                                                        Review_pre_process  \\\n",
       "0      Ive seen the first of the dwarfMovies and sometimes I had little fun watching it There are many ...   \n",
       "1      This movie could have been so much better with a script rewrite Not that I expect a great deal o...   \n",
       "2      I really liked this version of Vanishing Point as opposed to the 1971 version I found the 1971 v...   \n",
       "3      Two years ago at Sundance I loved Josh Kornbluths directing debutHaiku Tunnel So I was looking f...   \n",
       "4      i got a copy from the writer of this movie on soulseek I have to say it is pathetic and just pla...   \n",
       "...                                                                                                    ...   \n",
       "24995  I can see the guys doing the budget preparation for this flick Well lets see now we spend 50 get...   \n",
       "24996  A flying saucer manned literally by a crew of about 20 male space explorers travels hundreds of ...   \n",
       "24997  Ive seen a slew of 80s rocker horrors over the years from rubbish like Terror on Tour to ridicul...   \n",
       "24998  One thing i can say about this movie is well long VERY LONG I actually recently purchased this m...   \n",
       "24999  Ninteen EightyFour is a film about a futuristic society in which the government controls everyth...   \n",
       "\n",
       "                                                                                               Review_stop  \\\n",
       "0      Ive een he fr f he wrfMve n ee I h lle fun wchng  There re n fu TVCecr pperng n he fr pr n preen...   \n",
       "1      Th ve cul hve been  uch beer wh  crp rewre N h I expec  gre el f plubl n ve bu u hnk h even he h...   \n",
       "2      I rell lke h vern f Vnhng Pn  ppe  he 1971 vern I fun he 1971 vern que brng If I cn ge up n he l...   \n",
       "3      Tw er g  Sunnce I lve Jh Krnbluh recng ebuHku Tunnel S I w lkng frwr  h brher n frequen cllbrr J...   \n",
       "4       g  cp fr he wrer f h ve n uleek I hve     phec n ju pln pnful  wch he w cp c bu  wche he ve   j...   \n",
       "...                                                                                                    ...   \n",
       "24995  I cn ee he gu ng he buge preprn fr h flck Well le ee nw we pen 50 geng Drk Benc cue Ble Sr Glcc ...   \n",
       "24996  A flng ucer nne lerll b  crew f bu 20 le pce explrer rvel hunre f lln f lgh er fr erh  check n n...   \n",
       "24997  Ive een  lew f 80 rcker hrrr ver he er fr rubbh lke Terrr n Tur  rculul fun ge lke Sluber Pr Mcr...   \n",
       "24998  One hng  cn  bu h ve  well lng VERY LONG I cull recenl purche h ve  cuple f nh g eeng h here w  ...   \n",
       "24999  Nneen EghFur   fl bu  fuurc ce n whch he gvernen cnrl everhng n n ne cn be rue I   ver rk fl n  ...   \n",
       "\n",
       "                                                                                              Review_token  \\\n",
       "0      [Ive, een, he, fr, f, he, wrfMve, n, ee, I, h, lle, fun, wchng, There, re, n, fu, TVCecr, pperng...   \n",
       "1      [Th, ve, cul, hve, been, uch, beer, wh, crp, rewre, N, h, I, expec, gre, el, f, plubl, n, ve, bu...   \n",
       "2      [I, rell, lke, h, vern, f, Vnhng, Pn, ppe, he, 1971, vern, I, fun, he, 1971, vern, que, brng, If...   \n",
       "3      [Tw, er, g, Sunnce, I, lve, Jh, Krnbluh, recng, ebuHku, Tunnel, S, I, w, lkng, frwr, h, brher, n...   \n",
       "4      [, g, cp, fr, he, wrer, f, h, ve, n, uleek, I, hve, phec, n, ju, pln, pnful, wch, he, w, cp, c, ...   \n",
       "...                                                                                                    ...   \n",
       "24995  [I, cn, ee, he, gu, ng, he, buge, preprn, fr, h, flck, Well, le, ee, nw, we, pen, 50, geng, Drk,...   \n",
       "24996  [A, flng, ucer, nne, lerll, b, crew, f, bu, 20, le, pce, explrer, rvel, hunre, f, lln, f, lgh, e...   \n",
       "24997  [Ive, een, lew, f, 80, rcker, hrrr, ver, he, er, fr, rubbh, lke, Terrr, n, Tur, rculul, fun, ge,...   \n",
       "24998  [One, hng, cn, bu, h, ve, well, lng, VERY, LONG, I, cull, recenl, purche, h, ve, cuple, f, nh, g...   \n",
       "24999  [Nneen, EghFur, fl, bu, fuurc, ce, n, whch, he, gvernen, cnrl, everhng, n, n, ne, cn, be, rue, I...   \n",
       "\n",
       "                                                                                               Review_stem  \\\n",
       "0      [ive, een, he, fr, f, he, wrfmve, n, ee, I, h, lle, fun, wchng, there, re, n, fu, tvcecr, pperng...   \n",
       "1      [Th, ve, cul, hve, been, uch, beer, wh, crp, rewr, N, h, I, expec, gre, el, f, plubl, n, ve, bu,...   \n",
       "2      [I, rell, lke, h, vern, f, vnhng, Pn, ppe, he, 1971, vern, I, fun, he, 1971, vern, que, brng, If...   \n",
       "3      [Tw, er, g, sunnc, I, lve, Jh, krnbluh, recng, ebuhku, tunnel, S, I, w, lkng, frwr, h, brher, n,...   \n",
       "4      [, g, cp, fr, he, wrer, f, h, ve, n, uleek, I, hve, phec, n, ju, pln, pnful, wch, he, w, cp, c, ...   \n",
       "...                                                                                                    ...   \n",
       "24995  [I, cn, ee, he, gu, ng, he, buge, preprn, fr, h, flck, well, le, ee, nw, we, pen, 50, geng, drk,...   \n",
       "24996  [A, flng, ucer, nne, lerll, b, crew, f, bu, 20, le, pce, explrer, rvel, hunr, f, lln, f, lgh, er...   \n",
       "24997  [ive, een, lew, f, 80, rcker, hrrr, ver, he, er, fr, rubbh, lke, terrr, n, tur, rculul, fun, ge,...   \n",
       "24998  [one, hng, cn, bu, h, ve, well, lng, veri, long, I, cull, recenl, purch, h, ve, cupl, f, nh, g, ...   \n",
       "24999  [nneen, eghfur, fl, bu, fuurc, ce, n, whch, he, gvernen, cnrl, everhng, n, n, ne, cn, be, rue, I...   \n",
       "\n",
       "                                                                                                Review_lem  \n",
       "0      [ive, een, he, fr, f, he, wrfmve, n, ee, I, h, lle, fun, wchng, there, re, n, fu, tvcecr, pperng...  \n",
       "1      [Th, ve, cul, hve, been, uch, beer, wh, crp, rewr, N, h, I, expec, gre, el, f, plubl, n, ve, bu,...  \n",
       "2      [I, rell, lke, h, vern, f, vnhng, Pn, ppe, he, 1971, vern, I, fun, he, 1971, vern, que, brng, If...  \n",
       "3      [Tw, er, g, sunnc, I, lve, Jh, krnbluh, recng, ebuhku, tunnel, S, I, w, lkng, frwr, h, brher, n,...  \n",
       "4      [, g, cp, fr, he, wrer, f, h, ve, n, uleek, I, hve, phec, n, ju, pln, pnful, wch, he, w, cp, c, ...  \n",
       "...                                                                                                    ...  \n",
       "24995  [I, cn, ee, he, gu, ng, he, buge, preprn, fr, h, flck, well, le, ee, nw, we, pen, 50, geng, drk,...  \n",
       "24996  [A, flng, ucer, nne, lerll, b, crew, f, bu, 20, le, pce, explrer, rvel, hunr, f, lln, f, lgh, er...  \n",
       "24997  [ive, een, lew, f, 80, rcker, hrrr, ver, he, er, fr, rubbh, lke, terrr, n, tur, rculul, fun, ge,...  \n",
       "24998  [one, hng, cn, bu, h, ve, well, lng, veri, long, I, cull, recenl, purch, h, ve, cupl, f, nh, g, ...  \n",
       "24999  [nneen, eghfur, fl, bu, fuurc, ce, n, whch, he, gvernen, cnrl, everhng, n, n, ne, cn, be, rue, I...  \n",
       "\n",
       "[25000 rows x 7 columns]"
      ]
     },
     "execution_count": 224,
     "metadata": {},
     "output_type": "execute_result"
    }
   ],
   "source": [
    "## lemmatizer\n",
    "l=nltk.WordNetLemmatizer()\n",
    "\n",
    "def remove_lem(a):\n",
    "    text=[l.lemmatize(word) for word in a]\n",
    "    return text\n",
    "train_df['Review_lem']=train_df['Review_stem'].apply(lambda x: remove_lem(x))\n",
    "train_df"
   ]
  },
  {
   "cell_type": "code",
   "execution_count": 225,
   "metadata": {},
   "outputs": [
    {
     "data": {
      "text/html": [
       "<div>\n",
       "<style scoped>\n",
       "    .dataframe tbody tr th:only-of-type {\n",
       "        vertical-align: middle;\n",
       "    }\n",
       "\n",
       "    .dataframe tbody tr th {\n",
       "        vertical-align: top;\n",
       "    }\n",
       "\n",
       "    .dataframe thead th {\n",
       "        text-align: right;\n",
       "    }\n",
       "</style>\n",
       "<table border=\"1\" class=\"dataframe\">\n",
       "  <thead>\n",
       "    <tr style=\"text-align: right;\">\n",
       "      <th></th>\n",
       "      <th>Label</th>\n",
       "      <th>Review</th>\n",
       "      <th>Review_pre_process</th>\n",
       "      <th>Review_stop</th>\n",
       "      <th>Review_token</th>\n",
       "      <th>Review_stem</th>\n",
       "      <th>Review_lem</th>\n",
       "    </tr>\n",
       "  </thead>\n",
       "  <tbody>\n",
       "    <tr>\n",
       "      <td>0</td>\n",
       "      <td>0</td>\n",
       "      <td>What a joke. I am watching it on Channel 1 and I think watching paint dry is much more entertain...</td>\n",
       "      <td>What a joke I am watching it on Channel 1 and I think watching paint dry is much more entertaini...</td>\n",
       "      <td>Wh  jke I  wchng  n Chnnel 1 n I hnk wchng pn r  uch re enernng Wh hppene  Cpr Vn Den h g h rpe ...</td>\n",
       "      <td>[Wh, jke, I, wchng, n, Chnnel, 1, n, I, hnk, wchng, pn, r, uch, re, enernng, Wh, hppene, Cpr, Vn...</td>\n",
       "      <td>[Wh, jke, I, wchng, n, chnnel, 1, n, I, hnk, wchng, pn, r, uch, re, enernng, Wh, hppene, cpr, Vn...</td>\n",
       "      <td>[Wh, jke, I, wchng, n, chnnel, 1, n, I, hnk, wchng, pn, r, uch, re, enernng, Wh, hppene, cpr, Vn...</td>\n",
       "    </tr>\n",
       "    <tr>\n",
       "      <td>1</td>\n",
       "      <td>0</td>\n",
       "      <td>I was duped into seeing this movie after reading a positive review from another website and man ...</td>\n",
       "      <td>I was duped into seeing this movie after reading a positive review from another website and man ...</td>\n",
       "      <td>I w upe n eeng h ve fer reng  pve revew fr nher webe n n w I p  k e  le 15 nue  pck  up ff he he...</td>\n",
       "      <td>[I, w, upe, n, eeng, h, ve, fer, reng, pve, revew, fr, nher, webe, n, n, w, I, p, k, e, le, 15, ...</td>\n",
       "      <td>[I, w, upe, n, eeng, h, ve, fer, reng, pve, revew, fr, nher, webe, n, n, w, I, p, k, e, le, 15, ...</td>\n",
       "      <td>[I, w, upe, n, eeng, h, ve, fer, reng, pve, revew, fr, nher, webe, n, n, w, I, p, k, e, le, 15, ...</td>\n",
       "    </tr>\n",
       "    <tr>\n",
       "      <td>2</td>\n",
       "      <td>0</td>\n",
       "      <td>Joe Don Baker is an alright to good actor in small roles here and there...he was alright in Gold...</td>\n",
       "      <td>Joe Don Baker is an alright to good actor in small roles here and therehe was alright in Goldene...</td>\n",
       "      <td>Je Dn Bker  n lrgh  g cr n ll rle here n herehe w lrgh n Glenee n e  pre g Bn vlln n The Lvng Dl...</td>\n",
       "      <td>[Je, Dn, Bker, n, lrgh, g, cr, n, ll, rle, here, n, herehe, w, lrgh, n, Glenee, n, e, pre, g, Bn...</td>\n",
       "      <td>[Je, Dn, bker, n, lrgh, g, cr, n, ll, rle, here, n, hereh, w, lrgh, n, glene, n, e, pre, g, Bn, ...</td>\n",
       "      <td>[Je, Dn, bker, n, lrgh, g, cr, n, ll, rle, here, n, hereh, w, lrgh, n, glene, n, e, pre, g, Bn, ...</td>\n",
       "    </tr>\n",
       "    <tr>\n",
       "      <td>3</td>\n",
       "      <td>0</td>\n",
       "      <td>After reading the previous comments, I'm just glad that I wasn't the only person left confused, ...</td>\n",
       "      <td>After reading the previous comments Im just glad that I wasnt the only person left confused espe...</td>\n",
       "      <td>Afer reng he prevu cen I ju gl h I wn he nl pern lef cnfue epecll b he l 20 nue Jhn Crrne  hwn w...</td>\n",
       "      <td>[Afer, reng, he, prevu, cen, I, ju, gl, h, I, wn, he, nl, pern, lef, cnfue, epecll, b, he, l, 20...</td>\n",
       "      <td>[afer, reng, he, prevu, cen, I, ju, gl, h, I, wn, he, nl, pern, lef, cnfue, epecl, b, he, l, 20,...</td>\n",
       "      <td>[afer, reng, he, prevu, cen, I, ju, gl, h, I, wn, he, nl, pern, lef, cnfue, epecl, b, he, l, 20,...</td>\n",
       "    </tr>\n",
       "    <tr>\n",
       "      <td>4</td>\n",
       "      <td>0</td>\n",
       "      <td>Twist endings can be really cool in a movie. It's especially interesting when the twist is right...</td>\n",
       "      <td>Twist endings can be really cool in a movie Its especially interesting when the twist is right i...</td>\n",
       "      <td>Tw enng cn be rell cl n  ve I epecll nereng when he w  rgh n frn f ur ee bu we ju n p enn The pe...</td>\n",
       "      <td>[Tw, enng, cn, be, rell, cl, n, ve, I, epecll, nereng, when, he, w, rgh, n, frn, f, ur, ee, bu, ...</td>\n",
       "      <td>[Tw, enng, cn, be, rell, cl, n, ve, I, epecl, nereng, when, he, w, rgh, n, frn, f, ur, ee, bu, w...</td>\n",
       "      <td>[Tw, enng, cn, be, rell, cl, n, ve, I, epecl, nereng, when, he, w, rgh, n, frn, f, ur, ee, bu, w...</td>\n",
       "    </tr>\n",
       "    <tr>\n",
       "      <td>...</td>\n",
       "      <td>...</td>\n",
       "      <td>...</td>\n",
       "      <td>...</td>\n",
       "      <td>...</td>\n",
       "      <td>...</td>\n",
       "      <td>...</td>\n",
       "      <td>...</td>\n",
       "    </tr>\n",
       "    <tr>\n",
       "      <td>24995</td>\n",
       "      <td>1</td>\n",
       "      <td>We toss around the term \"superstar\" way too lightly these days, but here's one guy that truly de...</td>\n",
       "      <td>We toss around the term superstar way too lightly these days but heres one guy that truly deserv...</td>\n",
       "      <td>We  run he er uperr w  lghl hee  bu here ne gu h rul eerve br br I w glue  he e h enre hw The ng...</td>\n",
       "      <td>[We, run, he, er, uperr, w, lghl, hee, bu, here, ne, gu, h, rul, eerve, br, br, I, w, glue, he, ...</td>\n",
       "      <td>[We, run, he, er, uperr, w, lghl, hee, bu, here, ne, gu, h, rul, eerv, br, br, I, w, glue, he, e...</td>\n",
       "      <td>[We, run, he, er, uperr, w, lghl, hee, bu, here, ne, gu, h, rul, eerv, br, br, I, w, glue, he, e...</td>\n",
       "    </tr>\n",
       "    <tr>\n",
       "      <td>24996</td>\n",
       "      <td>0</td>\n",
       "      <td>DR. SEUSS' HOW THE GRINCH STOLE CHRISTMAS / (2000) ** (out of four)&lt;br /&gt;&lt;br /&gt;If you desire to ...</td>\n",
       "      <td>DR SEUSS HOW THE GRINCH STOLE CHRISTMAS  2000  out of fourbr br If you desire to see a holiday m...</td>\n",
       "      <td>DR SEUSS HOW THE GRINCH STOLE CHRISTMAS  2000  u f furbr br If u ere  ee  hl ve h wll npre ur en...</td>\n",
       "      <td>[DR, SEUSS, HOW, THE, GRINCH, STOLE, CHRISTMAS, 2000, u, f, furbr, br, If, u, ere, ee, hl, ve, h...</td>\n",
       "      <td>[DR, seuss, how, the, grinch, stole, christma, 2000, u, f, furbr, br, If, u, ere, ee, hl, ve, h,...</td>\n",
       "      <td>[DR, seuss, how, the, grinch, stole, christma, 2000, u, f, furbr, br, If, u, ere, ee, hl, ve, h,...</td>\n",
       "    </tr>\n",
       "    <tr>\n",
       "      <td>24997</td>\n",
       "      <td>0</td>\n",
       "      <td>The only redeeming quality of this movie is that it was bad enough to be comedic. Everyone in th...</td>\n",
       "      <td>The only redeeming quality of this movie is that it was bad enough to be comedic Everyone in thi...</td>\n",
       "      <td>The nl reeeng qul f h ve  h  w b enugh  be cec Everne n h ve lk lke  prn nur rp u I hve cull een...</td>\n",
       "      <td>[The, nl, reeeng, qul, f, h, ve, h, w, b, enugh, be, cec, Everne, n, h, ve, lk, lke, prn, nur, r...</td>\n",
       "      <td>[the, nl, reeeng, qul, f, h, ve, h, w, b, enugh, be, cec, evern, n, h, ve, lk, lke, prn, nur, rp...</td>\n",
       "      <td>[the, nl, reeeng, qul, f, h, ve, h, w, b, enugh, be, cec, evern, n, h, ve, lk, lke, prn, nur, rp...</td>\n",
       "    </tr>\n",
       "    <tr>\n",
       "      <td>24998</td>\n",
       "      <td>0</td>\n",
       "      <td>There is no story! The plot is hopeless! A filmed based on a car with a stuck accelerator, no br...</td>\n",
       "      <td>There is no story The plot is hopeless A filmed based on a car with a stuck accelerator no brake...</td>\n",
       "      <td>There  n r The pl  hpele A fle be n  cr wh  uck ccelerr n brke n  uck uc rnn ger lever cnn be g ...</td>\n",
       "      <td>[There, n, r, The, pl, hpele, A, fle, be, n, cr, wh, uck, ccelerr, n, brke, n, uck, uc, rnn, ger...</td>\n",
       "      <td>[there, n, r, the, pl, hpele, A, fle, be, n, cr, wh, uck, ccelerr, n, brke, n, uck, uc, rnn, ger...</td>\n",
       "      <td>[there, n, r, the, pl, hpele, A, fle, be, n, cr, wh, uck, ccelerr, n, brke, n, uck, uc, rnn, ger...</td>\n",
       "    </tr>\n",
       "    <tr>\n",
       "      <td>24999</td>\n",
       "      <td>0</td>\n",
       "      <td>### Spoilers! ### &lt;br /&gt;&lt;br /&gt;What is this movie offering? Out of control editing and cinematogr...</td>\n",
       "      <td>Spoilers  br br What is this movie offering Out of control editing and cinematography that matc...</td>\n",
       "      <td>Spler  br br Wh  h ve fferng Ou f cnrl eng n cnegrph h che up wh  errble pl I    ee Denzel Whng...</td>\n",
       "      <td>[, Spler, br, br, Wh, h, ve, fferng, Ou, f, cnrl, eng, n, cnegrph, h, che, up, wh, errble, pl, I...</td>\n",
       "      <td>[, spler, br, br, Wh, h, ve, fferng, Ou, f, cnrl, eng, n, cnegrph, h, che, up, wh, errbl, pl, I,...</td>\n",
       "      <td>[, spler, br, br, Wh, h, ve, fferng, Ou, f, cnrl, eng, n, cnegrph, h, che, up, wh, errbl, pl, I,...</td>\n",
       "    </tr>\n",
       "  </tbody>\n",
       "</table>\n",
       "<p>25000 rows × 7 columns</p>\n",
       "</div>"
      ],
      "text/plain": [
       "       Label  \\\n",
       "0          0   \n",
       "1          0   \n",
       "2          0   \n",
       "3          0   \n",
       "4          0   \n",
       "...      ...   \n",
       "24995      1   \n",
       "24996      0   \n",
       "24997      0   \n",
       "24998      0   \n",
       "24999      0   \n",
       "\n",
       "                                                                                                    Review  \\\n",
       "0      What a joke. I am watching it on Channel 1 and I think watching paint dry is much more entertain...   \n",
       "1      I was duped into seeing this movie after reading a positive review from another website and man ...   \n",
       "2      Joe Don Baker is an alright to good actor in small roles here and there...he was alright in Gold...   \n",
       "3      After reading the previous comments, I'm just glad that I wasn't the only person left confused, ...   \n",
       "4      Twist endings can be really cool in a movie. It's especially interesting when the twist is right...   \n",
       "...                                                                                                    ...   \n",
       "24995  We toss around the term \"superstar\" way too lightly these days, but here's one guy that truly de...   \n",
       "24996  DR. SEUSS' HOW THE GRINCH STOLE CHRISTMAS / (2000) ** (out of four)<br /><br />If you desire to ...   \n",
       "24997  The only redeeming quality of this movie is that it was bad enough to be comedic. Everyone in th...   \n",
       "24998  There is no story! The plot is hopeless! A filmed based on a car with a stuck accelerator, no br...   \n",
       "24999  ### Spoilers! ### <br /><br />What is this movie offering? Out of control editing and cinematogr...   \n",
       "\n",
       "                                                                                        Review_pre_process  \\\n",
       "0      What a joke I am watching it on Channel 1 and I think watching paint dry is much more entertaini...   \n",
       "1      I was duped into seeing this movie after reading a positive review from another website and man ...   \n",
       "2      Joe Don Baker is an alright to good actor in small roles here and therehe was alright in Goldene...   \n",
       "3      After reading the previous comments Im just glad that I wasnt the only person left confused espe...   \n",
       "4      Twist endings can be really cool in a movie Its especially interesting when the twist is right i...   \n",
       "...                                                                                                    ...   \n",
       "24995  We toss around the term superstar way too lightly these days but heres one guy that truly deserv...   \n",
       "24996  DR SEUSS HOW THE GRINCH STOLE CHRISTMAS  2000  out of fourbr br If you desire to see a holiday m...   \n",
       "24997  The only redeeming quality of this movie is that it was bad enough to be comedic Everyone in thi...   \n",
       "24998  There is no story The plot is hopeless A filmed based on a car with a stuck accelerator no brake...   \n",
       "24999   Spoilers  br br What is this movie offering Out of control editing and cinematography that matc...   \n",
       "\n",
       "                                                                                               Review_stop  \\\n",
       "0      Wh  jke I  wchng  n Chnnel 1 n I hnk wchng pn r  uch re enernng Wh hppene  Cpr Vn Den h g h rpe ...   \n",
       "1      I w upe n eeng h ve fer reng  pve revew fr nher webe n n w I p  k e  le 15 nue  pck  up ff he he...   \n",
       "2      Je Dn Bker  n lrgh  g cr n ll rle here n herehe w lrgh n Glenee n e  pre g Bn vlln n The Lvng Dl...   \n",
       "3      Afer reng he prevu cen I ju gl h I wn he nl pern lef cnfue epecll b he l 20 nue Jhn Crrne  hwn w...   \n",
       "4      Tw enng cn be rell cl n  ve I epecll nereng when he w  rgh n frn f ur ee bu we ju n p enn The pe...   \n",
       "...                                                                                                    ...   \n",
       "24995  We  run he er uperr w  lghl hee  bu here ne gu h rul eerve br br I w glue  he e h enre hw The ng...   \n",
       "24996  DR SEUSS HOW THE GRINCH STOLE CHRISTMAS  2000  u f furbr br If u ere  ee  hl ve h wll npre ur en...   \n",
       "24997  The nl reeeng qul f h ve  h  w b enugh  be cec Everne n h ve lk lke  prn nur rp u I hve cull een...   \n",
       "24998  There  n r The pl  hpele A fle be n  cr wh  uck ccelerr n brke n  uck uc rnn ger lever cnn be g ...   \n",
       "24999   Spler  br br Wh  h ve fferng Ou f cnrl eng n cnegrph h che up wh  errble pl I    ee Denzel Whng...   \n",
       "\n",
       "                                                                                              Review_token  \\\n",
       "0      [Wh, jke, I, wchng, n, Chnnel, 1, n, I, hnk, wchng, pn, r, uch, re, enernng, Wh, hppene, Cpr, Vn...   \n",
       "1      [I, w, upe, n, eeng, h, ve, fer, reng, pve, revew, fr, nher, webe, n, n, w, I, p, k, e, le, 15, ...   \n",
       "2      [Je, Dn, Bker, n, lrgh, g, cr, n, ll, rle, here, n, herehe, w, lrgh, n, Glenee, n, e, pre, g, Bn...   \n",
       "3      [Afer, reng, he, prevu, cen, I, ju, gl, h, I, wn, he, nl, pern, lef, cnfue, epecll, b, he, l, 20...   \n",
       "4      [Tw, enng, cn, be, rell, cl, n, ve, I, epecll, nereng, when, he, w, rgh, n, frn, f, ur, ee, bu, ...   \n",
       "...                                                                                                    ...   \n",
       "24995  [We, run, he, er, uperr, w, lghl, hee, bu, here, ne, gu, h, rul, eerve, br, br, I, w, glue, he, ...   \n",
       "24996  [DR, SEUSS, HOW, THE, GRINCH, STOLE, CHRISTMAS, 2000, u, f, furbr, br, If, u, ere, ee, hl, ve, h...   \n",
       "24997  [The, nl, reeeng, qul, f, h, ve, h, w, b, enugh, be, cec, Everne, n, h, ve, lk, lke, prn, nur, r...   \n",
       "24998  [There, n, r, The, pl, hpele, A, fle, be, n, cr, wh, uck, ccelerr, n, brke, n, uck, uc, rnn, ger...   \n",
       "24999  [, Spler, br, br, Wh, h, ve, fferng, Ou, f, cnrl, eng, n, cnegrph, h, che, up, wh, errble, pl, I...   \n",
       "\n",
       "                                                                                               Review_stem  \\\n",
       "0      [Wh, jke, I, wchng, n, chnnel, 1, n, I, hnk, wchng, pn, r, uch, re, enernng, Wh, hppene, cpr, Vn...   \n",
       "1      [I, w, upe, n, eeng, h, ve, fer, reng, pve, revew, fr, nher, webe, n, n, w, I, p, k, e, le, 15, ...   \n",
       "2      [Je, Dn, bker, n, lrgh, g, cr, n, ll, rle, here, n, hereh, w, lrgh, n, glene, n, e, pre, g, Bn, ...   \n",
       "3      [afer, reng, he, prevu, cen, I, ju, gl, h, I, wn, he, nl, pern, lef, cnfue, epecl, b, he, l, 20,...   \n",
       "4      [Tw, enng, cn, be, rell, cl, n, ve, I, epecl, nereng, when, he, w, rgh, n, frn, f, ur, ee, bu, w...   \n",
       "...                                                                                                    ...   \n",
       "24995  [We, run, he, er, uperr, w, lghl, hee, bu, here, ne, gu, h, rul, eerv, br, br, I, w, glue, he, e...   \n",
       "24996  [DR, seuss, how, the, grinch, stole, christma, 2000, u, f, furbr, br, If, u, ere, ee, hl, ve, h,...   \n",
       "24997  [the, nl, reeeng, qul, f, h, ve, h, w, b, enugh, be, cec, evern, n, h, ve, lk, lke, prn, nur, rp...   \n",
       "24998  [there, n, r, the, pl, hpele, A, fle, be, n, cr, wh, uck, ccelerr, n, brke, n, uck, uc, rnn, ger...   \n",
       "24999  [, spler, br, br, Wh, h, ve, fferng, Ou, f, cnrl, eng, n, cnegrph, h, che, up, wh, errbl, pl, I,...   \n",
       "\n",
       "                                                                                                Review_lem  \n",
       "0      [Wh, jke, I, wchng, n, chnnel, 1, n, I, hnk, wchng, pn, r, uch, re, enernng, Wh, hppene, cpr, Vn...  \n",
       "1      [I, w, upe, n, eeng, h, ve, fer, reng, pve, revew, fr, nher, webe, n, n, w, I, p, k, e, le, 15, ...  \n",
       "2      [Je, Dn, bker, n, lrgh, g, cr, n, ll, rle, here, n, hereh, w, lrgh, n, glene, n, e, pre, g, Bn, ...  \n",
       "3      [afer, reng, he, prevu, cen, I, ju, gl, h, I, wn, he, nl, pern, lef, cnfue, epecl, b, he, l, 20,...  \n",
       "4      [Tw, enng, cn, be, rell, cl, n, ve, I, epecl, nereng, when, he, w, rgh, n, frn, f, ur, ee, bu, w...  \n",
       "...                                                                                                    ...  \n",
       "24995  [We, run, he, er, uperr, w, lghl, hee, bu, here, ne, gu, h, rul, eerv, br, br, I, w, glue, he, e...  \n",
       "24996  [DR, seuss, how, the, grinch, stole, christma, 2000, u, f, furbr, br, If, u, ere, ee, hl, ve, h,...  \n",
       "24997  [the, nl, reeeng, qul, f, h, ve, h, w, b, enugh, be, cec, evern, n, h, ve, lk, lke, prn, nur, rp...  \n",
       "24998  [there, n, r, the, pl, hpele, A, fle, be, n, cr, wh, uck, ccelerr, n, brke, n, uck, uc, rnn, ger...  \n",
       "24999  [, spler, br, br, Wh, h, ve, fferng, Ou, f, cnrl, eng, n, cnegrph, h, che, up, wh, errbl, pl, I,...  \n",
       "\n",
       "[25000 rows x 7 columns]"
      ]
     },
     "execution_count": 225,
     "metadata": {},
     "output_type": "execute_result"
    }
   ],
   "source": [
    "test_df['Review_lem']=test_df['Review_stem'].apply(lambda x:remove_lem(x))\n",
    "test_df"
   ]
  },
  {
   "cell_type": "code",
   "execution_count": 29,
   "metadata": {
    "scrolled": true
   },
   "outputs": [
    {
     "data": {
      "text/html": [
       "<div>\n",
       "<style scoped>\n",
       "    .dataframe tbody tr th:only-of-type {\n",
       "        vertical-align: middle;\n",
       "    }\n",
       "\n",
       "    .dataframe tbody tr th {\n",
       "        vertical-align: top;\n",
       "    }\n",
       "\n",
       "    .dataframe thead th {\n",
       "        text-align: right;\n",
       "    }\n",
       "</style>\n",
       "<table border=\"1\" class=\"dataframe\">\n",
       "  <thead>\n",
       "    <tr style=\"text-align: right;\">\n",
       "      <th></th>\n",
       "      <th>Label</th>\n",
       "      <th>Review</th>\n",
       "      <th>Review_pre_process</th>\n",
       "      <th>Review_stop</th>\n",
       "      <th>Review_token</th>\n",
       "      <th>Review_stem</th>\n",
       "      <th>Review_lem</th>\n",
       "      <th>% punct</th>\n",
       "      <th>Review_length</th>\n",
       "    </tr>\n",
       "  </thead>\n",
       "  <tbody>\n",
       "    <tr>\n",
       "      <td>0</td>\n",
       "      <td>1</td>\n",
       "      <td>I found the one and only comment about this mo...</td>\n",
       "      <td>I found the one and only comment about this mo...</td>\n",
       "      <td>I fun he ne n nl cen bu h ve enrel unnfrve n l...</td>\n",
       "      <td>[I, fun, he, ne, n, nl, cen, bu, h, ve, enrel,...</td>\n",
       "      <td>[I, fun, he, ne, n, nl, cen, bu, h, ve, enrel,...</td>\n",
       "      <td>[I, fun, he, ne, n, nl, cen, bu, h, ve, enrel,...</td>\n",
       "      <td>3.4</td>\n",
       "      <td>843</td>\n",
       "    </tr>\n",
       "    <tr>\n",
       "      <td>1</td>\n",
       "      <td>0</td>\n",
       "      <td>This movie was kind of interesting...I had to ...</td>\n",
       "      <td>This movie was kind of interestingI had to wat...</td>\n",
       "      <td>Th ve w kn f nerengI h  wch  fr  cllege cl bu ...</td>\n",
       "      <td>[Th, ve, w, kn, f, nerengI, h, wch, fr, cllege...</td>\n",
       "      <td>[Th, ve, w, kn, f, nerengi, h, wch, fr, cllege...</td>\n",
       "      <td>[Th, ve, w, kn, f, nerengi, h, wch, fr, cllege...</td>\n",
       "      <td>3.0</td>\n",
       "      <td>657</td>\n",
       "    </tr>\n",
       "    <tr>\n",
       "      <td>2</td>\n",
       "      <td>0</td>\n",
       "      <td>This film is an attempt to present Jared Diamo...</td>\n",
       "      <td>This film is an attempt to present Jared Diamo...</td>\n",
       "      <td>Th fl  n ep  preen Jre Dn her f Gun Ger n Seel...</td>\n",
       "      <td>[Th, fl, n, ep, preen, Jre, Dn, her, f, Gun, G...</td>\n",
       "      <td>[Th, fl, n, ep, preen, jre, Dn, her, f, gun, g...</td>\n",
       "      <td>[Th, fl, n, ep, preen, jre, Dn, her, f, gun, g...</td>\n",
       "      <td>4.6</td>\n",
       "      <td>1594</td>\n",
       "    </tr>\n",
       "    <tr>\n",
       "      <td>3</td>\n",
       "      <td>0</td>\n",
       "      <td>Except people apparently buy into this garbage...</td>\n",
       "      <td>Except people apparently buy into this garbage...</td>\n",
       "      <td>Excep peple pprenl bu n h grbge A hw lke Mrl O...</td>\n",
       "      <td>[Excep, peple, pprenl, bu, n, h, grbge, A, hw,...</td>\n",
       "      <td>[excep, pepl, pprenl, bu, n, h, grbge, A, hw, ...</td>\n",
       "      <td>[excep, pepl, pprenl, bu, n, h, grbge, A, hw, ...</td>\n",
       "      <td>4.7</td>\n",
       "      <td>1408</td>\n",
       "    </tr>\n",
       "    <tr>\n",
       "      <td>4</td>\n",
       "      <td>1</td>\n",
       "      <td>This is an excellent but hard to find trippy W...</td>\n",
       "      <td>This is an excellent but hard to find trippy W...</td>\n",
       "      <td>Th  n excellen bu hr  fn rpp Wrl Wr I p hrller...</td>\n",
       "      <td>[Th, n, excellen, bu, hr, fn, rpp, Wrl, Wr, I,...</td>\n",
       "      <td>[Th, n, excellen, bu, hr, fn, rpp, wrl, Wr, I,...</td>\n",
       "      <td>[Th, n, excellen, bu, hr, fn, rpp, wrl, Wr, I,...</td>\n",
       "      <td>1.9</td>\n",
       "      <td>779</td>\n",
       "    </tr>\n",
       "  </tbody>\n",
       "</table>\n",
       "</div>"
      ],
      "text/plain": [
       "   Label                                             Review  \\\n",
       "0      1  I found the one and only comment about this mo...   \n",
       "1      0  This movie was kind of interesting...I had to ...   \n",
       "2      0  This film is an attempt to present Jared Diamo...   \n",
       "3      0  Except people apparently buy into this garbage...   \n",
       "4      1  This is an excellent but hard to find trippy W...   \n",
       "\n",
       "                                  Review_pre_process  \\\n",
       "0  I found the one and only comment about this mo...   \n",
       "1  This movie was kind of interestingI had to wat...   \n",
       "2  This film is an attempt to present Jared Diamo...   \n",
       "3  Except people apparently buy into this garbage...   \n",
       "4  This is an excellent but hard to find trippy W...   \n",
       "\n",
       "                                         Review_stop  \\\n",
       "0  I fun he ne n nl cen bu h ve enrel unnfrve n l...   \n",
       "1  Th ve w kn f nerengI h  wch  fr  cllege cl bu ...   \n",
       "2  Th fl  n ep  preen Jre Dn her f Gun Ger n Seel...   \n",
       "3  Excep peple pprenl bu n h grbge A hw lke Mrl O...   \n",
       "4  Th  n excellen bu hr  fn rpp Wrl Wr I p hrller...   \n",
       "\n",
       "                                        Review_token  \\\n",
       "0  [I, fun, he, ne, n, nl, cen, bu, h, ve, enrel,...   \n",
       "1  [Th, ve, w, kn, f, nerengI, h, wch, fr, cllege...   \n",
       "2  [Th, fl, n, ep, preen, Jre, Dn, her, f, Gun, G...   \n",
       "3  [Excep, peple, pprenl, bu, n, h, grbge, A, hw,...   \n",
       "4  [Th, n, excellen, bu, hr, fn, rpp, Wrl, Wr, I,...   \n",
       "\n",
       "                                         Review_stem  \\\n",
       "0  [I, fun, he, ne, n, nl, cen, bu, h, ve, enrel,...   \n",
       "1  [Th, ve, w, kn, f, nerengi, h, wch, fr, cllege...   \n",
       "2  [Th, fl, n, ep, preen, jre, Dn, her, f, gun, g...   \n",
       "3  [excep, pepl, pprenl, bu, n, h, grbge, A, hw, ...   \n",
       "4  [Th, n, excellen, bu, hr, fn, rpp, wrl, Wr, I,...   \n",
       "\n",
       "                                          Review_lem  % punct  Review_length  \n",
       "0  [I, fun, he, ne, n, nl, cen, bu, h, ve, enrel,...      3.4            843  \n",
       "1  [Th, ve, w, kn, f, nerengi, h, wch, fr, cllege...      3.0            657  \n",
       "2  [Th, fl, n, ep, preen, jre, Dn, her, f, gun, g...      4.6           1594  \n",
       "3  [excep, pepl, pprenl, bu, n, h, grbge, A, hw, ...      4.7           1408  \n",
       "4  [Th, n, excellen, bu, hr, fn, rpp, wrl, Wr, I,...      1.9            779  "
      ]
     },
     "execution_count": 29,
     "metadata": {},
     "output_type": "execute_result"
    }
   ],
   "source": [
    "## Feature egineering\n",
    "\n",
    "# percentage of punctuation\n",
    "\n",
    "def punct_count(text):\n",
    "    count=sum([1 for char in text if char in string.punctuation])\n",
    "    return round(count/(len(text)-text.count(\" \")),3)*100\n",
    "\n",
    "train_df['% punct']=train_df['Review'].apply(lambda x: punct_count(x))\n",
    "train_df\n",
    "\n",
    "### counting reviewing length\n",
    "train_df['Review_length']=train_df['Review'].apply(lambda x: len(x)-x.count(\" \"))\n",
    "train_df.head()"
   ]
  },
  {
   "cell_type": "code",
   "execution_count": 30,
   "metadata": {},
   "outputs": [],
   "source": [
    "## Saving the cleaned data\n",
    "train_df.to_csv('train_.csv',sep=',')"
   ]
  },
  {
   "cell_type": "code",
   "execution_count": 31,
   "metadata": {},
   "outputs": [],
   "source": [
    "test_df.to_csv('test_.csv',sep=',')"
   ]
  },
  {
   "cell_type": "code",
   "execution_count": 35,
   "metadata": {},
   "outputs": [
    {
     "data": {
      "text/plain": [
       "\"I found the one and only comment about this movie entirely uninformative and altogether too harsh, so I have decided to write my own. I first saw this movie when it came out and have caught it a few times more since then. First of all let me say that, overall, the things that this movie gets RIGHT are what make it worthwhile. It doesn't matter that it has some low budget quirks and other faults. It is worth watching. The idea of basing a movie on Walt Whitman's visit a restrictive, narrow-minded Anglo-Canadian community in Southern Ontario and bringing people to life is a brilliant mis-en-scene. The movie is about the kind of humanizing catalysis Whitman inspired in people. And in that sense it is exactly accurate. The acting - especially by Rip Torn (Whitman) and Colm Feore as the doctor - is very good. The scripting and dialogue are strong and pay proper attention to the mores and inflections of the time. Overall, what's not to like? Besides, name another film in which Whitman is brought so vividly to life?\""
      ]
     },
     "execution_count": 35,
     "metadata": {},
     "output_type": "execute_result"
    }
   ],
   "source": [
    "train_df=pd.read_csv('train_.csv')\n",
    "train_df.head()\n",
    "train_df['Review'][0]"
   ]
  },
  {
   "cell_type": "code",
   "execution_count": 4,
   "metadata": {},
   "outputs": [
    {
     "data": {
      "text/html": [
       "<div>\n",
       "<style scoped>\n",
       "    .dataframe tbody tr th:only-of-type {\n",
       "        vertical-align: middle;\n",
       "    }\n",
       "\n",
       "    .dataframe tbody tr th {\n",
       "        vertical-align: top;\n",
       "    }\n",
       "\n",
       "    .dataframe thead th {\n",
       "        text-align: right;\n",
       "    }\n",
       "</style>\n",
       "<table border=\"1\" class=\"dataframe\">\n",
       "  <thead>\n",
       "    <tr style=\"text-align: right;\">\n",
       "      <th></th>\n",
       "      <th>Unnamed: 0</th>\n",
       "      <th>Label</th>\n",
       "      <th>Review</th>\n",
       "      <th>Review_pre_process</th>\n",
       "      <th>Review_stop</th>\n",
       "      <th>Review_token</th>\n",
       "      <th>Review_stem</th>\n",
       "      <th>Review_lem</th>\n",
       "    </tr>\n",
       "  </thead>\n",
       "  <tbody>\n",
       "    <tr>\n",
       "      <td>0</td>\n",
       "      <td>0</td>\n",
       "      <td>1</td>\n",
       "      <td>The barbarians maybe´s not the best film that ...</td>\n",
       "      <td>The barbarians maybe´s not the best film that ...</td>\n",
       "      <td>The brbrn be´ n he be fl h nb f u hve een bu r...</td>\n",
       "      <td>['The', 'brbrn', 'be', 'n', 'he', 'be', 'fl', ...</td>\n",
       "      <td>['the', 'brbrn', 'be', 'n', 'he', 'be', 'fl', ...</td>\n",
       "      <td>['the', 'brbrn', 'be', 'n', 'he', 'be', 'fl', ...</td>\n",
       "    </tr>\n",
       "    <tr>\n",
       "      <td>1</td>\n",
       "      <td>1</td>\n",
       "      <td>0</td>\n",
       "      <td>the costumes, the dialog, historical accuracy ...</td>\n",
       "      <td>the costumes the dialog historical accuracy ar...</td>\n",
       "      <td>he cue he lg hrcl ccurc re errble Fr nnce  Sce...</td>\n",
       "      <td>['he', 'cue', 'he', 'lg', 'hrcl', 'ccurc', 're...</td>\n",
       "      <td>['he', 'cue', 'he', 'lg', 'hrcl', 'ccurc', 're...</td>\n",
       "      <td>['he', 'cue', 'he', 'lg', 'hrcl', 'ccurc', 're...</td>\n",
       "    </tr>\n",
       "    <tr>\n",
       "      <td>2</td>\n",
       "      <td>2</td>\n",
       "      <td>0</td>\n",
       "      <td>I am surprised that everyone (even the critics...</td>\n",
       "      <td>I am surprised that everyone even the critics ...</td>\n",
       "      <td>I  urpre h everne even he crc ee  hnk h w  g v...</td>\n",
       "      <td>['I', 'urpre', 'h', 'everne', 'even', 'he', 'c...</td>\n",
       "      <td>['I', 'urpr', 'h', 'evern', 'even', 'he', 'crc...</td>\n",
       "      <td>['I', 'urpr', 'h', 'evern', 'even', 'he', 'crc...</td>\n",
       "    </tr>\n",
       "    <tr>\n",
       "      <td>3</td>\n",
       "      <td>3</td>\n",
       "      <td>1</td>\n",
       "      <td>Sisters in law will be released theatrically o...</td>\n",
       "      <td>Sisters in law will be released theatrically o...</td>\n",
       "      <td>Ser n lw wll be relee hercll n rch 24h n Sween...</td>\n",
       "      <td>['Ser', 'n', 'lw', 'wll', 'be', 'relee', 'herc...</td>\n",
       "      <td>['ser', 'n', 'lw', 'wll', 'be', 'rele', 'hercl...</td>\n",
       "      <td>['ser', 'n', 'lw', 'wll', 'be', 'rele', 'hercl...</td>\n",
       "    </tr>\n",
       "    <tr>\n",
       "      <td>4</td>\n",
       "      <td>4</td>\n",
       "      <td>0</td>\n",
       "      <td>This is probably the worst excuse for televisi...</td>\n",
       "      <td>This is probably the worst excuse for televisi...</td>\n",
       "      <td>Th  prbbl he wr excue fr elevn prgrng nce h I ...</td>\n",
       "      <td>['Th', 'prbbl', 'he', 'wr', 'excue', 'fr', 'el...</td>\n",
       "      <td>['Th', 'prbbl', 'he', 'wr', 'excu', 'fr', 'ele...</td>\n",
       "      <td>['Th', 'prbbl', 'he', 'wr', 'excu', 'fr', 'ele...</td>\n",
       "    </tr>\n",
       "  </tbody>\n",
       "</table>\n",
       "</div>"
      ],
      "text/plain": [
       "   Unnamed: 0  Label                                             Review  \\\n",
       "0           0      1  The barbarians maybe´s not the best film that ...   \n",
       "1           1      0  the costumes, the dialog, historical accuracy ...   \n",
       "2           2      0  I am surprised that everyone (even the critics...   \n",
       "3           3      1  Sisters in law will be released theatrically o...   \n",
       "4           4      0  This is probably the worst excuse for televisi...   \n",
       "\n",
       "                                  Review_pre_process  \\\n",
       "0  The barbarians maybe´s not the best film that ...   \n",
       "1  the costumes the dialog historical accuracy ar...   \n",
       "2  I am surprised that everyone even the critics ...   \n",
       "3  Sisters in law will be released theatrically o...   \n",
       "4  This is probably the worst excuse for televisi...   \n",
       "\n",
       "                                         Review_stop  \\\n",
       "0  The brbrn be´ n he be fl h nb f u hve een bu r...   \n",
       "1  he cue he lg hrcl ccurc re errble Fr nnce  Sce...   \n",
       "2  I  urpre h everne even he crc ee  hnk h w  g v...   \n",
       "3  Ser n lw wll be relee hercll n rch 24h n Sween...   \n",
       "4  Th  prbbl he wr excue fr elevn prgrng nce h I ...   \n",
       "\n",
       "                                        Review_token  \\\n",
       "0  ['The', 'brbrn', 'be', 'n', 'he', 'be', 'fl', ...   \n",
       "1  ['he', 'cue', 'he', 'lg', 'hrcl', 'ccurc', 're...   \n",
       "2  ['I', 'urpre', 'h', 'everne', 'even', 'he', 'c...   \n",
       "3  ['Ser', 'n', 'lw', 'wll', 'be', 'relee', 'herc...   \n",
       "4  ['Th', 'prbbl', 'he', 'wr', 'excue', 'fr', 'el...   \n",
       "\n",
       "                                         Review_stem  \\\n",
       "0  ['the', 'brbrn', 'be', 'n', 'he', 'be', 'fl', ...   \n",
       "1  ['he', 'cue', 'he', 'lg', 'hrcl', 'ccurc', 're...   \n",
       "2  ['I', 'urpr', 'h', 'evern', 'even', 'he', 'crc...   \n",
       "3  ['ser', 'n', 'lw', 'wll', 'be', 'rele', 'hercl...   \n",
       "4  ['Th', 'prbbl', 'he', 'wr', 'excu', 'fr', 'ele...   \n",
       "\n",
       "                                          Review_lem  \n",
       "0  ['the', 'brbrn', 'be', 'n', 'he', 'be', 'fl', ...  \n",
       "1  ['he', 'cue', 'he', 'lg', 'hrcl', 'ccurc', 're...  \n",
       "2  ['I', 'urpr', 'h', 'evern', 'even', 'he', 'crc...  \n",
       "3  ['ser', 'n', 'lw', 'wll', 'be', 'rele', 'hercl...  \n",
       "4  ['Th', 'prbbl', 'he', 'wr', 'excu', 'fr', 'ele...  "
      ]
     },
     "execution_count": 4,
     "metadata": {},
     "output_type": "execute_result"
    }
   ],
   "source": [
    "test_df=pd.read_csv('test_.csv',sep=',')\n",
    "test_df.head()"
   ]
  },
  {
   "cell_type": "code",
   "execution_count": 6,
   "metadata": {},
   "outputs": [
    {
     "data": {
      "text/plain": [
       "<function matplotlib.pyplot.show(*args, **kw)>"
      ]
     },
     "execution_count": 6,
     "metadata": {},
     "output_type": "execute_result"
    },
    {
     "data": {
      "image/png": "[encoded data removed]",
      "text/plain": [
       "<Figure size 432x288 with 1 Axes>"
      ]
     },
     "metadata": {
      "needs_background": "light"
     },
     "output_type": "display_data"
    }
   ],
   "source": [
    "## plotting the feature engineering and checking it\n",
    "bins=np.linspace(0,200,40)\n",
    "\n",
    "plt.hist(train_df[train_df['Label']==0]['Review_length'],bins,alpha=0.4,label='negative')\n",
    "plt.hist(train_df[train_df['Label']==1]['Review_length'],bins,alpha=0.4,label='postive')\n",
    "plt.legend(loc='upper left')\n",
    "plt.show"
   ]
  },
  {
   "cell_type": "code",
   "execution_count": 7,
   "metadata": {},
   "outputs": [
    {
     "data": {
      "image/png": "[encoded data removed]",
      "text/plain": [
       "<Figure size 432x288 with 1 Axes>"
      ]
     },
     "metadata": {
      "needs_background": "light"
     },
     "output_type": "display_data"
    }
   ],
   "source": [
    "plt.hist(train_df[train_df['Label']==0]['Review_length'],bins,alpha=0.4,label='negative')\n",
    "plt.show()"
   ]
  },
  {
   "cell_type": "code",
   "execution_count": 8,
   "metadata": {
    "scrolled": false
   },
   "outputs": [
    {
     "data": {
      "image/png": "[encoded data removed]",
      "text/plain": [
       "<Figure size 432x288 with 1 Axes>"
      ]
     },
     "metadata": {
      "needs_background": "light"
     },
     "output_type": "display_data"
    }
   ],
   "source": [
    "plt.hist(train_df[train_df['Label']==1]['Review_length'],bins,alpha=0.4,label='postive')\n",
    "plt.show()"
   ]
  },
  {
   "cell_type": "code",
   "execution_count": null,
   "metadata": {},
   "outputs": [],
   "source": [
    "### Interpreting the Plots\n",
    "## From the plots it clear that both postive and negative are more likely to be correlated with number of words \n",
    "## in a written review."
   ]
  },
  {
   "cell_type": "code",
   "execution_count": 9,
   "metadata": {},
   "outputs": [
    {
     "data": {
      "image/png": "[encoded data removed]",
      "text/plain": [
       "<Figure size 432x288 with 1 Axes>"
      ]
     },
     "metadata": {
      "needs_background": "light"
     },
     "output_type": "display_data"
    }
   ],
   "source": [
    "## plots based on punctuations\n",
    "bins=np.linspace(0,200,40)\n",
    "plt.hist(train_df[train_df['Label']==1]['% punct'],bins,alpha=0.4,label='postive')\n",
    "plt.hist(train_df[train_df['Label']==0]['% punct'],bins,alpha=0.4,label='negative')\n",
    "plt.show()"
   ]
  },
  {
   "cell_type": "code",
   "execution_count": 10,
   "metadata": {},
   "outputs": [
    {
     "data": {
      "image/png": "[encoded data removed]",
      "text/plain": [
       "<Figure size 432x288 with 1 Axes>"
      ]
     },
     "metadata": {
      "needs_background": "light"
     },
     "output_type": "display_data"
    }
   ],
   "source": [
    "plt.hist(train_df[train_df['Label']==1]['% punct'],bins,alpha=0.4,label='postive')\n",
    "\n",
    "plt.show()"
   ]
  },
  {
   "cell_type": "code",
   "execution_count": 11,
   "metadata": {},
   "outputs": [
    {
     "data": {
      "image/png": "[encoded data removed]",
      "text/plain": [
       "<Figure size 432x288 with 1 Axes>"
      ]
     },
     "metadata": {
      "needs_background": "light"
     },
     "output_type": "display_data"
    }
   ],
   "source": [
    "plt.hist(train_df[train_df['Label']==0]['% punct'],bins,alpha=0.4,label='negative')\n",
    "plt.show()"
   ]
  },
  {
   "cell_type": "code",
   "execution_count": null,
   "metadata": {},
   "outputs": [],
   "source": [
    "## Interpretation:\n",
    "## From the plot, it diffcult to interpret that Review with high punctuation marks is postive or negative review.\n"
   ]
  },
  {
   "cell_type": "code",
   "execution_count": null,
   "metadata": {},
   "outputs": [],
   "source": [
    "## Problem with bag of words is that it loses the order of words and contents are normalized, to overcome this we use n-grams\n",
    "## which help us not to lose the ordering of words."
   ]
  },
  {
   "cell_type": "code",
   "execution_count": 39,
   "metadata": {},
   "outputs": [
    {
     "name": "stderr",
     "output_type": "stream",
     "text": [
      "C:\\Users\\kkbal\\Anaconda3\\lib\\site-packages\\ipykernel_launcher.py:1: FutureWarning: Sorting because non-concatenation axis is not aligned. A future version\n",
      "of pandas will change to not sort by default.\n",
      "\n",
      "To accept the future behavior, pass 'sort=False'.\n",
      "\n",
      "To retain the current behavior and silence the warning, pass 'sort=True'.\n",
      "\n",
      "  \"\"\"Entry point for launching an IPython kernel.\n"
     ]
    }
   ],
   "source": [
    "df=pd.concat([train_df,test_df],axis=0)"
   ]
  },
  {
   "cell_type": "code",
   "execution_count": 37,
   "metadata": {},
   "outputs": [],
   "source": [
    "## Tokenization\n",
    "\n",
    "import pandas as pd\n",
    "import re\n",
    "import string\n",
    "import nltk\n",
    "pd.set_option('display.max_colwidth', 100) # To extend column width\n",
    "\n",
    "stopwords = nltk.corpus.stopwords.words('english')\n",
    "ps = nltk.PorterStemmer()\n",
    "\n",
    "def clean_text(token):\n",
    "    text=''.join([words.lower() for words in token if words not in string.punctuation])\n",
    "    tokens=re.split('\\W+',text)\n",
    "    text=[ps.stem(words) for words in tokens if words not in stopwords]\n",
    "    return text"
   ]
  },
  {
   "cell_type": "code",
   "execution_count": 58,
   "metadata": {},
   "outputs": [],
   "source": [
    "## Using Count Vetorizer\n",
    "\n",
    "from sklearn.feature_extraction.text import CountVectorizer\n",
    "\n",
    "count_vect=CountVectorizer(analyzer=clean_text,max_features=1000)\n",
    "\n",
    "X_counts=count_vect.fit(df['Review_lem'])\n"
   ]
  },
  {
   "cell_type": "code",
   "execution_count": 62,
   "metadata": {},
   "outputs": [],
   "source": [
    "train_df=count_vect.transform(train_df['Review'])\n",
    "column=(count_vect.get_feature_names())"
   ]
  },
  {
   "cell_type": "code",
   "execution_count": null,
   "metadata": {},
   "outputs": [],
   "source": [
    "count_df_train=pd.DataFrame(train_df.toarray(),columns=column)"
   ]
  },
  {
   "cell_type": "code",
   "execution_count": 36,
   "metadata": {},
   "outputs": [],
   "source": [
    "test_df=count_vect.transform(test_df['Review'])\n",
    "column=(count_vect.get_feature_names())"
   ]
  },
  {
   "cell_type": "code",
   "execution_count": 38,
   "metadata": {},
   "outputs": [],
   "source": [
    "count_df_test=pd.DataFrame(test_df.toarray(),columns=column)"
   ]
  },
  {
   "cell_type": "code",
   "execution_count": 5,
   "metadata": {},
   "outputs": [],
   "source": [
    "## Predictors:\n",
    "Y_test=test_df['Label']\n",
    "Y_train=train_df['Label']"
   ]
  },
  {
   "cell_type": "code",
   "execution_count": null,
   "metadata": {},
   "outputs": [],
   "source": [
    "### Model Classification using Navie bayes classifier\n",
    "\n",
    "from sklearn.naive_bayes import MultinomialNB \n",
    "\n",
    "from sklearn.metrics import classification_report\n",
    "\n",
    "from sklearn import metrics\n",
    "\n",
    "naive=MultinomialNB()\n",
    "\n",
    "train= naive.fit(count_df_train,Y_train)"
   ]
  },
  {
   "cell_type": "code",
   "execution_count": 47,
   "metadata": {},
   "outputs": [],
   "source": [
    "pred=naive.predict(count_df_test)"
   ]
  },
  {
   "cell_type": "code",
   "execution_count": 50,
   "metadata": {},
   "outputs": [
    {
     "data": {
      "text/plain": [
       "0.91384"
      ]
     },
     "execution_count": 50,
     "metadata": {},
     "output_type": "execute_result"
    }
   ],
   "source": [
    "metrics.accuracy_score(Y_test,pred)"
   ]
  },
  {
   "cell_type": "code",
   "execution_count": null,
   "metadata": {},
   "outputs": [],
   "source": [
    "## The problem with count vectorizer is that it gives words of all frequency and these words might not be useful in predicting\n",
    "## the rating of review, we can overcome this by usig N-grams"
   ]
  },
  {
   "cell_type": "code",
   "execution_count": 40,
   "metadata": {},
   "outputs": [],
   "source": [
    "## Applying Tfid vectorizer to find important words\n",
    "\n",
    "import warnings\n",
    "warnings.filterwarnings(\"ignore\", category=DeprecationWarning)\n",
    "\n",
    "from sklearn.feature_extraction.text import TfidfVectorizer\n",
    "\n",
    "tfid=TfidfVectorizer(max_df=0.50,ngram_range=(1,1),analyzer=clean_text,max_features=500)\n",
    "\n",
    "feature=tfid.fit(df['Review_lem'])"
   ]
  },
  {
   "cell_type": "code",
   "execution_count": 108,
   "metadata": {},
   "outputs": [],
   "source": [
    "train_df=tfid.transform(train_df['Review_lem'])\n",
    "col=tfid.get_feature_names()"
   ]
  },
  {
   "cell_type": "code",
   "execution_count": 53,
   "metadata": {},
   "outputs": [],
   "source": [
    "from sklearn.feature_selection import chi2\n",
    "\n",
    "chiscore=chi2(train_df,Y_train)"
   ]
  },
  {
   "cell_type": "code",
   "execution_count": 109,
   "metadata": {
    "scrolled": true
   },
   "outputs": [
    {
     "data": {
      "text/html": [
       "<div>\n",
       "<style scoped>\n",
       "    .dataframe tbody tr th:only-of-type {\n",
       "        vertical-align: middle;\n",
       "    }\n",
       "\n",
       "    .dataframe tbody tr th {\n",
       "        vertical-align: top;\n",
       "    }\n",
       "\n",
       "    .dataframe thead th {\n",
       "        text-align: right;\n",
       "    }\n",
       "</style>\n",
       "<table border=\"1\" class=\"dataframe\">\n",
       "  <thead>\n",
       "    <tr style=\"text-align: right;\">\n",
       "      <th></th>\n",
       "      <th></th>\n",
       "      <th>1</th>\n",
       "      <th>10</th>\n",
       "      <th>2</th>\n",
       "      <th>3</th>\n",
       "      <th>aercn</th>\n",
       "      <th>afer</th>\n",
       "      <th>al</th>\n",
       "      <th>alhugh</th>\n",
       "      <th>ann</th>\n",
       "      <th>...</th>\n",
       "      <th>wrk</th>\n",
       "      <th>wrl</th>\n",
       "      <th>wrng</th>\n",
       "      <th>wul</th>\n",
       "      <th>wuln</th>\n",
       "      <th>x</th>\n",
       "      <th>ye</th>\n",
       "      <th>yu</th>\n",
       "      <th>zbe</th>\n",
       "      <th>zng</th>\n",
       "    </tr>\n",
       "  </thead>\n",
       "  <tbody>\n",
       "    <tr>\n",
       "      <td>0</td>\n",
       "      <td>0.0</td>\n",
       "      <td>0.0</td>\n",
       "      <td>0.0</td>\n",
       "      <td>0.00000</td>\n",
       "      <td>0.000000</td>\n",
       "      <td>0.000000</td>\n",
       "      <td>0.0</td>\n",
       "      <td>0.0</td>\n",
       "      <td>0.0</td>\n",
       "      <td>0.0</td>\n",
       "      <td>...</td>\n",
       "      <td>0.0</td>\n",
       "      <td>0.000000</td>\n",
       "      <td>0.0</td>\n",
       "      <td>0.000000</td>\n",
       "      <td>0.000000</td>\n",
       "      <td>0.0</td>\n",
       "      <td>0.0</td>\n",
       "      <td>0.0</td>\n",
       "      <td>0.0</td>\n",
       "      <td>0.0</td>\n",
       "    </tr>\n",
       "    <tr>\n",
       "      <td>1</td>\n",
       "      <td>0.0</td>\n",
       "      <td>0.0</td>\n",
       "      <td>0.0</td>\n",
       "      <td>0.00000</td>\n",
       "      <td>0.000000</td>\n",
       "      <td>0.000000</td>\n",
       "      <td>0.0</td>\n",
       "      <td>0.0</td>\n",
       "      <td>0.0</td>\n",
       "      <td>0.0</td>\n",
       "      <td>...</td>\n",
       "      <td>0.0</td>\n",
       "      <td>0.000000</td>\n",
       "      <td>0.0</td>\n",
       "      <td>0.000000</td>\n",
       "      <td>0.000000</td>\n",
       "      <td>0.0</td>\n",
       "      <td>0.0</td>\n",
       "      <td>0.0</td>\n",
       "      <td>0.0</td>\n",
       "      <td>0.0</td>\n",
       "    </tr>\n",
       "    <tr>\n",
       "      <td>2</td>\n",
       "      <td>0.0</td>\n",
       "      <td>0.0</td>\n",
       "      <td>0.0</td>\n",
       "      <td>0.07299</td>\n",
       "      <td>0.080814</td>\n",
       "      <td>0.000000</td>\n",
       "      <td>0.0</td>\n",
       "      <td>0.0</td>\n",
       "      <td>0.0</td>\n",
       "      <td>0.0</td>\n",
       "      <td>...</td>\n",
       "      <td>0.0</td>\n",
       "      <td>0.000000</td>\n",
       "      <td>0.0</td>\n",
       "      <td>0.000000</td>\n",
       "      <td>0.000000</td>\n",
       "      <td>0.0</td>\n",
       "      <td>0.0</td>\n",
       "      <td>0.0</td>\n",
       "      <td>0.0</td>\n",
       "      <td>0.0</td>\n",
       "    </tr>\n",
       "    <tr>\n",
       "      <td>3</td>\n",
       "      <td>0.0</td>\n",
       "      <td>0.0</td>\n",
       "      <td>0.0</td>\n",
       "      <td>0.00000</td>\n",
       "      <td>0.000000</td>\n",
       "      <td>0.102084</td>\n",
       "      <td>0.0</td>\n",
       "      <td>0.0</td>\n",
       "      <td>0.0</td>\n",
       "      <td>0.0</td>\n",
       "      <td>...</td>\n",
       "      <td>0.0</td>\n",
       "      <td>0.000000</td>\n",
       "      <td>0.0</td>\n",
       "      <td>0.059068</td>\n",
       "      <td>0.116782</td>\n",
       "      <td>0.0</td>\n",
       "      <td>0.0</td>\n",
       "      <td>0.0</td>\n",
       "      <td>0.0</td>\n",
       "      <td>0.0</td>\n",
       "    </tr>\n",
       "    <tr>\n",
       "      <td>4</td>\n",
       "      <td>0.0</td>\n",
       "      <td>0.0</td>\n",
       "      <td>0.0</td>\n",
       "      <td>0.00000</td>\n",
       "      <td>0.000000</td>\n",
       "      <td>0.000000</td>\n",
       "      <td>0.0</td>\n",
       "      <td>0.0</td>\n",
       "      <td>0.0</td>\n",
       "      <td>0.0</td>\n",
       "      <td>...</td>\n",
       "      <td>0.0</td>\n",
       "      <td>0.133903</td>\n",
       "      <td>0.0</td>\n",
       "      <td>0.000000</td>\n",
       "      <td>0.000000</td>\n",
       "      <td>0.0</td>\n",
       "      <td>0.0</td>\n",
       "      <td>0.0</td>\n",
       "      <td>0.0</td>\n",
       "      <td>0.0</td>\n",
       "    </tr>\n",
       "  </tbody>\n",
       "</table>\n",
       "<p>5 rows × 500 columns</p>\n",
       "</div>"
      ],
      "text/plain": [
       "          1   10        2         3     aercn  afer   al  alhugh  ann  ...  \\\n",
       "0  0.0  0.0  0.0  0.00000  0.000000  0.000000   0.0  0.0     0.0  0.0  ...   \n",
       "1  0.0  0.0  0.0  0.00000  0.000000  0.000000   0.0  0.0     0.0  0.0  ...   \n",
       "2  0.0  0.0  0.0  0.07299  0.080814  0.000000   0.0  0.0     0.0  0.0  ...   \n",
       "3  0.0  0.0  0.0  0.00000  0.000000  0.102084   0.0  0.0     0.0  0.0  ...   \n",
       "4  0.0  0.0  0.0  0.00000  0.000000  0.000000   0.0  0.0     0.0  0.0  ...   \n",
       "\n",
       "   wrk       wrl  wrng       wul      wuln    x   ye   yu  zbe  zng  \n",
       "0  0.0  0.000000   0.0  0.000000  0.000000  0.0  0.0  0.0  0.0  0.0  \n",
       "1  0.0  0.000000   0.0  0.000000  0.000000  0.0  0.0  0.0  0.0  0.0  \n",
       "2  0.0  0.000000   0.0  0.000000  0.000000  0.0  0.0  0.0  0.0  0.0  \n",
       "3  0.0  0.000000   0.0  0.059068  0.116782  0.0  0.0  0.0  0.0  0.0  \n",
       "4  0.0  0.133903   0.0  0.000000  0.000000  0.0  0.0  0.0  0.0  0.0  \n",
       "\n",
       "[5 rows x 500 columns]"
      ]
     },
     "execution_count": 109,
     "metadata": {},
     "output_type": "execute_result"
    }
   ],
   "source": [
    "Tfid_df_t=pd.DataFrame(train_df.toarray(),columns=col)\n",
    "Tfid_df_t.head()"
   ]
  },
  {
   "cell_type": "code",
   "execution_count": 110,
   "metadata": {},
   "outputs": [],
   "source": [
    "test_df=tfid.transform(test_df['Review_lem'])\n",
    "col=tfid.get_feature_names()"
   ]
  },
  {
   "cell_type": "code",
   "execution_count": 111,
   "metadata": {},
   "outputs": [
    {
     "data": {
      "text/html": [
       "<div>\n",
       "<style scoped>\n",
       "    .dataframe tbody tr th:only-of-type {\n",
       "        vertical-align: middle;\n",
       "    }\n",
       "\n",
       "    .dataframe tbody tr th {\n",
       "        vertical-align: top;\n",
       "    }\n",
       "\n",
       "    .dataframe thead th {\n",
       "        text-align: right;\n",
       "    }\n",
       "</style>\n",
       "<table border=\"1\" class=\"dataframe\">\n",
       "  <thead>\n",
       "    <tr style=\"text-align: right;\">\n",
       "      <th></th>\n",
       "      <th></th>\n",
       "      <th>1</th>\n",
       "      <th>10</th>\n",
       "      <th>2</th>\n",
       "      <th>3</th>\n",
       "      <th>aercn</th>\n",
       "      <th>afer</th>\n",
       "      <th>al</th>\n",
       "      <th>alhugh</th>\n",
       "      <th>ann</th>\n",
       "      <th>...</th>\n",
       "      <th>wrk</th>\n",
       "      <th>wrl</th>\n",
       "      <th>wrng</th>\n",
       "      <th>wul</th>\n",
       "      <th>wuln</th>\n",
       "      <th>x</th>\n",
       "      <th>ye</th>\n",
       "      <th>yu</th>\n",
       "      <th>zbe</th>\n",
       "      <th>zng</th>\n",
       "    </tr>\n",
       "  </thead>\n",
       "  <tbody>\n",
       "    <tr>\n",
       "      <td>0</td>\n",
       "      <td>0.0</td>\n",
       "      <td>0.0</td>\n",
       "      <td>0.000000</td>\n",
       "      <td>0.000000</td>\n",
       "      <td>0.0</td>\n",
       "      <td>0.0</td>\n",
       "      <td>0.0</td>\n",
       "      <td>0.000000</td>\n",
       "      <td>0.0</td>\n",
       "      <td>0.0</td>\n",
       "      <td>...</td>\n",
       "      <td>0.0</td>\n",
       "      <td>0.0</td>\n",
       "      <td>0.0</td>\n",
       "      <td>0.000000</td>\n",
       "      <td>0.000000</td>\n",
       "      <td>0.0</td>\n",
       "      <td>0.0</td>\n",
       "      <td>0.0</td>\n",
       "      <td>0.0</td>\n",
       "      <td>0.0</td>\n",
       "    </tr>\n",
       "    <tr>\n",
       "      <td>1</td>\n",
       "      <td>0.0</td>\n",
       "      <td>0.0</td>\n",
       "      <td>0.000000</td>\n",
       "      <td>0.000000</td>\n",
       "      <td>0.0</td>\n",
       "      <td>0.0</td>\n",
       "      <td>0.0</td>\n",
       "      <td>0.000000</td>\n",
       "      <td>0.0</td>\n",
       "      <td>0.0</td>\n",
       "      <td>...</td>\n",
       "      <td>0.0</td>\n",
       "      <td>0.0</td>\n",
       "      <td>0.0</td>\n",
       "      <td>0.086261</td>\n",
       "      <td>0.000000</td>\n",
       "      <td>0.0</td>\n",
       "      <td>0.0</td>\n",
       "      <td>0.0</td>\n",
       "      <td>0.0</td>\n",
       "      <td>0.0</td>\n",
       "    </tr>\n",
       "    <tr>\n",
       "      <td>2</td>\n",
       "      <td>0.0</td>\n",
       "      <td>0.0</td>\n",
       "      <td>0.078689</td>\n",
       "      <td>0.079028</td>\n",
       "      <td>0.0</td>\n",
       "      <td>0.0</td>\n",
       "      <td>0.0</td>\n",
       "      <td>0.079953</td>\n",
       "      <td>0.0</td>\n",
       "      <td>0.0</td>\n",
       "      <td>...</td>\n",
       "      <td>0.0</td>\n",
       "      <td>0.0</td>\n",
       "      <td>0.0</td>\n",
       "      <td>0.000000</td>\n",
       "      <td>0.091656</td>\n",
       "      <td>0.0</td>\n",
       "      <td>0.0</td>\n",
       "      <td>0.0</td>\n",
       "      <td>0.0</td>\n",
       "      <td>0.0</td>\n",
       "    </tr>\n",
       "    <tr>\n",
       "      <td>3</td>\n",
       "      <td>0.0</td>\n",
       "      <td>0.0</td>\n",
       "      <td>0.000000</td>\n",
       "      <td>0.000000</td>\n",
       "      <td>0.0</td>\n",
       "      <td>0.0</td>\n",
       "      <td>0.0</td>\n",
       "      <td>0.000000</td>\n",
       "      <td>0.0</td>\n",
       "      <td>0.0</td>\n",
       "      <td>...</td>\n",
       "      <td>0.0</td>\n",
       "      <td>0.0</td>\n",
       "      <td>0.0</td>\n",
       "      <td>0.000000</td>\n",
       "      <td>0.000000</td>\n",
       "      <td>0.0</td>\n",
       "      <td>0.0</td>\n",
       "      <td>0.0</td>\n",
       "      <td>0.0</td>\n",
       "      <td>0.0</td>\n",
       "    </tr>\n",
       "    <tr>\n",
       "      <td>4</td>\n",
       "      <td>0.0</td>\n",
       "      <td>0.0</td>\n",
       "      <td>0.000000</td>\n",
       "      <td>0.000000</td>\n",
       "      <td>0.0</td>\n",
       "      <td>0.0</td>\n",
       "      <td>0.0</td>\n",
       "      <td>0.000000</td>\n",
       "      <td>0.0</td>\n",
       "      <td>0.0</td>\n",
       "      <td>...</td>\n",
       "      <td>0.0</td>\n",
       "      <td>0.0</td>\n",
       "      <td>0.0</td>\n",
       "      <td>0.107972</td>\n",
       "      <td>0.000000</td>\n",
       "      <td>0.0</td>\n",
       "      <td>0.0</td>\n",
       "      <td>0.0</td>\n",
       "      <td>0.0</td>\n",
       "      <td>0.0</td>\n",
       "    </tr>\n",
       "  </tbody>\n",
       "</table>\n",
       "<p>5 rows × 500 columns</p>\n",
       "</div>"
      ],
      "text/plain": [
       "          1        10         2    3  aercn  afer        al  alhugh  ann  ...  \\\n",
       "0  0.0  0.0  0.000000  0.000000  0.0    0.0   0.0  0.000000     0.0  0.0  ...   \n",
       "1  0.0  0.0  0.000000  0.000000  0.0    0.0   0.0  0.000000     0.0  0.0  ...   \n",
       "2  0.0  0.0  0.078689  0.079028  0.0    0.0   0.0  0.079953     0.0  0.0  ...   \n",
       "3  0.0  0.0  0.000000  0.000000  0.0    0.0   0.0  0.000000     0.0  0.0  ...   \n",
       "4  0.0  0.0  0.000000  0.000000  0.0    0.0   0.0  0.000000     0.0  0.0  ...   \n",
       "\n",
       "   wrk  wrl  wrng       wul      wuln    x   ye   yu  zbe  zng  \n",
       "0  0.0  0.0   0.0  0.000000  0.000000  0.0  0.0  0.0  0.0  0.0  \n",
       "1  0.0  0.0   0.0  0.086261  0.000000  0.0  0.0  0.0  0.0  0.0  \n",
       "2  0.0  0.0   0.0  0.000000  0.091656  0.0  0.0  0.0  0.0  0.0  \n",
       "3  0.0  0.0   0.0  0.000000  0.000000  0.0  0.0  0.0  0.0  0.0  \n",
       "4  0.0  0.0   0.0  0.107972  0.000000  0.0  0.0  0.0  0.0  0.0  \n",
       "\n",
       "[5 rows x 500 columns]"
      ]
     },
     "execution_count": 111,
     "metadata": {},
     "output_type": "execute_result"
    }
   ],
   "source": [
    "Tfid_df=pd.DataFrame(test_df.toarray(),columns=col)\n",
    "Tfid_df.head()"
   ]
  },
  {
   "cell_type": "code",
   "execution_count": 112,
   "metadata": {},
   "outputs": [],
   "source": [
    "## Vectorized data\n",
    "t_=Tfid_df_t.to_csv('train.csv')\n",
    "## Vectorized data\n",
    "t=Tfid_df.to_csv('test.csv')"
   ]
  },
  {
   "cell_type": "code",
   "execution_count": 199,
   "metadata": {},
   "outputs": [],
   "source": [
    "train=pd.read_csv('train.csv')"
   ]
  },
  {
   "cell_type": "code",
   "execution_count": 200,
   "metadata": {},
   "outputs": [
    {
     "data": {
      "text/html": [
       "<div>\n",
       "<style scoped>\n",
       "    .dataframe tbody tr th:only-of-type {\n",
       "        vertical-align: middle;\n",
       "    }\n",
       "\n",
       "    .dataframe tbody tr th {\n",
       "        vertical-align: top;\n",
       "    }\n",
       "\n",
       "    .dataframe thead th {\n",
       "        text-align: right;\n",
       "    }\n",
       "</style>\n",
       "<table border=\"1\" class=\"dataframe\">\n",
       "  <thead>\n",
       "    <tr style=\"text-align: right;\">\n",
       "      <th></th>\n",
       "      <th>Unnamed: 1</th>\n",
       "      <th>1</th>\n",
       "      <th>10</th>\n",
       "      <th>2</th>\n",
       "      <th>3</th>\n",
       "      <th>aercn</th>\n",
       "      <th>afer</th>\n",
       "      <th>al</th>\n",
       "      <th>alhugh</th>\n",
       "      <th>ann</th>\n",
       "      <th>...</th>\n",
       "      <th>wrk</th>\n",
       "      <th>wrl</th>\n",
       "      <th>wrng</th>\n",
       "      <th>wul</th>\n",
       "      <th>wuln</th>\n",
       "      <th>x</th>\n",
       "      <th>ye</th>\n",
       "      <th>yu</th>\n",
       "      <th>zbe</th>\n",
       "      <th>zng</th>\n",
       "    </tr>\n",
       "  </thead>\n",
       "  <tbody>\n",
       "    <tr>\n",
       "      <td>0</td>\n",
       "      <td>0.0</td>\n",
       "      <td>0.0</td>\n",
       "      <td>0.0</td>\n",
       "      <td>0.00000</td>\n",
       "      <td>0.000000</td>\n",
       "      <td>0.000000</td>\n",
       "      <td>0.0</td>\n",
       "      <td>0.0</td>\n",
       "      <td>0.0</td>\n",
       "      <td>0.0</td>\n",
       "      <td>...</td>\n",
       "      <td>0.0</td>\n",
       "      <td>0.000000</td>\n",
       "      <td>0.0</td>\n",
       "      <td>0.000000</td>\n",
       "      <td>0.000000</td>\n",
       "      <td>0.0</td>\n",
       "      <td>0.0</td>\n",
       "      <td>0.0</td>\n",
       "      <td>0.0</td>\n",
       "      <td>0.0</td>\n",
       "    </tr>\n",
       "    <tr>\n",
       "      <td>1</td>\n",
       "      <td>0.0</td>\n",
       "      <td>0.0</td>\n",
       "      <td>0.0</td>\n",
       "      <td>0.00000</td>\n",
       "      <td>0.000000</td>\n",
       "      <td>0.000000</td>\n",
       "      <td>0.0</td>\n",
       "      <td>0.0</td>\n",
       "      <td>0.0</td>\n",
       "      <td>0.0</td>\n",
       "      <td>...</td>\n",
       "      <td>0.0</td>\n",
       "      <td>0.000000</td>\n",
       "      <td>0.0</td>\n",
       "      <td>0.000000</td>\n",
       "      <td>0.000000</td>\n",
       "      <td>0.0</td>\n",
       "      <td>0.0</td>\n",
       "      <td>0.0</td>\n",
       "      <td>0.0</td>\n",
       "      <td>0.0</td>\n",
       "    </tr>\n",
       "    <tr>\n",
       "      <td>2</td>\n",
       "      <td>0.0</td>\n",
       "      <td>0.0</td>\n",
       "      <td>0.0</td>\n",
       "      <td>0.07299</td>\n",
       "      <td>0.080814</td>\n",
       "      <td>0.000000</td>\n",
       "      <td>0.0</td>\n",
       "      <td>0.0</td>\n",
       "      <td>0.0</td>\n",
       "      <td>0.0</td>\n",
       "      <td>...</td>\n",
       "      <td>0.0</td>\n",
       "      <td>0.000000</td>\n",
       "      <td>0.0</td>\n",
       "      <td>0.000000</td>\n",
       "      <td>0.000000</td>\n",
       "      <td>0.0</td>\n",
       "      <td>0.0</td>\n",
       "      <td>0.0</td>\n",
       "      <td>0.0</td>\n",
       "      <td>0.0</td>\n",
       "    </tr>\n",
       "    <tr>\n",
       "      <td>3</td>\n",
       "      <td>0.0</td>\n",
       "      <td>0.0</td>\n",
       "      <td>0.0</td>\n",
       "      <td>0.00000</td>\n",
       "      <td>0.000000</td>\n",
       "      <td>0.102084</td>\n",
       "      <td>0.0</td>\n",
       "      <td>0.0</td>\n",
       "      <td>0.0</td>\n",
       "      <td>0.0</td>\n",
       "      <td>...</td>\n",
       "      <td>0.0</td>\n",
       "      <td>0.000000</td>\n",
       "      <td>0.0</td>\n",
       "      <td>0.059068</td>\n",
       "      <td>0.116782</td>\n",
       "      <td>0.0</td>\n",
       "      <td>0.0</td>\n",
       "      <td>0.0</td>\n",
       "      <td>0.0</td>\n",
       "      <td>0.0</td>\n",
       "    </tr>\n",
       "    <tr>\n",
       "      <td>4</td>\n",
       "      <td>0.0</td>\n",
       "      <td>0.0</td>\n",
       "      <td>0.0</td>\n",
       "      <td>0.00000</td>\n",
       "      <td>0.000000</td>\n",
       "      <td>0.000000</td>\n",
       "      <td>0.0</td>\n",
       "      <td>0.0</td>\n",
       "      <td>0.0</td>\n",
       "      <td>0.0</td>\n",
       "      <td>...</td>\n",
       "      <td>0.0</td>\n",
       "      <td>0.133903</td>\n",
       "      <td>0.0</td>\n",
       "      <td>0.000000</td>\n",
       "      <td>0.000000</td>\n",
       "      <td>0.0</td>\n",
       "      <td>0.0</td>\n",
       "      <td>0.0</td>\n",
       "      <td>0.0</td>\n",
       "      <td>0.0</td>\n",
       "    </tr>\n",
       "  </tbody>\n",
       "</table>\n",
       "<p>5 rows × 500 columns</p>\n",
       "</div>"
      ],
      "text/plain": [
       "   Unnamed: 1    1   10        2         3     aercn  afer   al  alhugh  ann  \\\n",
       "0         0.0  0.0  0.0  0.00000  0.000000  0.000000   0.0  0.0     0.0  0.0   \n",
       "1         0.0  0.0  0.0  0.00000  0.000000  0.000000   0.0  0.0     0.0  0.0   \n",
       "2         0.0  0.0  0.0  0.07299  0.080814  0.000000   0.0  0.0     0.0  0.0   \n",
       "3         0.0  0.0  0.0  0.00000  0.000000  0.102084   0.0  0.0     0.0  0.0   \n",
       "4         0.0  0.0  0.0  0.00000  0.000000  0.000000   0.0  0.0     0.0  0.0   \n",
       "\n",
       "   ...  wrk       wrl  wrng       wul      wuln    x   ye   yu  zbe  zng  \n",
       "0  ...  0.0  0.000000   0.0  0.000000  0.000000  0.0  0.0  0.0  0.0  0.0  \n",
       "1  ...  0.0  0.000000   0.0  0.000000  0.000000  0.0  0.0  0.0  0.0  0.0  \n",
       "2  ...  0.0  0.000000   0.0  0.000000  0.000000  0.0  0.0  0.0  0.0  0.0  \n",
       "3  ...  0.0  0.000000   0.0  0.059068  0.116782  0.0  0.0  0.0  0.0  0.0  \n",
       "4  ...  0.0  0.133903   0.0  0.000000  0.000000  0.0  0.0  0.0  0.0  0.0  \n",
       "\n",
       "[5 rows x 500 columns]"
      ]
     },
     "execution_count": 200,
     "metadata": {},
     "output_type": "execute_result"
    }
   ],
   "source": [
    "train=train.drop(['Unnamed: 0'],axis=1)\n",
    "train.head()"
   ]
  },
  {
   "cell_type": "code",
   "execution_count": 201,
   "metadata": {},
   "outputs": [],
   "source": [
    "test=pd.read_csv('test.csv')"
   ]
  },
  {
   "cell_type": "code",
   "execution_count": 202,
   "metadata": {},
   "outputs": [
    {
     "data": {
      "text/html": [
       "<div>\n",
       "<style scoped>\n",
       "    .dataframe tbody tr th:only-of-type {\n",
       "        vertical-align: middle;\n",
       "    }\n",
       "\n",
       "    .dataframe tbody tr th {\n",
       "        vertical-align: top;\n",
       "    }\n",
       "\n",
       "    .dataframe thead th {\n",
       "        text-align: right;\n",
       "    }\n",
       "</style>\n",
       "<table border=\"1\" class=\"dataframe\">\n",
       "  <thead>\n",
       "    <tr style=\"text-align: right;\">\n",
       "      <th></th>\n",
       "      <th>Unnamed: 1</th>\n",
       "      <th>1</th>\n",
       "      <th>10</th>\n",
       "      <th>2</th>\n",
       "      <th>3</th>\n",
       "      <th>aercn</th>\n",
       "      <th>afer</th>\n",
       "      <th>al</th>\n",
       "      <th>alhugh</th>\n",
       "      <th>ann</th>\n",
       "      <th>...</th>\n",
       "      <th>wrk</th>\n",
       "      <th>wrl</th>\n",
       "      <th>wrng</th>\n",
       "      <th>wul</th>\n",
       "      <th>wuln</th>\n",
       "      <th>x</th>\n",
       "      <th>ye</th>\n",
       "      <th>yu</th>\n",
       "      <th>zbe</th>\n",
       "      <th>zng</th>\n",
       "    </tr>\n",
       "  </thead>\n",
       "  <tbody>\n",
       "    <tr>\n",
       "      <td>0</td>\n",
       "      <td>0.0</td>\n",
       "      <td>0.0</td>\n",
       "      <td>0.000000</td>\n",
       "      <td>0.000000</td>\n",
       "      <td>0.0</td>\n",
       "      <td>0.0</td>\n",
       "      <td>0.0</td>\n",
       "      <td>0.000000</td>\n",
       "      <td>0.0</td>\n",
       "      <td>0.0</td>\n",
       "      <td>...</td>\n",
       "      <td>0.0</td>\n",
       "      <td>0.0</td>\n",
       "      <td>0.0</td>\n",
       "      <td>0.000000</td>\n",
       "      <td>0.000000</td>\n",
       "      <td>0.0</td>\n",
       "      <td>0.0</td>\n",
       "      <td>0.0</td>\n",
       "      <td>0.0</td>\n",
       "      <td>0.0</td>\n",
       "    </tr>\n",
       "    <tr>\n",
       "      <td>1</td>\n",
       "      <td>0.0</td>\n",
       "      <td>0.0</td>\n",
       "      <td>0.000000</td>\n",
       "      <td>0.000000</td>\n",
       "      <td>0.0</td>\n",
       "      <td>0.0</td>\n",
       "      <td>0.0</td>\n",
       "      <td>0.000000</td>\n",
       "      <td>0.0</td>\n",
       "      <td>0.0</td>\n",
       "      <td>...</td>\n",
       "      <td>0.0</td>\n",
       "      <td>0.0</td>\n",
       "      <td>0.0</td>\n",
       "      <td>0.086261</td>\n",
       "      <td>0.000000</td>\n",
       "      <td>0.0</td>\n",
       "      <td>0.0</td>\n",
       "      <td>0.0</td>\n",
       "      <td>0.0</td>\n",
       "      <td>0.0</td>\n",
       "    </tr>\n",
       "    <tr>\n",
       "      <td>2</td>\n",
       "      <td>0.0</td>\n",
       "      <td>0.0</td>\n",
       "      <td>0.078689</td>\n",
       "      <td>0.079028</td>\n",
       "      <td>0.0</td>\n",
       "      <td>0.0</td>\n",
       "      <td>0.0</td>\n",
       "      <td>0.079953</td>\n",
       "      <td>0.0</td>\n",
       "      <td>0.0</td>\n",
       "      <td>...</td>\n",
       "      <td>0.0</td>\n",
       "      <td>0.0</td>\n",
       "      <td>0.0</td>\n",
       "      <td>0.000000</td>\n",
       "      <td>0.091656</td>\n",
       "      <td>0.0</td>\n",
       "      <td>0.0</td>\n",
       "      <td>0.0</td>\n",
       "      <td>0.0</td>\n",
       "      <td>0.0</td>\n",
       "    </tr>\n",
       "    <tr>\n",
       "      <td>3</td>\n",
       "      <td>0.0</td>\n",
       "      <td>0.0</td>\n",
       "      <td>0.000000</td>\n",
       "      <td>0.000000</td>\n",
       "      <td>0.0</td>\n",
       "      <td>0.0</td>\n",
       "      <td>0.0</td>\n",
       "      <td>0.000000</td>\n",
       "      <td>0.0</td>\n",
       "      <td>0.0</td>\n",
       "      <td>...</td>\n",
       "      <td>0.0</td>\n",
       "      <td>0.0</td>\n",
       "      <td>0.0</td>\n",
       "      <td>0.000000</td>\n",
       "      <td>0.000000</td>\n",
       "      <td>0.0</td>\n",
       "      <td>0.0</td>\n",
       "      <td>0.0</td>\n",
       "      <td>0.0</td>\n",
       "      <td>0.0</td>\n",
       "    </tr>\n",
       "    <tr>\n",
       "      <td>4</td>\n",
       "      <td>0.0</td>\n",
       "      <td>0.0</td>\n",
       "      <td>0.000000</td>\n",
       "      <td>0.000000</td>\n",
       "      <td>0.0</td>\n",
       "      <td>0.0</td>\n",
       "      <td>0.0</td>\n",
       "      <td>0.000000</td>\n",
       "      <td>0.0</td>\n",
       "      <td>0.0</td>\n",
       "      <td>...</td>\n",
       "      <td>0.0</td>\n",
       "      <td>0.0</td>\n",
       "      <td>0.0</td>\n",
       "      <td>0.107972</td>\n",
       "      <td>0.000000</td>\n",
       "      <td>0.0</td>\n",
       "      <td>0.0</td>\n",
       "      <td>0.0</td>\n",
       "      <td>0.0</td>\n",
       "      <td>0.0</td>\n",
       "    </tr>\n",
       "  </tbody>\n",
       "</table>\n",
       "<p>5 rows × 500 columns</p>\n",
       "</div>"
      ],
      "text/plain": [
       "   Unnamed: 1    1        10         2    3  aercn  afer        al  alhugh  \\\n",
       "0         0.0  0.0  0.000000  0.000000  0.0    0.0   0.0  0.000000     0.0   \n",
       "1         0.0  0.0  0.000000  0.000000  0.0    0.0   0.0  0.000000     0.0   \n",
       "2         0.0  0.0  0.078689  0.079028  0.0    0.0   0.0  0.079953     0.0   \n",
       "3         0.0  0.0  0.000000  0.000000  0.0    0.0   0.0  0.000000     0.0   \n",
       "4         0.0  0.0  0.000000  0.000000  0.0    0.0   0.0  0.000000     0.0   \n",
       "\n",
       "   ann  ...  wrk  wrl  wrng       wul      wuln    x   ye   yu  zbe  zng  \n",
       "0  0.0  ...  0.0  0.0   0.0  0.000000  0.000000  0.0  0.0  0.0  0.0  0.0  \n",
       "1  0.0  ...  0.0  0.0   0.0  0.086261  0.000000  0.0  0.0  0.0  0.0  0.0  \n",
       "2  0.0  ...  0.0  0.0   0.0  0.000000  0.091656  0.0  0.0  0.0  0.0  0.0  \n",
       "3  0.0  ...  0.0  0.0   0.0  0.000000  0.000000  0.0  0.0  0.0  0.0  0.0  \n",
       "4  0.0  ...  0.0  0.0   0.0  0.107972  0.000000  0.0  0.0  0.0  0.0  0.0  \n",
       "\n",
       "[5 rows x 500 columns]"
      ]
     },
     "execution_count": 202,
     "metadata": {},
     "output_type": "execute_result"
    }
   ],
   "source": [
    "test=test.drop(['Unnamed: 0'],axis=1)\n",
    "test.head()"
   ]
  },
  {
   "cell_type": "code",
   "execution_count": 71,
   "metadata": {},
   "outputs": [],
   "source": [
    "Y_train=train_df['Label']"
   ]
  },
  {
   "cell_type": "code",
   "execution_count": 72,
   "metadata": {},
   "outputs": [],
   "source": [
    "y=test_df['Label']"
   ]
  },
  {
   "cell_type": "code",
   "execution_count": 136,
   "metadata": {},
   "outputs": [
    {
     "name": "stderr",
     "output_type": "stream",
     "text": [
      "C:\\Users\\kkbal\\Anaconda3\\lib\\site-packages\\sklearn\\linear_model\\logistic.py:432: FutureWarning: Default solver will be changed to 'lbfgs' in 0.22. Specify a solver to silence this warning.\n",
      "  FutureWarning)\n"
     ]
    }
   ],
   "source": [
    "## Model building \n",
    "\n",
    "from sklearn.linear_model import LogisticRegression\n",
    "\n",
    "log=LogisticRegression(C=0.5)\n",
    "\n",
    "fit=log.fit(train,Y_train)"
   ]
  },
  {
   "cell_type": "code",
   "execution_count": 139,
   "metadata": {},
   "outputs": [
    {
     "data": {
      "text/plain": [
       "0.81284"
      ]
     },
     "execution_count": 139,
     "metadata": {},
     "output_type": "execute_result"
    }
   ],
   "source": [
    "## Train data accuracy\n",
    "pred=log.predict(train)\n",
    "metrics.accuracy_score(Y_train,pred)"
   ]
  },
  {
   "cell_type": "code",
   "execution_count": 140,
   "metadata": {},
   "outputs": [],
   "source": [
    "predict=log.predict(test)"
   ]
  },
  {
   "cell_type": "code",
   "execution_count": 141,
   "metadata": {},
   "outputs": [
    {
     "data": {
      "text/plain": [
       "0.81284"
      ]
     },
     "execution_count": 141,
     "metadata": {},
     "output_type": "execute_result"
    }
   ],
   "source": [
    "from sklearn.metrics import classification_report\n",
    "\n",
    "from sklearn import metrics\n",
    "\n",
    "metrics.accuracy_score(y,predict)"
   ]
  },
  {
   "cell_type": "code",
   "execution_count": 144,
   "metadata": {},
   "outputs": [
    {
     "data": {
      "text/plain": [
       "array([1], dtype=int64)"
      ]
     },
     "execution_count": 144,
     "metadata": {},
     "output_type": "execute_result"
    }
   ],
   "source": [
    "## checking the prediction of logistic regression\n",
    "\n",
    "cross=([\"\"\"\" I found the one and only comment about this movie entirely uninformative and altogether too harsh, s\n",
    "o I have decided to write my own. I first saw this movie when it came out and have caught it a few times more since then. \n",
    "First of all let me say that, overall, the things that this movie gets RIGHT are what make it worthwhile. \n",
    "It doesn't matter that it has some low budget quirks and other faults. It is worth watching. \n",
    "The idea of basing a movie on Walt Whitman's visit a restrictive, narrow-minded Anglo-Canadian \n",
    "community in Southern Ontario and bringing people to life is a brilliant mis-en-scene. \n",
    "The movie is about the kind of humanizing catalysis Whitman inspired in people. And in that sense it is exactly accurate. \n",
    "The acting - especially by Rip Torn (Whitman) and Colm Feore as the doctor - is very good. \n",
    "The scripting and dialogue are strong and pay proper attention to the mores and inflections of the time.\n",
    "Overall, what's not to like? Besides, name another film in which Whitman is brought so vividly to life? \"\"\"])\n",
    "\n",
    "tran=tfid.transform(cross)\n",
    "\n",
    "cross=log.predict(tran)\n",
    "cross"
   ]
  },
  {
   "cell_type": "code",
   "execution_count": null,
   "metadata": {},
   "outputs": [],
   "source": [
    "## Tfidf model with 2 ngrams gives better accuracy with logistic Regression, Lets check whether the model is overfitted or\n",
    "## baised using cross validation."
   ]
  },
  {
   "cell_type": "code",
   "execution_count": 128,
   "metadata": {},
   "outputs": [
    {
     "name": "stderr",
     "output_type": "stream",
     "text": [
      "C:\\Users\\kkbal\\Anaconda3\\lib\\site-packages\\sklearn\\linear_model\\logistic.py:432: FutureWarning: Default solver will be changed to 'lbfgs' in 0.22. Specify a solver to silence this warning.\n",
      "  FutureWarning)\n",
      "C:\\Users\\kkbal\\Anaconda3\\lib\\site-packages\\sklearn\\linear_model\\logistic.py:432: FutureWarning: Default solver will be changed to 'lbfgs' in 0.22. Specify a solver to silence this warning.\n",
      "  FutureWarning)\n",
      "C:\\Users\\kkbal\\Anaconda3\\lib\\site-packages\\sklearn\\linear_model\\logistic.py:432: FutureWarning: Default solver will be changed to 'lbfgs' in 0.22. Specify a solver to silence this warning.\n",
      "  FutureWarning)\n",
      "C:\\Users\\kkbal\\Anaconda3\\lib\\site-packages\\sklearn\\linear_model\\logistic.py:432: FutureWarning: Default solver will be changed to 'lbfgs' in 0.22. Specify a solver to silence this warning.\n",
      "  FutureWarning)\n",
      "C:\\Users\\kkbal\\Anaconda3\\lib\\site-packages\\sklearn\\linear_model\\logistic.py:432: FutureWarning: Default solver will be changed to 'lbfgs' in 0.22. Specify a solver to silence this warning.\n",
      "  FutureWarning)\n"
     ]
    }
   ],
   "source": [
    "from sklearn.model_selection import cross_val_score\n",
    "\n",
    "cv=cross_val_score(log,train,Y_train,cv=5,scoring='accuracy')"
   ]
  },
  {
   "cell_type": "code",
   "execution_count": 115,
   "metadata": {},
   "outputs": [
    {
     "name": "stdout",
     "output_type": "stream",
     "text": [
      "[0.7914 0.807  0.8162 0.8022 0.799 ]\n"
     ]
    }
   ],
   "source": [
    "print(cv)"
   ]
  },
  {
   "cell_type": "code",
   "execution_count": null,
   "metadata": {},
   "outputs": [],
   "source": [
    "## This shows the Logistic model has accuracy of 80% and let us look at top features"
   ]
  },
  {
   "cell_type": "code",
   "execution_count": 124,
   "metadata": {},
   "outputs": [
    {
     "name": "stderr",
     "output_type": "stream",
     "text": [
      "C:\\Users\\kkbal\\Anaconda3\\lib\\site-packages\\sklearn\\ensemble\\forest.py:245: FutureWarning: The default value of n_estimators will change from 10 in version 0.20 to 100 in 0.22.\n",
      "  \"10 in version 0.20 to 100 in 0.22.\", FutureWarning)\n"
     ]
    }
   ],
   "source": [
    "from sklearn.ensemble import RandomForestRegressor\n",
    "reg=RandomForestRegressor()\n",
    "\n",
    "tr=reg.fit(train,Y_train)"
   ]
  },
  {
   "cell_type": "code",
   "execution_count": 125,
   "metadata": {},
   "outputs": [],
   "source": [
    "train_pred=reg.predict(train)"
   ]
  },
  {
   "cell_type": "code",
   "execution_count": 126,
   "metadata": {},
   "outputs": [
    {
     "data": {
      "text/plain": [
       "0.9878"
      ]
     },
     "execution_count": 126,
     "metadata": {},
     "output_type": "execute_result"
    }
   ],
   "source": [
    "from sklearn.metrics import accuracy_score\n",
    "\n",
    "accuracy_score(Y_train,train_pred.round())"
   ]
  },
  {
   "cell_type": "code",
   "execution_count": 127,
   "metadata": {},
   "outputs": [],
   "source": [
    "pred=reg.predict(test)"
   ]
  },
  {
   "cell_type": "code",
   "execution_count": 78,
   "metadata": {},
   "outputs": [
    {
     "data": {
      "text/plain": [
       "0.98812"
      ]
     },
     "execution_count": 78,
     "metadata": {},
     "output_type": "execute_result"
    }
   ],
   "source": [
    "accuracy_score(y,pred.round())"
   ]
  },
  {
   "cell_type": "code",
   "execution_count": 292,
   "metadata": {},
   "outputs": [
    {
     "data": {
      "text/plain": [
       "<matplotlib.axes._subplots.AxesSubplot at 0x2595f83f4a8>"
      ]
     },
     "execution_count": 292,
     "metadata": {},
     "output_type": "execute_result"
    },
    {
     "data": {
      "image/png": "[encoded data removed]",
      "text/plain": [
       "<Figure size 432x288 with 1 Axes>"
      ]
     },
     "metadata": {
      "needs_background": "light"
     },
     "output_type": "display_data"
    }
   ],
   "source": [
    "## This gives the important features and their corresponding weightage,lowest frequency words\n",
    "imp=pd.Series(reg.feature_importances_,index=col)\n",
    "imp_low=imp.sort_values()[:10]\n",
    "imp_low.plot(kind='bar')"
   ]
  },
  {
   "cell_type": "code",
   "execution_count": 293,
   "metadata": {},
   "outputs": [
    {
     "data": {
      "text/plain": [
       "<matplotlib.axes._subplots.AxesSubplot at 0x2595f8dfac8>"
      ]
     },
     "execution_count": 293,
     "metadata": {},
     "output_type": "execute_result"
    },
    {
     "data": {
      "image/png": "[encoded data removed]",
      "text/plain": [
       "<Figure size 432x288 with 1 Axes>"
      ]
     },
     "metadata": {
      "needs_background": "light"
     },
     "output_type": "display_data"
    }
   ],
   "source": [
    "## Gives highest frequency words\n",
    "highest_freq=imp.sort_values()[490:500]\n",
    "highest_freq.plot(kind='bar')"
   ]
  },
  {
   "cell_type": "code",
   "execution_count": 294,
   "metadata": {
    "scrolled": false
   },
   "outputs": [
    {
     "data": {
      "text/plain": [
       "Text(0.5, 1.0, 'Important characterd to classify postive and negative')"
      ]
     },
     "execution_count": 294,
     "metadata": {},
     "output_type": "execute_result"
    },
    {
     "data": {
      "image/png": "[encoded data removed]",
      "text/plain": [
       "<Figure size 576x1080 with 1 Axes>"
      ]
     },
     "metadata": {
      "needs_background": "light"
     },
     "output_type": "display_data"
    }
   ],
   "source": [
    "## importantwords\n",
    "sort=(imp[:30]).sort_values()\n",
    "plt.figure(figsize=(8,15))\n",
    "sort.plot(kind='barh')\n",
    "plt.title('Important characterd to classify postive and negative')"
   ]
  },
  {
   "cell_type": "code",
   "execution_count": 132,
   "metadata": {},
   "outputs": [],
   "source": [
    "tr=reg.fit(train,Y_train)"
   ]
  },
  {
   "cell_type": "code",
   "execution_count": 133,
   "metadata": {},
   "outputs": [
    {
     "data": {
      "text/plain": [
       "0.98656"
      ]
     },
     "execution_count": 133,
     "metadata": {},
     "output_type": "execute_result"
    }
   ],
   "source": [
    "train_pred=reg.predict(train)\n",
    "accuracy_score(Y_train,train_pred.round())"
   ]
  },
  {
   "cell_type": "code",
   "execution_count": 134,
   "metadata": {},
   "outputs": [],
   "source": [
    "pred=reg.predict(test)"
   ]
  },
  {
   "cell_type": "code",
   "execution_count": 135,
   "metadata": {},
   "outputs": [
    {
     "data": {
      "text/plain": [
       "0.98656"
      ]
     },
     "execution_count": 135,
     "metadata": {},
     "output_type": "execute_result"
    }
   ],
   "source": [
    "accuracy_score(y,pred.round())"
   ]
  },
  {
   "cell_type": "code",
   "execution_count": 131,
   "metadata": {},
   "outputs": [
    {
     "data": {
      "text/plain": [
       "GridSearchCV(cv=5, error_score='raise-deprecating',\n",
       "             estimator=RandomForestRegressor(bootstrap=True, criterion='mse',\n",
       "                                             max_depth=None,\n",
       "                                             max_features='auto',\n",
       "                                             max_leaf_nodes=None,\n",
       "                                             min_impurity_decrease=0.0,\n",
       "                                             min_impurity_split=None,\n",
       "                                             min_samples_leaf=1,\n",
       "                                             min_samples_split=2,\n",
       "                                             min_weight_fraction_leaf=0.0,\n",
       "                                             n_estimators=10, n_jobs=None,\n",
       "                                             oob_score=False, random_state=None,\n",
       "                                             verbose=0, warm_start=False),\n",
       "             iid='warn', n_jobs=-1,\n",
       "             param_grid={'max_depth': [3, 4, 5, 6],\n",
       "                         'max_features': [0.04, 0.06, 0.08],\n",
       "                         'min_samples_leaf': [0.04, 0.06, 0.08]},\n",
       "             pre_dispatch='2*n_jobs', refit=True, return_train_score=False,\n",
       "             scoring=None, verbose=0)"
      ]
     },
     "execution_count": 131,
     "metadata": {},
     "output_type": "execute_result"
    }
   ],
   "source": [
    "## Hyperparameter tuning:\n",
    "from sklearn.model_selection import GridSearchCV\n",
    "\n",
    "params_dt={'max_depth':[3,4,5,6],'min_samples_leaf':[0.04,0.06,0.08],'max_features':[0.04,0.06,0.08]}\n",
    "\n",
    "grid=GridSearchCV(estimator=reg,param_grid=params_dt,cv=5,n_jobs=-1)\n",
    "\n",
    "grid.fit(train,Y_train)\n"
   ]
  },
  {
   "cell_type": "code",
   "execution_count": 132,
   "metadata": {},
   "outputs": [],
   "source": [
    "### fittig the best parameter model\n",
    "grid.best_params_\n",
    "\n",
    "best_model=grid.best_estimator_"
   ]
  },
  {
   "cell_type": "code",
   "execution_count": 133,
   "metadata": {},
   "outputs": [
    {
     "data": {
      "text/plain": [
       "0.0955994466422938"
      ]
     },
     "execution_count": 133,
     "metadata": {},
     "output_type": "execute_result"
    }
   ],
   "source": [
    "best_model.score(train,Y_train)"
   ]
  },
  {
   "cell_type": "code",
   "execution_count": 134,
   "metadata": {},
   "outputs": [
    {
     "data": {
      "text/plain": [
       "0.0955994466422938"
      ]
     },
     "execution_count": 134,
     "metadata": {},
     "output_type": "execute_result"
    }
   ],
   "source": [
    "best_model.score(test,y)"
   ]
  },
  {
   "cell_type": "code",
   "execution_count": 140,
   "metadata": {},
   "outputs": [],
   "source": [
    "from sklearn.model_selection import cross_val_score\n",
    "\n",
    "from sklearn.metrics import accuracy_score\n",
    "\n",
    "cv=cross_val_score(reg,train,Y_train,cv=5)"
   ]
  },
  {
   "cell_type": "code",
   "execution_count": 142,
   "metadata": {},
   "outputs": [
    {
     "name": "stdout",
     "output_type": "stream",
     "text": [
      "[0.21162692 0.25528553 0.24681886 0.23475496 0.23088628]\n"
     ]
    }
   ],
   "source": [
    "print(cv)"
   ]
  },
  {
   "cell_type": "code",
   "execution_count": null,
   "metadata": {},
   "outputs": [],
   "source": [
    "### Model Comparision:\n",
    "# The naive bayes classifier with count vectorizer gave accuracy of 91% and in cross validation set it gave accuracy of 82% \n",
    "# which might resulted in overfitting of training data,we then used logistic regression with Tfidf with bi gram and got an \n",
    "# accuracy of about 81% in both cross and test validation set, to improve the model performance we used ensemble method,\n",
    "# Random Forest Regressor and obtained accuracy of 97%, trained a grid search cv to select the best parameter for the model\n",
    "# to fit the data with accuracy of 98%."
   ]
  },
  {
   "cell_type": "code",
   "execution_count": null,
   "metadata": {},
   "outputs": [],
   "source": [
    "## clustering"
   ]
  },
  {
   "cell_type": "code",
   "execution_count": 203,
   "metadata": {},
   "outputs": [],
   "source": [
    "df=pd.concat([train,test],axis=0)"
   ]
  },
  {
   "cell_type": "code",
   "execution_count": 144,
   "metadata": {},
   "outputs": [],
   "source": [
    "from scipy.sparse import csr_matrix\n",
    "train=csr_matrix(train)\n",
    "test=csr_matrix(test)"
   ]
  },
  {
   "cell_type": "code",
   "execution_count": 13,
   "metadata": {},
   "outputs": [],
   "source": [
    "import matplotlib.pyplot as plt"
   ]
  },
  {
   "cell_type": "code",
   "execution_count": 15,
   "metadata": {},
   "outputs": [],
   "source": [
    "from sklearn.cluster import KMeans\n",
    "\n",
    "wss=[]\n",
    "\n",
    "for i in range(1,11):\n",
    "    \n",
    "    km=KMeans(n_clusters=i,random_state=0)\n",
    "    km.fit(test)\n",
    "    wss.append(km.inertia_)\n",
    "    "
   ]
  },
  {
   "cell_type": "code",
   "execution_count": 14,
   "metadata": {},
   "outputs": [
    {
     "data": {
      "text/plain": [
       "[<matplotlib.lines.Line2D at 0x19e9346fd30>]"
      ]
     },
     "execution_count": 14,
     "metadata": {},
     "output_type": "execute_result"
    },
    {
     "data": {
      "image/png": "[encoded data removed]",
      "text/plain": [
       "<Figure size 432x288 with 1 Axes>"
      ]
     },
     "metadata": {
      "needs_background": "light"
     },
     "output_type": "display_data"
    }
   ],
   "source": [
    "## Kmeans with 5 clusters \n",
    "plt.plot(range(1,5),wss)"
   ]
  },
  {
   "cell_type": "code",
   "execution_count": 17,
   "metadata": {},
   "outputs": [
    {
     "data": {
      "text/plain": [
       "[<matplotlib.lines.Line2D at 0x19e943168d0>]"
      ]
     },
     "execution_count": 17,
     "metadata": {},
     "output_type": "execute_result"
    },
    {
     "data": {
      "image/png": "[encoded data removed]",
      "text/plain": [
       "<Figure size 432x288 with 1 Axes>"
      ]
     },
     "metadata": {
      "needs_background": "light"
     },
     "output_type": "display_data"
    }
   ],
   "source": [
    "## Kmeans with 11 clusters\n",
    "\n",
    "plt.plot(range(1,11),wss)"
   ]
  },
  {
   "cell_type": "code",
   "execution_count": 18,
   "metadata": {},
   "outputs": [
    {
     "data": {
      "text/plain": [
       "KMeans(algorithm='auto', copy_x=True, init='k-means++', max_iter=300,\n",
       "       n_clusters=2, n_init=10, n_jobs=None, precompute_distances='auto',\n",
       "       random_state=None, tol=0.0001, verbose=0)"
      ]
     },
     "execution_count": 18,
     "metadata": {},
     "output_type": "execute_result"
    }
   ],
   "source": [
    "from sklearn.cluster import KMeans\n",
    "\n",
    "model=KMeans(n_clusters=2)\n",
    "\n",
    "model.fit(train)"
   ]
  },
  {
   "cell_type": "code",
   "execution_count": 25,
   "metadata": {},
   "outputs": [],
   "source": [
    "labels=model.predict(train)"
   ]
  },
  {
   "cell_type": "code",
   "execution_count": 26,
   "metadata": {},
   "outputs": [
    {
     "name": "stdout",
     "output_type": "stream",
     "text": [
      "[0 0 1 ... 1 0 0]\n"
     ]
    }
   ],
   "source": [
    "print(labels)"
   ]
  },
  {
   "cell_type": "code",
   "execution_count": 27,
   "metadata": {},
   "outputs": [
    {
     "data": {
      "text/plain": [
       "(25000,)"
      ]
     },
     "execution_count": 27,
     "metadata": {},
     "output_type": "execute_result"
    }
   ],
   "source": [
    "labels.shape"
   ]
  },
  {
   "cell_type": "code",
   "execution_count": 28,
   "metadata": {
    "scrolled": true
   },
   "outputs": [
    {
     "data": {
      "image/png": "[encoded data removed]",
      "text/plain": [
       "<Figure size 432x288 with 1 Axes>"
      ]
     },
     "metadata": {
      "needs_background": "light"
     },
     "output_type": "display_data"
    }
   ],
   "source": [
    "import matplotlib.pyplot as plt\n",
    "\n",
    "plt.hist(labels)\n",
    "plt.show()"
   ]
  },
  {
   "cell_type": "code",
   "execution_count": 35,
   "metadata": {
    "scrolled": true
   },
   "outputs": [
    {
     "name": "stdout",
     "output_type": "stream",
     "text": [
      "[1 1 0 ... 0 0 1]\n"
     ]
    },
    {
     "data": {
      "image/png": "[encoded data removed]",
      "text/plain": [
       "<Figure size 432x288 with 1 Axes>"
      ]
     },
     "metadata": {
      "needs_background": "light"
     },
     "output_type": "display_data"
    }
   ],
   "source": [
    "la=model.predict(test)\n",
    "print(la)\n",
    "plt.hist(la)\n",
    "plt.show()"
   ]
  },
  {
   "cell_type": "code",
   "execution_count": null,
   "metadata": {},
   "outputs": [],
   "source": [
    "### This plot show how k-means has clustered postive and negative reviews"
   ]
  },
  {
   "cell_type": "code",
   "execution_count": null,
   "metadata": {},
   "outputs": [],
   "source": [
    "## Hirrechical clustering"
   ]
  },
  {
   "cell_type": "code",
   "execution_count": 204,
   "metadata": {},
   "outputs": [],
   "source": [
    "from sklearn.decomposition import TruncatedSVD\n",
    "\n",
    "tr=TruncatedSVD()\n",
    "tr.fit(df)\n",
    "df=tr.transform(df)"
   ]
  },
  {
   "cell_type": "code",
   "execution_count": 205,
   "metadata": {},
   "outputs": [],
   "source": [
    "from scipy.cluster.hierarchy import linkage \n",
    "\n",
    "mergings=linkage(df,method='complete')"
   ]
  },
  {
   "cell_type": "code",
   "execution_count": 206,
   "metadata": {},
   "outputs": [
    {
     "data": {
      "image/png": "[encoded data removed]",
      "text/plain": [
       "<Figure size 1080x1080 with 1 Axes>"
      ]
     },
     "metadata": {
      "needs_background": "light"
     },
     "output_type": "display_data"
    }
   ],
   "source": [
    "from scipy.cluster.hierarchy import linkage, dendrogram\n",
    "\n",
    "plt.figure(figsize=(15,15))\n",
    "dendrogram(mergings)\n",
    "plt.show()"
   ]
  },
  {
   "cell_type": "code",
   "execution_count": 52,
   "metadata": {},
   "outputs": [],
   "source": [
    "from sklearn.decomposition import PCA\n",
    "\n",
    "model=PCA()\n",
    "\n",
    "model.fit(train)\n",
    "\n",
    "transform=model.transform(test)"
   ]
  },
  {
   "cell_type": "code",
   "execution_count": 53,
   "metadata": {},
   "outputs": [
    {
     "name": "stdout",
     "output_type": "stream",
     "text": [
      "[[-1.63669122e-01  2.48237266e-01  1.84441642e-02 ...  5.69126315e-03\n",
      "  -1.31308496e-02 -2.50037420e-03]\n",
      " [-1.05744933e-02  1.83885371e-02 -3.83713900e-02 ...  5.92078898e-02\n",
      "   1.45432446e-01 -6.19863095e-02]\n",
      " [ 2.16987003e-01  6.57219484e-03  4.30146738e-03 ... -9.26519940e-03\n",
      "  -1.77793677e-02 -2.42444640e-03]\n",
      " ...\n",
      " [ 7.17456557e-02 -1.28445119e-02  2.63860910e-02 ...  9.27194612e-03\n",
      "   2.38573979e-03  8.25231024e-03]\n",
      " [ 5.57278247e-02  1.01221690e-01 -6.63145061e-02 ... -7.02077743e-03\n",
      "   1.01052429e-02  2.29065421e-04]\n",
      " [-4.40074833e-02  2.08936736e-02 -1.24340088e-01 ...  2.59391760e-02\n",
      "   3.22235839e-05 -2.61666813e-02]]\n"
     ]
    }
   ],
   "source": [
    "print(transform)"
   ]
  },
  {
   "cell_type": "code",
   "execution_count": 54,
   "metadata": {},
   "outputs": [
    {
     "name": "stdout",
     "output_type": "stream",
     "text": [
      "[[-0.00074679 -0.02205079  0.00353649 ...  0.0263427  -0.01395398\n",
      "  -0.01573944]\n",
      " [ 0.05065738  0.04543371  0.05841081 ...  0.05398806  0.02330274\n",
      "   0.00647827]\n",
      " [-0.0238773  -0.03080383 -0.03520922 ...  0.00549062 -0.05795954\n",
      "   0.02479842]\n",
      " ...\n",
      " [-0.03754154  0.01312124  0.02589142 ...  0.0075798   0.01942961\n",
      "   0.00117287]\n",
      " [ 0.01047016 -0.00644851 -0.01476265 ... -0.00156844 -0.00233291\n",
      "   0.00723016]\n",
      " [-0.00624865 -0.00363087 -0.00114565 ... -0.00775084 -0.01430383\n",
      "   0.00722696]]\n"
     ]
    }
   ],
   "source": [
    "print(model.components_)"
   ]
  },
  {
   "cell_type": "code",
   "execution_count": 55,
   "metadata": {},
   "outputs": [
    {
     "data": {
      "text/plain": [
       "<BarContainer object of 499 artists>"
      ]
     },
     "execution_count": 55,
     "metadata": {},
     "output_type": "execute_result"
    },
    {
     "data": {
      "image/png": "[encoded data removed]",
      "text/plain": [
       "<Figure size 1080x576 with 1 Axes>"
      ]
     },
     "metadata": {
      "needs_background": "light"
     },
     "output_type": "display_data"
    }
   ],
   "source": [
    "features=range(model.n_components_)\n",
    "plt.figure(figsize=(15,8))\n",
    "plt.bar(features,model.explained_variance_)"
   ]
  },
  {
   "cell_type": "code",
   "execution_count": 56,
   "metadata": {},
   "outputs": [
    {
     "name": "stdout",
     "output_type": "stream",
     "text": [
      "(25000, 2)\n"
     ]
    }
   ],
   "source": [
    "model=PCA(n_components=2)\n",
    "model.fit(train)\n",
    "trans=model.transform(test)\n",
    "print(trans.shape)"
   ]
  },
  {
   "cell_type": "code",
   "execution_count": 101,
   "metadata": {},
   "outputs": [
    {
     "data": {
      "text/plain": [
       "<matplotlib.collections.PathCollection at 0x19e930c16d8>"
      ]
     },
     "execution_count": 101,
     "metadata": {},
     "output_type": "execute_result"
    },
    {
     "data": {
      "image/png": "[encoded data removed]",
      "text/plain": [
       "<Figure size 1080x576 with 1 Axes>"
      ]
     },
     "metadata": {
      "needs_background": "light"
     },
     "output_type": "display_data"
    }
   ],
   "source": [
    "xs=trans[:,0]\n",
    "ys=trans[:,1]\n",
    "\n",
    "plt.figure(figsize=(15,8))\n",
    "plt.scatter(xs,ys,c=y)"
   ]
  },
  {
   "cell_type": "code",
   "execution_count": null,
   "metadata": {},
   "outputs": [],
   "source": [
    "## This shows how postive and negative review are varied using PCA"
   ]
  },
  {
   "cell_type": "code",
   "execution_count": null,
   "metadata": {},
   "outputs": [],
   "source": [
    "## K-means clustering with n_components=2, correctly classified postive about 85%, and hirerachial clustering classified cluster\n",
    "## into two different groups based on the ouptut of Tfidf vectorizer."
   ]
  },
  {
   "cell_type": "code",
   "execution_count": 175,
   "metadata": {},
   "outputs": [],
   "source": [
    "from sklearn.decomposition import TruncatedSVD\n",
    "\n",
    "tr=TruncatedSVD()\n",
    "tr.fit(train)\n",
    "train=tr.transform(train)"
   ]
  },
  {
   "cell_type": "code",
   "execution_count": 176,
   "metadata": {},
   "outputs": [],
   "source": [
    "test=tr.transform(test)"
   ]
  },
  {
   "cell_type": "code",
   "execution_count": 177,
   "metadata": {},
   "outputs": [],
   "source": [
    "### Kmeans with four clusters\n",
    "\n",
    "from sklearn.cluster import KMeans\n",
    "\n",
    "k=KMeans(n_clusters=4)\n",
    "\n",
    "model=k.fit(train)"
   ]
  },
  {
   "cell_type": "code",
   "execution_count": 178,
   "metadata": {},
   "outputs": [],
   "source": [
    "pred=k.predict(test)"
   ]
  },
  {
   "cell_type": "code",
   "execution_count": 179,
   "metadata": {},
   "outputs": [
    {
     "name": "stdout",
     "output_type": "stream",
     "text": [
      "[1 3 2 ... 0 1 3]\n"
     ]
    },
    {
     "data": {
      "text/plain": [
       "(25000,)"
      ]
     },
     "execution_count": 179,
     "metadata": {},
     "output_type": "execute_result"
    }
   ],
   "source": [
    "print(pred)\n",
    "pred.shape"
   ]
  },
  {
   "cell_type": "code",
   "execution_count": 180,
   "metadata": {},
   "outputs": [
    {
     "data": {
      "text/plain": [
       "[]"
      ]
     },
     "execution_count": 180,
     "metadata": {},
     "output_type": "execute_result"
    },
    {
     "data": {
      "image/png": "[encoded data removed]",
      "text/plain": [
       "<Figure size 432x288 with 1 Axes>"
      ]
     },
     "metadata": {
      "needs_background": "light"
     },
     "output_type": "display_data"
    }
   ],
   "source": [
    "plt.hist(pred)\n",
    "plt.plot()"
   ]
  },
  {
   "cell_type": "code",
   "execution_count": 181,
   "metadata": {},
   "outputs": [],
   "source": [
    "df_plot=pd.DataFrame(list(test),list(pred))\n",
    "df_plot=df_plot.reset_index()\n",
    "df_plot=df_plot.rename(columns={'index':'Clusters'})"
   ]
  },
  {
   "cell_type": "code",
   "execution_count": 182,
   "metadata": {},
   "outputs": [
    {
     "data": {
      "text/plain": [
       "<matplotlib.collections.PathCollection at 0x2589cf82e48>"
      ]
     },
     "execution_count": 182,
     "metadata": {},
     "output_type": "execute_result"
    },
    {
     "data": {
      "image/png": "[encoded data removed]",
      "text/plain": [
       "<Figure size 720x576 with 1 Axes>"
      ]
     },
     "metadata": {
      "needs_background": "light"
     },
     "output_type": "display_data"
    }
   ],
   "source": [
    "## Displaying how k-means has clustered the data\n",
    "plt.figure(figsize=(10,8))\n",
    "plt.scatter(df_plot[0],df_plot[1],c=pred)"
   ]
  },
  {
   "cell_type": "code",
   "execution_count": 183,
   "metadata": {},
   "outputs": [
    {
     "data": {
      "text/html": [
       "<div>\n",
       "<style scoped>\n",
       "    .dataframe tbody tr th:only-of-type {\n",
       "        vertical-align: middle;\n",
       "    }\n",
       "\n",
       "    .dataframe tbody tr th {\n",
       "        vertical-align: top;\n",
       "    }\n",
       "\n",
       "    .dataframe thead th {\n",
       "        text-align: right;\n",
       "    }\n",
       "</style>\n",
       "<table border=\"1\" class=\"dataframe\">\n",
       "  <thead>\n",
       "    <tr style=\"text-align: right;\">\n",
       "      <th></th>\n",
       "      <th>Clusters</th>\n",
       "    </tr>\n",
       "    <tr>\n",
       "      <th>Clusters</th>\n",
       "      <th></th>\n",
       "    </tr>\n",
       "  </thead>\n",
       "  <tbody>\n",
       "    <tr>\n",
       "      <td>0</td>\n",
       "      <td>7033</td>\n",
       "    </tr>\n",
       "    <tr>\n",
       "      <td>1</td>\n",
       "      <td>6531</td>\n",
       "    </tr>\n",
       "    <tr>\n",
       "      <td>2</td>\n",
       "      <td>4385</td>\n",
       "    </tr>\n",
       "    <tr>\n",
       "      <td>3</td>\n",
       "      <td>7051</td>\n",
       "    </tr>\n",
       "  </tbody>\n",
       "</table>\n",
       "</div>"
      ],
      "text/plain": [
       "          Clusters\n",
       "Clusters          \n",
       "0             7033\n",
       "1             6531\n",
       "2             4385\n",
       "3             7051"
      ]
     },
     "execution_count": 183,
     "metadata": {},
     "output_type": "execute_result"
    }
   ],
   "source": [
    "## number of clusters and their counts\n",
    "df_plot_g=df_plot.groupby(df_plot['Clusters']).agg({'Clusters':'count'})\n",
    "df_plot_g"
   ]
  },
  {
   "cell_type": "code",
   "execution_count": 184,
   "metadata": {},
   "outputs": [
    {
     "data": {
      "text/html": [
       "<div>\n",
       "<style scoped>\n",
       "    .dataframe tbody tr th:only-of-type {\n",
       "        vertical-align: middle;\n",
       "    }\n",
       "\n",
       "    .dataframe tbody tr th {\n",
       "        vertical-align: top;\n",
       "    }\n",
       "\n",
       "    .dataframe thead th {\n",
       "        text-align: right;\n",
       "    }\n",
       "</style>\n",
       "<table border=\"1\" class=\"dataframe\">\n",
       "  <thead>\n",
       "    <tr style=\"text-align: right;\">\n",
       "      <th></th>\n",
       "      <th>Clusters</th>\n",
       "      <th>0</th>\n",
       "      <th>1</th>\n",
       "    </tr>\n",
       "  </thead>\n",
       "  <tbody>\n",
       "    <tr>\n",
       "      <td>0</td>\n",
       "      <td>1</td>\n",
       "      <td>0.223627</td>\n",
       "      <td>0.254155</td>\n",
       "    </tr>\n",
       "    <tr>\n",
       "      <td>1</td>\n",
       "      <td>3</td>\n",
       "      <td>0.263622</td>\n",
       "      <td>0.008194</td>\n",
       "    </tr>\n",
       "    <tr>\n",
       "      <td>2</td>\n",
       "      <td>2</td>\n",
       "      <td>0.477677</td>\n",
       "      <td>-0.005092</td>\n",
       "    </tr>\n",
       "    <tr>\n",
       "      <td>3</td>\n",
       "      <td>0</td>\n",
       "      <td>0.280788</td>\n",
       "      <td>-0.066836</td>\n",
       "    </tr>\n",
       "    <tr>\n",
       "      <td>4</td>\n",
       "      <td>1</td>\n",
       "      <td>0.370323</td>\n",
       "      <td>0.226071</td>\n",
       "    </tr>\n",
       "    <tr>\n",
       "      <td>...</td>\n",
       "      <td>...</td>\n",
       "      <td>...</td>\n",
       "      <td>...</td>\n",
       "    </tr>\n",
       "    <tr>\n",
       "      <td>24995</td>\n",
       "      <td>1</td>\n",
       "      <td>0.333720</td>\n",
       "      <td>0.041224</td>\n",
       "    </tr>\n",
       "    <tr>\n",
       "      <td>24996</td>\n",
       "      <td>3</td>\n",
       "      <td>0.259964</td>\n",
       "      <td>0.084832</td>\n",
       "    </tr>\n",
       "    <tr>\n",
       "      <td>24997</td>\n",
       "      <td>0</td>\n",
       "      <td>0.350976</td>\n",
       "      <td>-0.018882</td>\n",
       "    </tr>\n",
       "    <tr>\n",
       "      <td>24998</td>\n",
       "      <td>1</td>\n",
       "      <td>0.381730</td>\n",
       "      <td>0.084398</td>\n",
       "    </tr>\n",
       "    <tr>\n",
       "      <td>24999</td>\n",
       "      <td>3</td>\n",
       "      <td>0.262009</td>\n",
       "      <td>0.016754</td>\n",
       "    </tr>\n",
       "  </tbody>\n",
       "</table>\n",
       "<p>25000 rows × 3 columns</p>\n",
       "</div>"
      ],
      "text/plain": [
       "       Clusters         0         1\n",
       "0             1  0.223627  0.254155\n",
       "1             3  0.263622  0.008194\n",
       "2             2  0.477677 -0.005092\n",
       "3             0  0.280788 -0.066836\n",
       "4             1  0.370323  0.226071\n",
       "...         ...       ...       ...\n",
       "24995         1  0.333720  0.041224\n",
       "24996         3  0.259964  0.084832\n",
       "24997         0  0.350976 -0.018882\n",
       "24998         1  0.381730  0.084398\n",
       "24999         3  0.262009  0.016754\n",
       "\n",
       "[25000 rows x 3 columns]"
      ]
     },
     "execution_count": 184,
     "metadata": {},
     "output_type": "execute_result"
    }
   ],
   "source": [
    "df_plot"
   ]
  },
  {
   "cell_type": "code",
   "execution_count": 187,
   "metadata": {},
   "outputs": [],
   "source": [
    "cross=([\"\"\"\" I found the one and only comment about this movie entirely uninformative and altogether too harsh, s\n",
    "o I have decided to write my own. I first saw this movie when it came out and have caught it a few times more since then. \n",
    "First of all let me say that, overall, the things that this movie gets RIGHT are what make it worthwhile. \n",
    "It doesn't matter that it has some low budget quirks and other faults. It is worth watching. \n",
    "The idea of basing a movie on Walt Whitman's visit a restrictive, narrow-minded Anglo-Canadian \n",
    "community in Southern Ontario and bringing people to life is a brilliant mis-en-scene. \n",
    "The movie is about the kind of humanizing catalysis Whitman inspired in people. And in that sense it is exactly accurate. \n",
    "The acting - especially by Rip Torn (Whitman) and Colm Feore as the doctor - is very good. \n",
    "The scripting and dialogue are strong and pay proper attention to the mores and inflections of the time.\n",
    "Overall, what's not to like? Besides, name another film in which Whitman is brought so vividly to life? \"\"\"])\n",
    "\n",
    "tran=tfid.transform(cross)\n",
    "trun=tr.transform(tran)\n"
   ]
  },
  {
   "cell_type": "code",
   "execution_count": 190,
   "metadata": {},
   "outputs": [
    {
     "data": {
      "text/plain": [
       "array([3])"
      ]
     },
     "execution_count": 190,
     "metadata": {},
     "output_type": "execute_result"
    }
   ],
   "source": [
    "## predicting to which cluster the above review belong to\n",
    "pred=k.predict(trun)\n",
    "pred"
   ]
  }
 ],
 "metadata": {
  "kernelspec": {
   "display_name": "Python 3",
   "language": "python",
   "name": "python3"
  },
  "language_info": {
   "codemirror_mode": {
    "name": "ipython",
    "version": 3
   },
   "file_extension": ".py",
   "mimetype": "text/x-python",
   "name": "python",
   "nbconvert_exporter": "python",
   "pygments_lexer": "ipython3",
   "version": "3.7.3"
  }
 },
 "nbformat": 4,
 "nbformat_minor": 2
}
